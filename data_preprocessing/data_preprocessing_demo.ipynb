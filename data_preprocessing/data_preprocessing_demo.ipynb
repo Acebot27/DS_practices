{
 "cells": [
  {
   "cell_type": "markdown",
   "metadata": {},
   "source": [
    "# Data preprocessing on Loans dataset\n",
    "\n",
    "- Below contains certain data acquisition and preprocessing operations before ingesting the data into ML model"
   ]
  },
  {
   "cell_type": "markdown",
   "metadata": {},
   "source": [
    "## 1. Importing Libraries"
   ]
  },
  {
   "cell_type": "code",
   "execution_count": null,
   "metadata": {},
   "outputs": [],
   "source": [
    "# 'os' module provides functions for interacting with the operating system\n",
    "import os\n",
    "\n",
    "# 'Numpy' is used for mathematical operations on large, multi-dimensional arrays and matrices\n",
    "import numpy as np\n",
    "\n",
    "# 'Pandas' is used for data manipulation and analysis\n",
    "import pandas as pd\n",
    "\n",
    "# 'Matplotlib' is a data visualization library for 2D and 3D plots, built on numpy\n",
    "from matplotlib import pyplot as plt\n",
    "%matplotlib inline\n",
    "\n",
    "# 'Seaborn' is based on matplotlib; used for plotting statistical graphics\n",
    "import seaborn as sns\n",
    "\n",
    "# to suppress warnings\n",
    "import warnings\n",
    "warnings.filterwarnings(\"ignore\")\n"
   ]
  },
  {
   "cell_type": "markdown",
   "metadata": {},
   "source": [
    "## 2. Importing data and exploration of it\n",
    "\n",
    "### Data Acquisition - Reading the Loans CSV files as Pandas Dataframe"
   ]
  },
  {
   "cell_type": "code",
   "execution_count": null,
   "metadata": {},
   "outputs": [],
   "source": [
    "# loading the data and setting the unique client_id as the index:\n",
    "df = pd.read_csv('./data/loans.csv', index_col = 'client_id')"
   ]
  },
  {
   "cell_type": "code",
   "execution_count": 6,
   "metadata": {},
   "outputs": [
    {
     "data": {
      "text/html": [
       "<div>\n",
       "<style scoped>\n",
       "    .dataframe tbody tr th:only-of-type {\n",
       "        vertical-align: middle;\n",
       "    }\n",
       "\n",
       "    .dataframe tbody tr th {\n",
       "        vertical-align: top;\n",
       "    }\n",
       "\n",
       "    .dataframe thead th {\n",
       "        text-align: right;\n",
       "    }\n",
       "</style>\n",
       "<table border=\"1\" class=\"dataframe\">\n",
       "  <thead>\n",
       "    <tr style=\"text-align: right;\">\n",
       "      <th></th>\n",
       "      <th>loan_type</th>\n",
       "      <th>loan_amount</th>\n",
       "      <th>repaid</th>\n",
       "      <th>loan_id</th>\n",
       "      <th>loan_start</th>\n",
       "      <th>loan_end</th>\n",
       "      <th>rate</th>\n",
       "    </tr>\n",
       "    <tr>\n",
       "      <th>client_id</th>\n",
       "      <th></th>\n",
       "      <th></th>\n",
       "      <th></th>\n",
       "      <th></th>\n",
       "      <th></th>\n",
       "      <th></th>\n",
       "      <th></th>\n",
       "    </tr>\n",
       "  </thead>\n",
       "  <tbody>\n",
       "    <tr>\n",
       "      <th>46109</th>\n",
       "      <td>home</td>\n",
       "      <td>13672</td>\n",
       "      <td>0</td>\n",
       "      <td>10243</td>\n",
       "      <td>2002-04-16</td>\n",
       "      <td>2003-12-20</td>\n",
       "      <td>2.15</td>\n",
       "    </tr>\n",
       "    <tr>\n",
       "      <th>46109</th>\n",
       "      <td>credit</td>\n",
       "      <td>9794</td>\n",
       "      <td>0</td>\n",
       "      <td>10984</td>\n",
       "      <td>2003-10-21</td>\n",
       "      <td>2005-07-17</td>\n",
       "      <td>1.25</td>\n",
       "    </tr>\n",
       "    <tr>\n",
       "      <th>46109</th>\n",
       "      <td>home</td>\n",
       "      <td>12734</td>\n",
       "      <td>1</td>\n",
       "      <td>10990</td>\n",
       "      <td>2006-02-01</td>\n",
       "      <td>2007-07-05</td>\n",
       "      <td>0.68</td>\n",
       "    </tr>\n",
       "    <tr>\n",
       "      <th>46109</th>\n",
       "      <td>cash</td>\n",
       "      <td>12518</td>\n",
       "      <td>1</td>\n",
       "      <td>10596</td>\n",
       "      <td>2010-12-08</td>\n",
       "      <td>2013-05-05</td>\n",
       "      <td>1.24</td>\n",
       "    </tr>\n",
       "    <tr>\n",
       "      <th>46109</th>\n",
       "      <td>credit</td>\n",
       "      <td>14049</td>\n",
       "      <td>1</td>\n",
       "      <td>11415</td>\n",
       "      <td>2010-07-07</td>\n",
       "      <td>2012-05-21</td>\n",
       "      <td>3.13</td>\n",
       "    </tr>\n",
       "  </tbody>\n",
       "</table>\n",
       "</div>"
      ],
      "text/plain": [
       "          loan_type  loan_amount  repaid  loan_id  loan_start    loan_end  \\\n",
       "client_id                                                                   \n",
       "46109          home        13672       0    10243  2002-04-16  2003-12-20   \n",
       "46109        credit         9794       0    10984  2003-10-21  2005-07-17   \n",
       "46109          home        12734       1    10990  2006-02-01  2007-07-05   \n",
       "46109          cash        12518       1    10596  2010-12-08  2013-05-05   \n",
       "46109        credit        14049       1    11415  2010-07-07  2012-05-21   \n",
       "\n",
       "           rate  \n",
       "client_id        \n",
       "46109      2.15  \n",
       "46109      1.25  \n",
       "46109      0.68  \n",
       "46109      1.24  \n",
       "46109      3.13  "
      ]
     },
     "execution_count": 6,
     "metadata": {},
     "output_type": "execute_result"
    }
   ],
   "source": [
    "# showing the first 5 rows of the dataset:\n",
    "df.head()"
   ]
  },
  {
   "cell_type": "markdown",
   "metadata": {},
   "source": [
    "### Exploration of the data"
   ]
  },
  {
   "cell_type": "code",
   "execution_count": 7,
   "metadata": {},
   "outputs": [
    {
     "data": {
      "text/plain": [
       "(443, 7)"
      ]
     },
     "execution_count": 7,
     "metadata": {},
     "output_type": "execute_result"
    }
   ],
   "source": [
    "# To check the Dimensions of the dataset:\n",
    "df.shape"
   ]
  },
  {
   "cell_type": "code",
   "execution_count": 8,
   "metadata": {},
   "outputs": [
    {
     "name": "stdout",
     "output_type": "stream",
     "text": [
      "<class 'pandas.core.frame.DataFrame'>\n",
      "Int64Index: 443 entries, 46109 to 26945\n",
      "Data columns (total 7 columns):\n",
      " #   Column       Non-Null Count  Dtype  \n",
      "---  ------       --------------  -----  \n",
      " 0   loan_type    443 non-null    object \n",
      " 1   loan_amount  443 non-null    int64  \n",
      " 2   repaid       443 non-null    int64  \n",
      " 3   loan_id      443 non-null    int64  \n",
      " 4   loan_start   443 non-null    object \n",
      " 5   loan_end     443 non-null    object \n",
      " 6   rate         443 non-null    float64\n",
      "dtypes: float64(1), int64(3), object(3)\n",
      "memory usage: 27.7+ KB\n"
     ]
    }
   ],
   "source": [
    "# Checking the info of the data:\n",
    "df.info()"
   ]
  },
  {
   "cell_type": "code",
   "execution_count": 9,
   "metadata": {},
   "outputs": [
    {
     "data": {
      "text/plain": [
       "loan_type       object\n",
       "loan_amount      int64\n",
       "repaid           int64\n",
       "loan_id          int64\n",
       "loan_start      object\n",
       "loan_end        object\n",
       "rate           float64\n",
       "dtype: object"
      ]
     },
     "execution_count": 9,
     "metadata": {},
     "output_type": "execute_result"
    }
   ],
   "source": [
    "# Checking the datatypes of the columns\n",
    "df.dtypes"
   ]
  },
  {
   "cell_type": "markdown",
   "metadata": {},
   "source": [
    "#### Converting data types of certain columns to proper meaningful data types based on their feature\n",
    "\n",
    "- Column 'loan_id' can be of object type instead integer format\n",
    "- Column 'repaid' can be of categorical type as it consists of binary values which are interpreted as yes or no\n",
    "- Columns 'loan_start' and 'loan_end' should be date type instead of object type"
   ]
  },
  {
   "cell_type": "code",
   "execution_count": 10,
   "metadata": {},
   "outputs": [],
   "source": [
    "# data type conversion for column -> loan_id:\n",
    "df['loan_id'] = df['loan_id'].astype('object')\n",
    "\n",
    "# data type conversion for column -> repaid:\n",
    "df['repaid'] = df['repaid'].astype('category')"
   ]
  },
  {
   "cell_type": "code",
   "execution_count": 11,
   "metadata": {},
   "outputs": [],
   "source": [
    "# data type conversion for columns -> loan_start and loan_end:\n",
    "df['loan_start'] = pd.to_datetime(df['loan_start'], format = '%Y-%m-%d')\n",
    "df['loan_end'] = pd.to_datetime(df['loan_end'], format = '%Y-%m-%d')"
   ]
  },
  {
   "cell_type": "code",
   "execution_count": 12,
   "metadata": {},
   "outputs": [
    {
     "data": {
      "text/plain": [
       "loan_type              object\n",
       "loan_amount             int64\n",
       "repaid               category\n",
       "loan_id                object\n",
       "loan_start     datetime64[ns]\n",
       "loan_end       datetime64[ns]\n",
       "rate                  float64\n",
       "dtype: object"
      ]
     },
     "execution_count": 12,
     "metadata": {},
     "output_type": "execute_result"
    }
   ],
   "source": [
    "# verifying whether the new data types have been updated or not\n",
    "df.dtypes"
   ]
  },
  {
   "cell_type": "code",
   "execution_count": 18,
   "metadata": {},
   "outputs": [
    {
     "data": {
      "text/html": [
       "<div>\n",
       "<style scoped>\n",
       "    .dataframe tbody tr th:only-of-type {\n",
       "        vertical-align: middle;\n",
       "    }\n",
       "\n",
       "    .dataframe tbody tr th {\n",
       "        vertical-align: top;\n",
       "    }\n",
       "\n",
       "    .dataframe thead th {\n",
       "        text-align: right;\n",
       "    }\n",
       "</style>\n",
       "<table border=\"1\" class=\"dataframe\">\n",
       "  <thead>\n",
       "    <tr style=\"text-align: right;\">\n",
       "      <th></th>\n",
       "      <th>loan_type</th>\n",
       "      <th>loan_amount</th>\n",
       "      <th>repaid</th>\n",
       "      <th>loan_id</th>\n",
       "      <th>loan_start</th>\n",
       "      <th>loan_end</th>\n",
       "      <th>rate</th>\n",
       "    </tr>\n",
       "    <tr>\n",
       "      <th>client_id</th>\n",
       "      <th></th>\n",
       "      <th></th>\n",
       "      <th></th>\n",
       "      <th></th>\n",
       "      <th></th>\n",
       "      <th></th>\n",
       "      <th></th>\n",
       "    </tr>\n",
       "  </thead>\n",
       "  <tbody>\n",
       "    <tr>\n",
       "      <th>46109</th>\n",
       "      <td>home</td>\n",
       "      <td>13672</td>\n",
       "      <td>0</td>\n",
       "      <td>10243</td>\n",
       "      <td>2002-04-16</td>\n",
       "      <td>2003-12-20</td>\n",
       "      <td>2.15</td>\n",
       "    </tr>\n",
       "    <tr>\n",
       "      <th>46109</th>\n",
       "      <td>credit</td>\n",
       "      <td>9794</td>\n",
       "      <td>0</td>\n",
       "      <td>10984</td>\n",
       "      <td>2003-10-21</td>\n",
       "      <td>2005-07-17</td>\n",
       "      <td>1.25</td>\n",
       "    </tr>\n",
       "    <tr>\n",
       "      <th>46109</th>\n",
       "      <td>home</td>\n",
       "      <td>12734</td>\n",
       "      <td>1</td>\n",
       "      <td>10990</td>\n",
       "      <td>2006-02-01</td>\n",
       "      <td>2007-07-05</td>\n",
       "      <td>0.68</td>\n",
       "    </tr>\n",
       "    <tr>\n",
       "      <th>46109</th>\n",
       "      <td>cash</td>\n",
       "      <td>12518</td>\n",
       "      <td>1</td>\n",
       "      <td>10596</td>\n",
       "      <td>2010-12-08</td>\n",
       "      <td>2013-05-05</td>\n",
       "      <td>1.24</td>\n",
       "    </tr>\n",
       "    <tr>\n",
       "      <th>46109</th>\n",
       "      <td>credit</td>\n",
       "      <td>14049</td>\n",
       "      <td>1</td>\n",
       "      <td>11415</td>\n",
       "      <td>2010-07-07</td>\n",
       "      <td>2012-05-21</td>\n",
       "      <td>3.13</td>\n",
       "    </tr>\n",
       "  </tbody>\n",
       "</table>\n",
       "</div>"
      ],
      "text/plain": [
       "          loan_type  loan_amount repaid loan_id loan_start   loan_end  rate\n",
       "client_id                                                                  \n",
       "46109          home        13672      0   10243 2002-04-16 2003-12-20  2.15\n",
       "46109        credit         9794      0   10984 2003-10-21 2005-07-17  1.25\n",
       "46109          home        12734      1   10990 2006-02-01 2007-07-05  0.68\n",
       "46109          cash        12518      1   10596 2010-12-08 2013-05-05  1.24\n",
       "46109        credit        14049      1   11415 2010-07-07 2012-05-21  3.13"
      ]
     },
     "execution_count": 18,
     "metadata": {},
     "output_type": "execute_result"
    }
   ],
   "source": [
    "df.head()"
   ]
  },
  {
   "cell_type": "markdown",
   "metadata": {},
   "source": [
    "As you can see in the above two output fields, values of the data in the table remains the same here, but only the data types of these columns changes."
   ]
  },
  {
   "cell_type": "markdown",
   "metadata": {},
   "source": [
    "#### Getting statistics summary of the data"
   ]
  },
  {
   "cell_type": "code",
   "execution_count": 15,
   "metadata": {},
   "outputs": [
    {
     "data": {
      "text/html": [
       "<div>\n",
       "<style scoped>\n",
       "    .dataframe tbody tr th:only-of-type {\n",
       "        vertical-align: middle;\n",
       "    }\n",
       "\n",
       "    .dataframe tbody tr th {\n",
       "        vertical-align: top;\n",
       "    }\n",
       "\n",
       "    .dataframe thead th {\n",
       "        text-align: right;\n",
       "    }\n",
       "</style>\n",
       "<table border=\"1\" class=\"dataframe\">\n",
       "  <thead>\n",
       "    <tr style=\"text-align: right;\">\n",
       "      <th></th>\n",
       "      <th>loan_amount</th>\n",
       "      <th>rate</th>\n",
       "    </tr>\n",
       "  </thead>\n",
       "  <tbody>\n",
       "    <tr>\n",
       "      <th>count</th>\n",
       "      <td>443.000000</td>\n",
       "      <td>443.000000</td>\n",
       "    </tr>\n",
       "    <tr>\n",
       "      <th>mean</th>\n",
       "      <td>7982.311512</td>\n",
       "      <td>3.217156</td>\n",
       "    </tr>\n",
       "    <tr>\n",
       "      <th>std</th>\n",
       "      <td>4172.891992</td>\n",
       "      <td>2.397168</td>\n",
       "    </tr>\n",
       "    <tr>\n",
       "      <th>min</th>\n",
       "      <td>559.000000</td>\n",
       "      <td>0.010000</td>\n",
       "    </tr>\n",
       "    <tr>\n",
       "      <th>25%</th>\n",
       "      <td>4232.500000</td>\n",
       "      <td>1.220000</td>\n",
       "    </tr>\n",
       "    <tr>\n",
       "      <th>50%</th>\n",
       "      <td>8320.000000</td>\n",
       "      <td>2.780000</td>\n",
       "    </tr>\n",
       "    <tr>\n",
       "      <th>75%</th>\n",
       "      <td>11739.000000</td>\n",
       "      <td>4.750000</td>\n",
       "    </tr>\n",
       "    <tr>\n",
       "      <th>max</th>\n",
       "      <td>14971.000000</td>\n",
       "      <td>12.620000</td>\n",
       "    </tr>\n",
       "  </tbody>\n",
       "</table>\n",
       "</div>"
      ],
      "text/plain": [
       "        loan_amount        rate\n",
       "count    443.000000  443.000000\n",
       "mean    7982.311512    3.217156\n",
       "std     4172.891992    2.397168\n",
       "min      559.000000    0.010000\n",
       "25%     4232.500000    1.220000\n",
       "50%     8320.000000    2.780000\n",
       "75%    11739.000000    4.750000\n",
       "max    14971.000000   12.620000"
      ]
     },
     "execution_count": 15,
     "metadata": {},
     "output_type": "execute_result"
    }
   ],
   "source": [
    "# Statistics summary for Numerical column data:\n",
    "df.describe()"
   ]
  },
  {
   "cell_type": "code",
   "execution_count": 16,
   "metadata": {},
   "outputs": [
    {
     "data": {
      "text/html": [
       "<div>\n",
       "<style scoped>\n",
       "    .dataframe tbody tr th:only-of-type {\n",
       "        vertical-align: middle;\n",
       "    }\n",
       "\n",
       "    .dataframe tbody tr th {\n",
       "        vertical-align: top;\n",
       "    }\n",
       "\n",
       "    .dataframe thead th {\n",
       "        text-align: right;\n",
       "    }\n",
       "</style>\n",
       "<table border=\"1\" class=\"dataframe\">\n",
       "  <thead>\n",
       "    <tr style=\"text-align: right;\">\n",
       "      <th></th>\n",
       "      <th>loan_type</th>\n",
       "      <th>repaid</th>\n",
       "      <th>loan_id</th>\n",
       "      <th>loan_start</th>\n",
       "      <th>loan_end</th>\n",
       "    </tr>\n",
       "  </thead>\n",
       "  <tbody>\n",
       "    <tr>\n",
       "      <th>count</th>\n",
       "      <td>443</td>\n",
       "      <td>443.0</td>\n",
       "      <td>443.0</td>\n",
       "      <td>443</td>\n",
       "      <td>443</td>\n",
       "    </tr>\n",
       "    <tr>\n",
       "      <th>unique</th>\n",
       "      <td>4</td>\n",
       "      <td>2.0</td>\n",
       "      <td>443.0</td>\n",
       "      <td>430</td>\n",
       "      <td>428</td>\n",
       "    </tr>\n",
       "    <tr>\n",
       "      <th>top</th>\n",
       "      <td>home</td>\n",
       "      <td>1.0</td>\n",
       "      <td>10239.0</td>\n",
       "      <td>2006-01-19 00:00:00</td>\n",
       "      <td>2004-05-16 00:00:00</td>\n",
       "    </tr>\n",
       "    <tr>\n",
       "      <th>freq</th>\n",
       "      <td>121</td>\n",
       "      <td>237.0</td>\n",
       "      <td>1.0</td>\n",
       "      <td>2</td>\n",
       "      <td>2</td>\n",
       "    </tr>\n",
       "    <tr>\n",
       "      <th>first</th>\n",
       "      <td>NaN</td>\n",
       "      <td>NaN</td>\n",
       "      <td>NaN</td>\n",
       "      <td>2000-01-26 00:00:00</td>\n",
       "      <td>2001-08-02 00:00:00</td>\n",
       "    </tr>\n",
       "    <tr>\n",
       "      <th>last</th>\n",
       "      <td>NaN</td>\n",
       "      <td>NaN</td>\n",
       "      <td>NaN</td>\n",
       "      <td>2014-11-11 00:00:00</td>\n",
       "      <td>2017-05-07 00:00:00</td>\n",
       "    </tr>\n",
       "  </tbody>\n",
       "</table>\n",
       "</div>"
      ],
      "text/plain": [
       "       loan_type  repaid  loan_id           loan_start             loan_end\n",
       "count        443   443.0    443.0                  443                  443\n",
       "unique         4     2.0    443.0                  430                  428\n",
       "top         home     1.0  10239.0  2006-01-19 00:00:00  2004-05-16 00:00:00\n",
       "freq         121   237.0      1.0                    2                    2\n",
       "first        NaN     NaN      NaN  2000-01-26 00:00:00  2001-08-02 00:00:00\n",
       "last         NaN     NaN      NaN  2014-11-11 00:00:00  2017-05-07 00:00:00"
      ]
     },
     "execution_count": 16,
     "metadata": {},
     "output_type": "execute_result"
    }
   ],
   "source": [
    "# Statistics summary for Categorical data:\n",
    "df.describe(exclude=[np.number])"
   ]
  },
  {
   "cell_type": "markdown",
   "metadata": {},
   "source": [
    "## 3. Missing Values detection and treatment\n",
    "\n",
    "### Detection of Missing Values"
   ]
  },
  {
   "cell_type": "code",
   "execution_count": 17,
   "metadata": {},
   "outputs": [
    {
     "data": {
      "text/plain": [
       "loan_type      0\n",
       "loan_amount    0\n",
       "repaid         0\n",
       "loan_id        0\n",
       "loan_start     0\n",
       "loan_end       0\n",
       "rate           0\n",
       "dtype: int64"
      ]
     },
     "execution_count": 17,
     "metadata": {},
     "output_type": "execute_result"
    }
   ],
   "source": [
    "# check for missing values\n",
    "df.isnull().sum()"
   ]
  },
  {
   "cell_type": "markdown",
   "metadata": {},
   "source": [
    "There are no missing values in the data."
   ]
  },
  {
   "cell_type": "markdown",
   "metadata": {},
   "source": [
    "### Treatment of missing values\n",
    "\n",
    "Missing values in the data are handled in two ways:\n",
    "- Deletion of such records\n",
    "- Data Imputation -> substituting missing data with a different value(like mean value or most frequent value or constant value).\n",
    "\n",
    "    Sk-learn library has an in-built function called Iterative Imputer to impute the missing values. Its sklearn documentation: https://scikit-learn.org/stable/modules/generated/sklearn.impute.IterativeImputer.html\n",
    "  Pandas has interpolate() method which replaces all the NaN values to interpolate(median) value of that column"
   ]
  },
  {
   "cell_type": "markdown",
   "metadata": {},
   "source": [
    "## 4. Outliers detection and treatment\n",
    "\n",
    "### Detection of Outliers\n",
    "\n",
    "Box plots are one of the best way to identify outliers in the data fields.\n",
    "These are plotted for the most important numerical data columns of our data."
   ]
  },
  {
   "cell_type": "code",
   "execution_count": 19,
   "metadata": {},
   "outputs": [
    {
     "data": {
      "image/png": "[encoded data removed]",
      "text/plain": [
       "<Figure size 432x288 with 1 Axes>"
      ]
     },
     "metadata": {
      "needs_background": "light"
     },
     "output_type": "display_data"
    }
   ],
   "source": [
    "# Box plot for column -> loan_amount\n",
    "df['loan_amount'].plot(kind='box')\n",
    "plt.show()"
   ]
  },
  {
   "cell_type": "code",
   "execution_count": 20,
   "metadata": {},
   "outputs": [
    {
     "data": {
      "image/png": "[encoded data removed]",
      "text/plain": [
       "<Figure size 432x288 with 1 Axes>"
      ]
     },
     "metadata": {
      "needs_background": "light"
     },
     "output_type": "display_data"
    }
   ],
   "source": [
    "# Box plot for column -> rate\n",
    "df['rate'].plot(kind='box')\n",
    "plt.show()"
   ]
  },
  {
   "cell_type": "markdown",
   "metadata": {},
   "source": [
    "We can see that there are no outliers in the 'loan_amount' column and some outliers are present in the 'rate' column."
   ]
  },
  {
   "cell_type": "markdown",
   "metadata": {},
   "source": [
    "### Treatment of Outliers:\n",
    "\n",
    "To treat for outliers can either cap the values or transform the data.\n"
   ]
  },
  {
   "cell_type": "code",
   "execution_count": 28,
   "metadata": {},
   "outputs": [
    {
     "data": {
      "image/png": "[encoded data removed]",
      "text/plain": [
       "<Figure size 576x360 with 1 Axes>"
      ]
     },
     "metadata": {
      "needs_background": "light"
     },
     "output_type": "display_data"
    }
   ],
   "source": [
    "# plotting the distribution of rate column values\n",
    "plt.figure(figsize=(8,5))\n",
    "sns.distplot(df['rate'])\n",
    "plt.show()"
   ]
  },
  {
   "cell_type": "markdown",
   "metadata": {},
   "source": [
    "Based on the above histogram plot, we see that the rate column values are positively skewed and may contain outliers so, we can use transformation techniques like log transformation to move this skewed data closer to the normal distribution."
   ]
  },
  {
   "cell_type": "markdown",
   "metadata": {},
   "source": [
    "#### I. Transformation Approach:\n",
    "##### a. SQRT Transformation:\n",
    "Here, we will convert the all the values of column 'rate' into their respective square root values and store it into new column 'sqrt_rate'"
   ]
  },
  {
   "cell_type": "code",
   "execution_count": 21,
   "metadata": {},
   "outputs": [],
   "source": [
    "# storing sqrt values of rate column's values in a new column\n",
    "# df['sqrt_rate'] = df['rate']**0.5\n",
    "df['sqrt_rate'] = np.sqrt(df['rate'])"
   ]
  },
  {
   "cell_type": "code",
   "execution_count": 22,
   "metadata": {},
   "outputs": [
    {
     "data": {
      "text/html": [
       "<div>\n",
       "<style scoped>\n",
       "    .dataframe tbody tr th:only-of-type {\n",
       "        vertical-align: middle;\n",
       "    }\n",
       "\n",
       "    .dataframe tbody tr th {\n",
       "        vertical-align: top;\n",
       "    }\n",
       "\n",
       "    .dataframe thead th {\n",
       "        text-align: right;\n",
       "    }\n",
       "</style>\n",
       "<table border=\"1\" class=\"dataframe\">\n",
       "  <thead>\n",
       "    <tr style=\"text-align: right;\">\n",
       "      <th></th>\n",
       "      <th>loan_type</th>\n",
       "      <th>loan_amount</th>\n",
       "      <th>repaid</th>\n",
       "      <th>loan_id</th>\n",
       "      <th>loan_start</th>\n",
       "      <th>loan_end</th>\n",
       "      <th>rate</th>\n",
       "      <th>sqrt_rate</th>\n",
       "    </tr>\n",
       "    <tr>\n",
       "      <th>client_id</th>\n",
       "      <th></th>\n",
       "      <th></th>\n",
       "      <th></th>\n",
       "      <th></th>\n",
       "      <th></th>\n",
       "      <th></th>\n",
       "      <th></th>\n",
       "      <th></th>\n",
       "    </tr>\n",
       "  </thead>\n",
       "  <tbody>\n",
       "    <tr>\n",
       "      <th>46109</th>\n",
       "      <td>home</td>\n",
       "      <td>13672</td>\n",
       "      <td>0</td>\n",
       "      <td>10243</td>\n",
       "      <td>2002-04-16</td>\n",
       "      <td>2003-12-20</td>\n",
       "      <td>2.15</td>\n",
       "      <td>1.466288</td>\n",
       "    </tr>\n",
       "    <tr>\n",
       "      <th>46109</th>\n",
       "      <td>credit</td>\n",
       "      <td>9794</td>\n",
       "      <td>0</td>\n",
       "      <td>10984</td>\n",
       "      <td>2003-10-21</td>\n",
       "      <td>2005-07-17</td>\n",
       "      <td>1.25</td>\n",
       "      <td>1.118034</td>\n",
       "    </tr>\n",
       "    <tr>\n",
       "      <th>46109</th>\n",
       "      <td>home</td>\n",
       "      <td>12734</td>\n",
       "      <td>1</td>\n",
       "      <td>10990</td>\n",
       "      <td>2006-02-01</td>\n",
       "      <td>2007-07-05</td>\n",
       "      <td>0.68</td>\n",
       "      <td>0.824621</td>\n",
       "    </tr>\n",
       "    <tr>\n",
       "      <th>46109</th>\n",
       "      <td>cash</td>\n",
       "      <td>12518</td>\n",
       "      <td>1</td>\n",
       "      <td>10596</td>\n",
       "      <td>2010-12-08</td>\n",
       "      <td>2013-05-05</td>\n",
       "      <td>1.24</td>\n",
       "      <td>1.113553</td>\n",
       "    </tr>\n",
       "    <tr>\n",
       "      <th>46109</th>\n",
       "      <td>credit</td>\n",
       "      <td>14049</td>\n",
       "      <td>1</td>\n",
       "      <td>11415</td>\n",
       "      <td>2010-07-07</td>\n",
       "      <td>2012-05-21</td>\n",
       "      <td>3.13</td>\n",
       "      <td>1.769181</td>\n",
       "    </tr>\n",
       "  </tbody>\n",
       "</table>\n",
       "</div>"
      ],
      "text/plain": [
       "          loan_type  loan_amount repaid loan_id loan_start   loan_end  rate  \\\n",
       "client_id                                                                     \n",
       "46109          home        13672      0   10243 2002-04-16 2003-12-20  2.15   \n",
       "46109        credit         9794      0   10984 2003-10-21 2005-07-17  1.25   \n",
       "46109          home        12734      1   10990 2006-02-01 2007-07-05  0.68   \n",
       "46109          cash        12518      1   10596 2010-12-08 2013-05-05  1.24   \n",
       "46109        credit        14049      1   11415 2010-07-07 2012-05-21  3.13   \n",
       "\n",
       "           sqrt_rate  \n",
       "client_id             \n",
       "46109       1.466288  \n",
       "46109       1.118034  \n",
       "46109       0.824621  \n",
       "46109       1.113553  \n",
       "46109       1.769181  "
      ]
     },
     "execution_count": 22,
     "metadata": {},
     "output_type": "execute_result"
    }
   ],
   "source": [
    "df.head()"
   ]
  },
  {
   "cell_type": "code",
   "execution_count": 24,
   "metadata": {},
   "outputs": [
    {
     "data": {
      "image/png": "[encoded data removed]",
      "text/plain": [
       "<Figure size 1080x360 with 2 Axes>"
      ]
     },
     "metadata": {
      "needs_background": "light"
     },
     "output_type": "display_data"
    }
   ],
   "source": [
    "# plotting the distribution\n",
    "\n",
    "fig, axes = plt.subplots(1,2, figsize=(15,5))\n",
    "sns.distplot(df['rate'], ax=axes[0])            # distplot() generates histogram plots of a list values\n",
    "sns.distplot(df['sqrt_rate'], ax=axes[1])\n",
    "\n",
    "plt.show()"
   ]
  },
  {
   "cell_type": "markdown",
   "metadata": {},
   "source": [
    "As we can see here, after performing sqrt transformation on the rate column data we are able to remove its skewness and get the data as nearly normal distribution format.\n",
    "\n",
    "Below calculating the skewness and kurtosis to statistically verify that the data is normally distributed and is useful for further analysis or not.\n",
    "\n",
    "<b>NOTE:\n",
    "- skewness within -0.5 to 0.5 indicates that data has normal distribution\n",
    "- kurtosis within range -2 to 2 indicates a good normal distribution and lesser outliers presence</b>"
   ]
  },
  {
   "cell_type": "code",
   "execution_count": 32,
   "metadata": {},
   "outputs": [
    {
     "name": "stdout",
     "output_type": "stream",
     "text": [
      "The skewness of the original data is 0.884204614329943\n",
      "The skewness of the SQRT transformed data is 0.04964154055528862\n",
      "\n",
      "The kurtosis of the original data is 0.4243716514373652\n",
      "The kurtosis of the SQRT transformed data is -0.6318437642052039\n"
     ]
    }
   ],
   "source": [
    "# checking the skewness, kurtosis between the original and transformed data:\n",
    "print(\"The skewness of the original data is {}\".format(df.rate.skew()))\n",
    "print('The skewness of the SQRT transformed data is {}'.format(df.sqrt_rate.skew()))\n",
    "\n",
    "print('')\n",
    "\n",
    "print(\"The kurtosis of the original data is {}\".format(df.rate.kurt()))\n",
    "print(\"The kurtosis of the SQRT transformed data is {}\".format(df.sqrt_rate.kurt()))"
   ]
  },
  {
   "cell_type": "markdown",
   "metadata": {},
   "source": [
    "##### Inference of SQRT Transformation:\n",
    "- The Rate column was right skewed earlier.\n",
    "- The transformed SQRT rate, on the right graph resembles normal distribution now.\n",
    "- The skewness and kurtosis have reduced significantly for the transformed SQRT column."
   ]
  },
  {
   "cell_type": "markdown",
   "metadata": {},
   "source": [
    "##### b. Log Transformation:\n",
    "\n",
    "Here, we will convert the all the values of column 'rate' into their respective logarithmic values and store it into new column 'log_rate'"
   ]
  },
  {
   "cell_type": "code",
   "execution_count": 37,
   "metadata": {},
   "outputs": [],
   "source": [
    "# storing logarithmic values of rate column's values in a new column\n",
    "df['log_rate'] = np.log(df['rate'])\n",
    "\n",
    "## Using Lambda function :\n",
    "# df['log_rate'] = df['rate'].apply(lambda x:np.log(x))"
   ]
  },
  {
   "cell_type": "code",
   "execution_count": 38,
   "metadata": {},
   "outputs": [
    {
     "data": {
      "text/html": [
       "<div>\n",
       "<style scoped>\n",
       "    .dataframe tbody tr th:only-of-type {\n",
       "        vertical-align: middle;\n",
       "    }\n",
       "\n",
       "    .dataframe tbody tr th {\n",
       "        vertical-align: top;\n",
       "    }\n",
       "\n",
       "    .dataframe thead th {\n",
       "        text-align: right;\n",
       "    }\n",
       "</style>\n",
       "<table border=\"1\" class=\"dataframe\">\n",
       "  <thead>\n",
       "    <tr style=\"text-align: right;\">\n",
       "      <th></th>\n",
       "      <th>loan_type</th>\n",
       "      <th>loan_amount</th>\n",
       "      <th>repaid</th>\n",
       "      <th>loan_id</th>\n",
       "      <th>loan_start</th>\n",
       "      <th>loan_end</th>\n",
       "      <th>rate</th>\n",
       "      <th>sqrt_rate</th>\n",
       "      <th>log_rate</th>\n",
       "    </tr>\n",
       "    <tr>\n",
       "      <th>client_id</th>\n",
       "      <th></th>\n",
       "      <th></th>\n",
       "      <th></th>\n",
       "      <th></th>\n",
       "      <th></th>\n",
       "      <th></th>\n",
       "      <th></th>\n",
       "      <th></th>\n",
       "      <th></th>\n",
       "    </tr>\n",
       "  </thead>\n",
       "  <tbody>\n",
       "    <tr>\n",
       "      <th>46109</th>\n",
       "      <td>home</td>\n",
       "      <td>13672</td>\n",
       "      <td>0</td>\n",
       "      <td>10243</td>\n",
       "      <td>2002-04-16</td>\n",
       "      <td>2003-12-20</td>\n",
       "      <td>2.15</td>\n",
       "      <td>1.466288</td>\n",
       "      <td>0.765468</td>\n",
       "    </tr>\n",
       "    <tr>\n",
       "      <th>46109</th>\n",
       "      <td>credit</td>\n",
       "      <td>9794</td>\n",
       "      <td>0</td>\n",
       "      <td>10984</td>\n",
       "      <td>2003-10-21</td>\n",
       "      <td>2005-07-17</td>\n",
       "      <td>1.25</td>\n",
       "      <td>1.118034</td>\n",
       "      <td>0.223144</td>\n",
       "    </tr>\n",
       "    <tr>\n",
       "      <th>46109</th>\n",
       "      <td>home</td>\n",
       "      <td>12734</td>\n",
       "      <td>1</td>\n",
       "      <td>10990</td>\n",
       "      <td>2006-02-01</td>\n",
       "      <td>2007-07-05</td>\n",
       "      <td>0.68</td>\n",
       "      <td>0.824621</td>\n",
       "      <td>-0.385662</td>\n",
       "    </tr>\n",
       "    <tr>\n",
       "      <th>46109</th>\n",
       "      <td>cash</td>\n",
       "      <td>12518</td>\n",
       "      <td>1</td>\n",
       "      <td>10596</td>\n",
       "      <td>2010-12-08</td>\n",
       "      <td>2013-05-05</td>\n",
       "      <td>1.24</td>\n",
       "      <td>1.113553</td>\n",
       "      <td>0.215111</td>\n",
       "    </tr>\n",
       "    <tr>\n",
       "      <th>46109</th>\n",
       "      <td>credit</td>\n",
       "      <td>14049</td>\n",
       "      <td>1</td>\n",
       "      <td>11415</td>\n",
       "      <td>2010-07-07</td>\n",
       "      <td>2012-05-21</td>\n",
       "      <td>3.13</td>\n",
       "      <td>1.769181</td>\n",
       "      <td>1.141033</td>\n",
       "    </tr>\n",
       "  </tbody>\n",
       "</table>\n",
       "</div>"
      ],
      "text/plain": [
       "          loan_type  loan_amount repaid loan_id loan_start   loan_end  rate  \\\n",
       "client_id                                                                     \n",
       "46109          home        13672      0   10243 2002-04-16 2003-12-20  2.15   \n",
       "46109        credit         9794      0   10984 2003-10-21 2005-07-17  1.25   \n",
       "46109          home        12734      1   10990 2006-02-01 2007-07-05  0.68   \n",
       "46109          cash        12518      1   10596 2010-12-08 2013-05-05  1.24   \n",
       "46109        credit        14049      1   11415 2010-07-07 2012-05-21  3.13   \n",
       "\n",
       "           sqrt_rate  log_rate  \n",
       "client_id                       \n",
       "46109       1.466288  0.765468  \n",
       "46109       1.118034  0.223144  \n",
       "46109       0.824621 -0.385662  \n",
       "46109       1.113553  0.215111  \n",
       "46109       1.769181  1.141033  "
      ]
     },
     "execution_count": 38,
     "metadata": {},
     "output_type": "execute_result"
    }
   ],
   "source": [
    "df.head()"
   ]
  },
  {
   "cell_type": "code",
   "execution_count": 40,
   "metadata": {},
   "outputs": [
    {
     "name": "stdout",
     "output_type": "stream",
     "text": [
      "The skewness of the original data is 0.884204614329943\n",
      "The skewness of the SQRT transformed data is 0.04964154055528862\n",
      "The skewnss of the LOG transformed data is -1.5943217626331552\n",
      "\n",
      "The kurtosis of the original data is 0.4243716514373652\n",
      "The kurtosis of the SQRT transformed data is -0.6318437642052039\n",
      "The kurtosis of the LOG transformed data is 4.157026150198228\n"
     ]
    }
   ],
   "source": [
    "# skewness and kurtosis value of the original and transformed data:\n",
    "print(\"The skewness of the original data is {}\".format(df.rate.skew()))\n",
    "print('The skewness of the SQRT transformed data is {}'.format(df.sqrt_rate.skew()))\n",
    "print(\"The skewnss of the LOG transformed data is {}\".format(df['log_rate'].skew()))\n",
    "\n",
    "print('')\n",
    "\n",
    "print(\"The kurtosis of the original data is {}\".format(df.rate.kurt()))\n",
    "print(\"The kurtosis of the SQRT transformed data is {}\".format(df.sqrt_rate.kurt()))\n",
    "print(\"The kurtosis of the LOG transformed data is {}\".format(df['log_rate'].kurt()))"
   ]
  },
  {
   "cell_type": "code",
   "execution_count": 41,
   "metadata": {},
   "outputs": [
    {
     "data": {
      "image/png": "[encoded data removed]",
      "text/plain": [
       "<Figure size 1440x360 with 3 Axes>"
      ]
     },
     "metadata": {
      "needs_background": "light"
     },
     "output_type": "display_data"
    }
   ],
   "source": [
    "# plot the distributions of the original column and its transformed columns all together:\n",
    "fig, axes = plt.subplots(1,3,figsize=(20,5))\n",
    "\n",
    "sns.distplot(df['rate'], ax=axes[0])\n",
    "sns.distplot(df['sqrt_rate'], ax=axes[1])\n",
    "sns.distplot(df['log_rate'], ax=axes[2])\n",
    "\n",
    "plt.show()"
   ]
  },
  {
   "cell_type": "markdown",
   "metadata": {},
   "source": [
    "##### Inference of Log Transformation:\n",
    "\n",
    "- Here, Log Transformation made the rate left skewed and more peaked.\n",
    "- In this case, Log Transformation heavily manipulates the data.\n",
    "- So here, square root transformation seems more suitable"
   ]
  },
  {
   "cell_type": "markdown",
   "metadata": {},
   "source": [
    "##### Other Transformation Techniques:\n",
    "Below mentioned techniques are used to transform non-normal dependant variables into a normal shape\n",
    "- Box-Cox Transformation: Can be used be used on positive values only\n",
    "- Yeo-Johnson Transformation: Can be used on both positive and negative values\n",
    "\n",
    "There are inbuilt functions in Sci-kit Learn library called PowerTransformer for both of these transformations. Its sklearn documentation: https://scikit-learn.org/stable/modules/generated/sklearn.preprocessing.power_transform.html\n",
    "</br>\n",
    "Can also refer -> https://medium.com/@patricklcavins/using-scipys-powertransformer-3e2b792fd712"
   ]
  },
  {
   "cell_type": "markdown",
   "metadata": {},
   "source": [
    "#### II. Capping Approach:\n",
    "##### a. Z-Score approach to treat outliers:\n",
    "All the values above 3 standard deviation and below -3 standard deviation are outliers and can be removed."
   ]
  },
  {
   "cell_type": "code",
   "execution_count": 43,
   "metadata": {},
   "outputs": [
    {
     "data": {
      "text/html": [
       "<div>\n",
       "<style scoped>\n",
       "    .dataframe tbody tr th:only-of-type {\n",
       "        vertical-align: middle;\n",
       "    }\n",
       "\n",
       "    .dataframe tbody tr th {\n",
       "        vertical-align: top;\n",
       "    }\n",
       "\n",
       "    .dataframe thead th {\n",
       "        text-align: right;\n",
       "    }\n",
       "</style>\n",
       "<table border=\"1\" class=\"dataframe\">\n",
       "  <thead>\n",
       "    <tr style=\"text-align: right;\">\n",
       "      <th></th>\n",
       "      <th>loan_type</th>\n",
       "      <th>loan_amount</th>\n",
       "      <th>repaid</th>\n",
       "      <th>loan_id</th>\n",
       "      <th>loan_start</th>\n",
       "      <th>loan_end</th>\n",
       "      <th>rate</th>\n",
       "    </tr>\n",
       "    <tr>\n",
       "      <th>client_id</th>\n",
       "      <th></th>\n",
       "      <th></th>\n",
       "      <th></th>\n",
       "      <th></th>\n",
       "      <th></th>\n",
       "      <th></th>\n",
       "      <th></th>\n",
       "    </tr>\n",
       "  </thead>\n",
       "  <tbody>\n",
       "    <tr>\n",
       "      <th>46109</th>\n",
       "      <td>home</td>\n",
       "      <td>13672</td>\n",
       "      <td>0</td>\n",
       "      <td>10243</td>\n",
       "      <td>2002-04-16</td>\n",
       "      <td>2003-12-20</td>\n",
       "      <td>2.15</td>\n",
       "    </tr>\n",
       "    <tr>\n",
       "      <th>46109</th>\n",
       "      <td>credit</td>\n",
       "      <td>9794</td>\n",
       "      <td>0</td>\n",
       "      <td>10984</td>\n",
       "      <td>2003-10-21</td>\n",
       "      <td>2005-07-17</td>\n",
       "      <td>1.25</td>\n",
       "    </tr>\n",
       "    <tr>\n",
       "      <th>46109</th>\n",
       "      <td>home</td>\n",
       "      <td>12734</td>\n",
       "      <td>1</td>\n",
       "      <td>10990</td>\n",
       "      <td>2006-02-01</td>\n",
       "      <td>2007-07-05</td>\n",
       "      <td>0.68</td>\n",
       "    </tr>\n",
       "    <tr>\n",
       "      <th>46109</th>\n",
       "      <td>cash</td>\n",
       "      <td>12518</td>\n",
       "      <td>1</td>\n",
       "      <td>10596</td>\n",
       "      <td>2010-12-08</td>\n",
       "      <td>2013-05-05</td>\n",
       "      <td>1.24</td>\n",
       "    </tr>\n",
       "    <tr>\n",
       "      <th>46109</th>\n",
       "      <td>credit</td>\n",
       "      <td>14049</td>\n",
       "      <td>1</td>\n",
       "      <td>11415</td>\n",
       "      <td>2010-07-07</td>\n",
       "      <td>2012-05-21</td>\n",
       "      <td>3.13</td>\n",
       "    </tr>\n",
       "  </tbody>\n",
       "</table>\n",
       "</div>"
      ],
      "text/plain": [
       "          loan_type  loan_amount  repaid  loan_id  loan_start    loan_end  \\\n",
       "client_id                                                                   \n",
       "46109          home        13672       0    10243  2002-04-16  2003-12-20   \n",
       "46109        credit         9794       0    10984  2003-10-21  2005-07-17   \n",
       "46109          home        12734       1    10990  2006-02-01  2007-07-05   \n",
       "46109          cash        12518       1    10596  2010-12-08  2013-05-05   \n",
       "46109        credit        14049       1    11415  2010-07-07  2012-05-21   \n",
       "\n",
       "           rate  \n",
       "client_id        \n",
       "46109      2.15  \n",
       "46109      1.25  \n",
       "46109      0.68  \n",
       "46109      1.24  \n",
       "46109      3.13  "
      ]
     },
     "execution_count": 43,
     "metadata": {},
     "output_type": "execute_result"
    }
   ],
   "source": [
    "# loading the dataset and setting client id as index\n",
    "df1 = pd.read_csv('./data/loans.csv', index_col = 'client_id')\n",
    "df1.head()"
   ]
  },
  {
   "cell_type": "code",
   "execution_count": 44,
   "metadata": {},
   "outputs": [],
   "source": [
    "# modifying the data types again\n",
    "# loan_id:\n",
    "df1['loan_id'] = df1['loan_id'].astype('object')\n",
    "\n",
    "# repaid:\n",
    "df1['repaid'] = df1['repaid'].astype('category')\n",
    "\n",
    "# loan_start:\n",
    "df1['loan_start'] = pd.to_datetime(df1['loan_start'], format = '%Y-%m-%d')\n",
    "\n",
    "# loan_end:\n",
    "df1['loan_end'] = pd.to_datetime(df1['loan_end'], format = '%Y-%m-%d')"
   ]
  },
  {
   "cell_type": "code",
   "execution_count": 45,
   "metadata": {},
   "outputs": [],
   "source": [
    "# 'SciPy' is used to perform scientific computations\n",
    "import scipy.stats as stats"
   ]
  },
  {
   "cell_type": "code",
   "execution_count": 46,
   "metadata": {},
   "outputs": [
    {
     "data": {
      "text/html": [
       "<div>\n",
       "<style scoped>\n",
       "    .dataframe tbody tr th:only-of-type {\n",
       "        vertical-align: middle;\n",
       "    }\n",
       "\n",
       "    .dataframe tbody tr th {\n",
       "        vertical-align: top;\n",
       "    }\n",
       "\n",
       "    .dataframe thead th {\n",
       "        text-align: right;\n",
       "    }\n",
       "</style>\n",
       "<table border=\"1\" class=\"dataframe\">\n",
       "  <thead>\n",
       "    <tr style=\"text-align: right;\">\n",
       "      <th></th>\n",
       "      <th>loan_type</th>\n",
       "      <th>loan_amount</th>\n",
       "      <th>repaid</th>\n",
       "      <th>loan_id</th>\n",
       "      <th>loan_start</th>\n",
       "      <th>loan_end</th>\n",
       "      <th>rate</th>\n",
       "      <th>ZR</th>\n",
       "    </tr>\n",
       "    <tr>\n",
       "      <th>client_id</th>\n",
       "      <th></th>\n",
       "      <th></th>\n",
       "      <th></th>\n",
       "      <th></th>\n",
       "      <th></th>\n",
       "      <th></th>\n",
       "      <th></th>\n",
       "      <th></th>\n",
       "    </tr>\n",
       "  </thead>\n",
       "  <tbody>\n",
       "    <tr>\n",
       "      <th>46109</th>\n",
       "      <td>home</td>\n",
       "      <td>13672</td>\n",
       "      <td>0</td>\n",
       "      <td>10243</td>\n",
       "      <td>2002-04-16</td>\n",
       "      <td>2003-12-20</td>\n",
       "      <td>2.15</td>\n",
       "      <td>-0.445677</td>\n",
       "    </tr>\n",
       "    <tr>\n",
       "      <th>46109</th>\n",
       "      <td>credit</td>\n",
       "      <td>9794</td>\n",
       "      <td>0</td>\n",
       "      <td>10984</td>\n",
       "      <td>2003-10-21</td>\n",
       "      <td>2005-07-17</td>\n",
       "      <td>1.25</td>\n",
       "      <td>-0.821544</td>\n",
       "    </tr>\n",
       "    <tr>\n",
       "      <th>46109</th>\n",
       "      <td>home</td>\n",
       "      <td>12734</td>\n",
       "      <td>1</td>\n",
       "      <td>10990</td>\n",
       "      <td>2006-02-01</td>\n",
       "      <td>2007-07-05</td>\n",
       "      <td>0.68</td>\n",
       "      <td>-1.059594</td>\n",
       "    </tr>\n",
       "    <tr>\n",
       "      <th>46109</th>\n",
       "      <td>cash</td>\n",
       "      <td>12518</td>\n",
       "      <td>1</td>\n",
       "      <td>10596</td>\n",
       "      <td>2010-12-08</td>\n",
       "      <td>2013-05-05</td>\n",
       "      <td>1.24</td>\n",
       "      <td>-0.825721</td>\n",
       "    </tr>\n",
       "    <tr>\n",
       "      <th>46109</th>\n",
       "      <td>credit</td>\n",
       "      <td>14049</td>\n",
       "      <td>1</td>\n",
       "      <td>11415</td>\n",
       "      <td>2010-07-07</td>\n",
       "      <td>2012-05-21</td>\n",
       "      <td>3.13</td>\n",
       "      <td>-0.036399</td>\n",
       "    </tr>\n",
       "  </tbody>\n",
       "</table>\n",
       "</div>"
      ],
      "text/plain": [
       "          loan_type  loan_amount repaid loan_id loan_start   loan_end  rate  \\\n",
       "client_id                                                                     \n",
       "46109          home        13672      0   10243 2002-04-16 2003-12-20  2.15   \n",
       "46109        credit         9794      0   10984 2003-10-21 2005-07-17  1.25   \n",
       "46109          home        12734      1   10990 2006-02-01 2007-07-05  0.68   \n",
       "46109          cash        12518      1   10596 2010-12-08 2013-05-05  1.24   \n",
       "46109        credit        14049      1   11415 2010-07-07 2012-05-21  3.13   \n",
       "\n",
       "                 ZR  \n",
       "client_id            \n",
       "46109     -0.445677  \n",
       "46109     -0.821544  \n",
       "46109     -1.059594  \n",
       "46109     -0.825721  \n",
       "46109     -0.036399  "
      ]
     },
     "execution_count": 46,
     "metadata": {},
     "output_type": "execute_result"
    }
   ],
   "source": [
    "# Creating new column field with Z-score of each record:\n",
    "df1['ZR'] = stats.zscore(df1['rate'])\n",
    "df1.head()"
   ]
  },
  {
   "cell_type": "code",
   "execution_count": 47,
   "metadata": {},
   "outputs": [
    {
     "data": {
      "text/html": [
       "<div>\n",
       "<style scoped>\n",
       "    .dataframe tbody tr th:only-of-type {\n",
       "        vertical-align: middle;\n",
       "    }\n",
       "\n",
       "    .dataframe tbody tr th {\n",
       "        vertical-align: top;\n",
       "    }\n",
       "\n",
       "    .dataframe thead th {\n",
       "        text-align: right;\n",
       "    }\n",
       "</style>\n",
       "<table border=\"1\" class=\"dataframe\">\n",
       "  <thead>\n",
       "    <tr style=\"text-align: right;\">\n",
       "      <th></th>\n",
       "      <th>loan_type</th>\n",
       "      <th>loan_amount</th>\n",
       "      <th>repaid</th>\n",
       "      <th>loan_id</th>\n",
       "      <th>loan_start</th>\n",
       "      <th>loan_end</th>\n",
       "      <th>rate</th>\n",
       "      <th>ZR</th>\n",
       "    </tr>\n",
       "    <tr>\n",
       "      <th>client_id</th>\n",
       "      <th></th>\n",
       "      <th></th>\n",
       "      <th></th>\n",
       "      <th></th>\n",
       "      <th></th>\n",
       "      <th></th>\n",
       "      <th></th>\n",
       "      <th></th>\n",
       "    </tr>\n",
       "  </thead>\n",
       "  <tbody>\n",
       "    <tr>\n",
       "      <th>41480</th>\n",
       "      <td>credit</td>\n",
       "      <td>2947</td>\n",
       "      <td>1</td>\n",
       "      <td>10302</td>\n",
       "      <td>2005-11-10</td>\n",
       "      <td>2008-03-16</td>\n",
       "      <td>10.49</td>\n",
       "      <td>3.037362</td>\n",
       "    </tr>\n",
       "    <tr>\n",
       "      <th>48177</th>\n",
       "      <td>other</td>\n",
       "      <td>6318</td>\n",
       "      <td>0</td>\n",
       "      <td>10224</td>\n",
       "      <td>2003-02-02</td>\n",
       "      <td>2005-05-08</td>\n",
       "      <td>10.89</td>\n",
       "      <td>3.204415</td>\n",
       "    </tr>\n",
       "    <tr>\n",
       "      <th>49624</th>\n",
       "      <td>home</td>\n",
       "      <td>8133</td>\n",
       "      <td>1</td>\n",
       "      <td>10312</td>\n",
       "      <td>2009-03-14</td>\n",
       "      <td>2011-03-21</td>\n",
       "      <td>12.62</td>\n",
       "      <td>3.926916</td>\n",
       "    </tr>\n",
       "  </tbody>\n",
       "</table>\n",
       "</div>"
      ],
      "text/plain": [
       "          loan_type  loan_amount repaid loan_id loan_start   loan_end   rate  \\\n",
       "client_id                                                                      \n",
       "41480        credit         2947      1   10302 2005-11-10 2008-03-16  10.49   \n",
       "48177         other         6318      0   10224 2003-02-02 2005-05-08  10.89   \n",
       "49624          home         8133      1   10312 2009-03-14 2011-03-21  12.62   \n",
       "\n",
       "                 ZR  \n",
       "client_id            \n",
       "41480      3.037362  \n",
       "48177      3.204415  \n",
       "49624      3.926916  "
      ]
     },
     "execution_count": 47,
     "metadata": {},
     "output_type": "execute_result"
    }
   ],
   "source": [
    "# Combined Lower limit and Upper limit and acquiring the records which are outliers:\n",
    "df1[(df1['ZR']<-3) | (df1['ZR']>3)]"
   ]
  },
  {
   "cell_type": "code",
   "execution_count": 48,
   "metadata": {},
   "outputs": [
    {
     "data": {
      "text/plain": [
       "3"
      ]
     },
     "execution_count": 48,
     "metadata": {},
     "output_type": "execute_result"
    }
   ],
   "source": [
    "# count of outliers:\n",
    "df1[(df1['ZR']<-3) | (df1['ZR']>3)].shape[0]"
   ]
  },
  {
   "cell_type": "code",
   "execution_count": 49,
   "metadata": {},
   "outputs": [
    {
     "data": {
      "text/html": [
       "<div>\n",
       "<style scoped>\n",
       "    .dataframe tbody tr th:only-of-type {\n",
       "        vertical-align: middle;\n",
       "    }\n",
       "\n",
       "    .dataframe tbody tr th {\n",
       "        vertical-align: top;\n",
       "    }\n",
       "\n",
       "    .dataframe thead th {\n",
       "        text-align: right;\n",
       "    }\n",
       "</style>\n",
       "<table border=\"1\" class=\"dataframe\">\n",
       "  <thead>\n",
       "    <tr style=\"text-align: right;\">\n",
       "      <th></th>\n",
       "      <th>client_id</th>\n",
       "      <th>loan_type</th>\n",
       "      <th>loan_amount</th>\n",
       "      <th>repaid</th>\n",
       "      <th>loan_id</th>\n",
       "      <th>loan_start</th>\n",
       "      <th>loan_end</th>\n",
       "      <th>rate</th>\n",
       "      <th>ZR</th>\n",
       "    </tr>\n",
       "  </thead>\n",
       "  <tbody>\n",
       "    <tr>\n",
       "      <th>0</th>\n",
       "      <td>46109</td>\n",
       "      <td>home</td>\n",
       "      <td>13672</td>\n",
       "      <td>0</td>\n",
       "      <td>10243</td>\n",
       "      <td>2002-04-16</td>\n",
       "      <td>2003-12-20</td>\n",
       "      <td>2.15</td>\n",
       "      <td>-0.445677</td>\n",
       "    </tr>\n",
       "    <tr>\n",
       "      <th>1</th>\n",
       "      <td>46109</td>\n",
       "      <td>credit</td>\n",
       "      <td>9794</td>\n",
       "      <td>0</td>\n",
       "      <td>10984</td>\n",
       "      <td>2003-10-21</td>\n",
       "      <td>2005-07-17</td>\n",
       "      <td>1.25</td>\n",
       "      <td>-0.821544</td>\n",
       "    </tr>\n",
       "    <tr>\n",
       "      <th>2</th>\n",
       "      <td>46109</td>\n",
       "      <td>home</td>\n",
       "      <td>12734</td>\n",
       "      <td>1</td>\n",
       "      <td>10990</td>\n",
       "      <td>2006-02-01</td>\n",
       "      <td>2007-07-05</td>\n",
       "      <td>0.68</td>\n",
       "      <td>-1.059594</td>\n",
       "    </tr>\n",
       "    <tr>\n",
       "      <th>3</th>\n",
       "      <td>46109</td>\n",
       "      <td>cash</td>\n",
       "      <td>12518</td>\n",
       "      <td>1</td>\n",
       "      <td>10596</td>\n",
       "      <td>2010-12-08</td>\n",
       "      <td>2013-05-05</td>\n",
       "      <td>1.24</td>\n",
       "      <td>-0.825721</td>\n",
       "    </tr>\n",
       "    <tr>\n",
       "      <th>4</th>\n",
       "      <td>46109</td>\n",
       "      <td>credit</td>\n",
       "      <td>14049</td>\n",
       "      <td>1</td>\n",
       "      <td>11415</td>\n",
       "      <td>2010-07-07</td>\n",
       "      <td>2012-05-21</td>\n",
       "      <td>3.13</td>\n",
       "      <td>-0.036399</td>\n",
       "    </tr>\n",
       "  </tbody>\n",
       "</table>\n",
       "</div>"
      ],
      "text/plain": [
       "   client_id loan_type  loan_amount repaid loan_id loan_start   loan_end  \\\n",
       "0      46109      home        13672      0   10243 2002-04-16 2003-12-20   \n",
       "1      46109    credit         9794      0   10984 2003-10-21 2005-07-17   \n",
       "2      46109      home        12734      1   10990 2006-02-01 2007-07-05   \n",
       "3      46109      cash        12518      1   10596 2010-12-08 2013-05-05   \n",
       "4      46109    credit        14049      1   11415 2010-07-07 2012-05-21   \n",
       "\n",
       "   rate        ZR  \n",
       "0  2.15 -0.445677  \n",
       "1  1.25 -0.821544  \n",
       "2  0.68 -1.059594  \n",
       "3  1.24 -0.825721  \n",
       "4  3.13 -0.036399  "
      ]
     },
     "execution_count": 49,
     "metadata": {},
     "output_type": "execute_result"
    }
   ],
   "source": [
    "# Cleaned Data: without outliers so z>-3 and z< +3\n",
    "df2= df1[(df1['ZR']>-3) & (df1['ZR']<3)].reset_index()\n",
    "df2.head()"
   ]
  },
  {
   "cell_type": "code",
   "execution_count": 50,
   "metadata": {},
   "outputs": [
    {
     "name": "stdout",
     "output_type": "stream",
     "text": [
      "Dimensions of original data:  (443, 8)\n",
      "Dimensions of data after outliers removal:  (440, 9)\n"
     ]
    }
   ],
   "source": [
    "print(\"Dimensions of original data: \", df1.shape)\n",
    "print(\"Dimensions of data after outliers removal: \", df2.shape)"
   ]
  },
  {
   "cell_type": "markdown",
   "metadata": {},
   "source": [
    "##### Interpretation of Z-Score outlier removal approach:\n",
    "- A crude way to know whether the outliers have been removed or not is to check the dimensions of the data.\n",
    "- From the above output, we can see that the dimensions are reduced that implies outliers are removed."
   ]
  },
  {
   "cell_type": "code",
   "execution_count": 60,
   "metadata": {},
   "outputs": [
    {
     "data": {
      "text/html": [
       "<div>\n",
       "<style scoped>\n",
       "    .dataframe tbody tr th:only-of-type {\n",
       "        vertical-align: middle;\n",
       "    }\n",
       "\n",
       "    .dataframe tbody tr th {\n",
       "        vertical-align: top;\n",
       "    }\n",
       "\n",
       "    .dataframe thead th {\n",
       "        text-align: right;\n",
       "    }\n",
       "</style>\n",
       "<table border=\"1\" class=\"dataframe\">\n",
       "  <thead>\n",
       "    <tr style=\"text-align: right;\">\n",
       "      <th></th>\n",
       "      <th>loan_type</th>\n",
       "      <th>loan_amount</th>\n",
       "      <th>repaid</th>\n",
       "      <th>loan_id</th>\n",
       "      <th>loan_start</th>\n",
       "      <th>loan_end</th>\n",
       "      <th>rate</th>\n",
       "    </tr>\n",
       "    <tr>\n",
       "      <th>client_id</th>\n",
       "      <th></th>\n",
       "      <th></th>\n",
       "      <th></th>\n",
       "      <th></th>\n",
       "      <th></th>\n",
       "      <th></th>\n",
       "      <th></th>\n",
       "    </tr>\n",
       "  </thead>\n",
       "  <tbody>\n",
       "    <tr>\n",
       "      <th>46109</th>\n",
       "      <td>home</td>\n",
       "      <td>13672</td>\n",
       "      <td>0</td>\n",
       "      <td>10243</td>\n",
       "      <td>2002-04-16</td>\n",
       "      <td>2003-12-20</td>\n",
       "      <td>2.15</td>\n",
       "    </tr>\n",
       "    <tr>\n",
       "      <th>46109</th>\n",
       "      <td>credit</td>\n",
       "      <td>9794</td>\n",
       "      <td>0</td>\n",
       "      <td>10984</td>\n",
       "      <td>2003-10-21</td>\n",
       "      <td>2005-07-17</td>\n",
       "      <td>1.25</td>\n",
       "    </tr>\n",
       "    <tr>\n",
       "      <th>46109</th>\n",
       "      <td>home</td>\n",
       "      <td>12734</td>\n",
       "      <td>1</td>\n",
       "      <td>10990</td>\n",
       "      <td>2006-02-01</td>\n",
       "      <td>2007-07-05</td>\n",
       "      <td>0.68</td>\n",
       "    </tr>\n",
       "    <tr>\n",
       "      <th>46109</th>\n",
       "      <td>cash</td>\n",
       "      <td>12518</td>\n",
       "      <td>1</td>\n",
       "      <td>10596</td>\n",
       "      <td>2010-12-08</td>\n",
       "      <td>2013-05-05</td>\n",
       "      <td>1.24</td>\n",
       "    </tr>\n",
       "    <tr>\n",
       "      <th>46109</th>\n",
       "      <td>credit</td>\n",
       "      <td>14049</td>\n",
       "      <td>1</td>\n",
       "      <td>11415</td>\n",
       "      <td>2010-07-07</td>\n",
       "      <td>2012-05-21</td>\n",
       "      <td>3.13</td>\n",
       "    </tr>\n",
       "  </tbody>\n",
       "</table>\n",
       "</div>"
      ],
      "text/plain": [
       "          loan_type  loan_amount repaid loan_id loan_start   loan_end  rate\n",
       "client_id                                                                  \n",
       "46109          home        13672      0   10243 2002-04-16 2003-12-20  2.15\n",
       "46109        credit         9794      0   10984 2003-10-21 2005-07-17  1.25\n",
       "46109          home        12734      1   10990 2006-02-01 2007-07-05  0.68\n",
       "46109          cash        12518      1   10596 2010-12-08 2013-05-05  1.24\n",
       "46109        credit        14049      1   11415 2010-07-07 2012-05-21  3.13"
      ]
     },
     "execution_count": 60,
     "metadata": {},
     "output_type": "execute_result"
    }
   ],
   "source": [
    "# removal of the unwanted Z-score results column\n",
    "df3 = df2.copy()\n",
    "\n",
    "df3.drop(columns = ['ZR'], inplace=True)\n",
    "df3.set_index('client_id', inplace=True)\n",
    "df3.head()"
   ]
  },
  {
   "cell_type": "markdown",
   "metadata": {},
   "source": [
    "<hr>\n",
    "\n",
    "##### b. IQR Method to treat Outliers:\n",
    "\n",
    "All the values below (Q1 - 1.5 x IQR) and values above (Q3 + 1.5 x IQR) are outliers and can be removed."
   ]
  },
  {
   "cell_type": "code",
   "execution_count": 61,
   "metadata": {},
   "outputs": [
    {
     "data": {
      "text/plain": [
       "-3.9762499999999994"
      ]
     },
     "metadata": {},
     "output_type": "display_data"
    },
    {
     "data": {
      "text/plain": [
       "9.87375"
      ]
     },
     "metadata": {},
     "output_type": "display_data"
    }
   ],
   "source": [
    "# finding the Quantiles:\n",
    "Q1 = df3.rate.quantile(0.25)\n",
    "Q2 = df3.rate.quantile(0.50)\n",
    "Q3 = df3.rate.quantile(0.75)\n",
    "\n",
    "# IQR : Inter-Quartile Range\n",
    "IQR = Q3 - Q1\n",
    "\n",
    "# Lower Limit:\n",
    "LC = Q1 - (1.5*IQR)\n",
    "\n",
    "# Upper Limit:\n",
    "UC = Q3 + (1.5*IQR)\n",
    "\n",
    "display(LC)\n",
    "display(UC)"
   ]
  },
  {
   "cell_type": "code",
   "execution_count": 63,
   "metadata": {},
   "outputs": [
    {
     "data": {
      "image/png": "[encoded data removed]",
      "text/plain": [
       "<Figure size 432x288 with 1 Axes>"
      ]
     },
     "metadata": {
      "needs_background": "light"
     },
     "output_type": "display_data"
    }
   ],
   "source": [
    "# Plotting the rate column distribution\n",
    "sns.distplot(df1.rate)\n",
    "plt.axvline(UC, color='r')\n",
    "plt.axvline(LC, color ='r')\n",
    "plt.axvline(Q1, color='g')\n",
    "plt.axvline(Q3, color='y')\n",
    "plt.show()"
   ]
  },
  {
   "cell_type": "code",
   "execution_count": 67,
   "metadata": {},
   "outputs": [
    {
     "data": {
      "text/html": [
       "<div>\n",
       "<style scoped>\n",
       "    .dataframe tbody tr th:only-of-type {\n",
       "        vertical-align: middle;\n",
       "    }\n",
       "\n",
       "    .dataframe tbody tr th {\n",
       "        vertical-align: top;\n",
       "    }\n",
       "\n",
       "    .dataframe thead th {\n",
       "        text-align: right;\n",
       "    }\n",
       "</style>\n",
       "<table border=\"1\" class=\"dataframe\">\n",
       "  <thead>\n",
       "    <tr style=\"text-align: right;\">\n",
       "      <th></th>\n",
       "      <th>loan_type</th>\n",
       "      <th>loan_amount</th>\n",
       "      <th>repaid</th>\n",
       "      <th>loan_id</th>\n",
       "      <th>loan_start</th>\n",
       "      <th>loan_end</th>\n",
       "      <th>rate</th>\n",
       "      <th>ZR</th>\n",
       "    </tr>\n",
       "    <tr>\n",
       "      <th>client_id</th>\n",
       "      <th></th>\n",
       "      <th></th>\n",
       "      <th></th>\n",
       "      <th></th>\n",
       "      <th></th>\n",
       "      <th></th>\n",
       "      <th></th>\n",
       "      <th></th>\n",
       "    </tr>\n",
       "  </thead>\n",
       "  <tbody>\n",
       "    <tr>\n",
       "      <th>41480</th>\n",
       "      <td>credit</td>\n",
       "      <td>2947</td>\n",
       "      <td>1</td>\n",
       "      <td>10302</td>\n",
       "      <td>2005-11-10</td>\n",
       "      <td>2008-03-16</td>\n",
       "      <td>10.49</td>\n",
       "      <td>3.037362</td>\n",
       "    </tr>\n",
       "    <tr>\n",
       "      <th>39505</th>\n",
       "      <td>cash</td>\n",
       "      <td>11647</td>\n",
       "      <td>1</td>\n",
       "      <td>11928</td>\n",
       "      <td>2003-07-28</td>\n",
       "      <td>2005-12-24</td>\n",
       "      <td>9.91</td>\n",
       "      <td>2.795137</td>\n",
       "    </tr>\n",
       "    <tr>\n",
       "      <th>48177</th>\n",
       "      <td>other</td>\n",
       "      <td>6318</td>\n",
       "      <td>0</td>\n",
       "      <td>10224</td>\n",
       "      <td>2003-02-02</td>\n",
       "      <td>2005-05-08</td>\n",
       "      <td>10.89</td>\n",
       "      <td>3.204415</td>\n",
       "    </tr>\n",
       "    <tr>\n",
       "      <th>49624</th>\n",
       "      <td>home</td>\n",
       "      <td>8133</td>\n",
       "      <td>1</td>\n",
       "      <td>10312</td>\n",
       "      <td>2009-03-14</td>\n",
       "      <td>2011-03-21</td>\n",
       "      <td>12.62</td>\n",
       "      <td>3.926916</td>\n",
       "    </tr>\n",
       "  </tbody>\n",
       "</table>\n",
       "</div>"
      ],
      "text/plain": [
       "          loan_type  loan_amount repaid loan_id loan_start   loan_end   rate  \\\n",
       "client_id                                                                      \n",
       "41480        credit         2947      1   10302 2005-11-10 2008-03-16  10.49   \n",
       "39505          cash        11647      1   11928 2003-07-28 2005-12-24   9.91   \n",
       "48177         other         6318      0   10224 2003-02-02 2005-05-08  10.89   \n",
       "49624          home         8133      1   10312 2009-03-14 2011-03-21  12.62   \n",
       "\n",
       "                 ZR  \n",
       "client_id            \n",
       "41480      3.037362  \n",
       "39505      2.795137  \n",
       "48177      3.204415  \n",
       "49624      3.926916  "
      ]
     },
     "execution_count": 67,
     "metadata": {},
     "output_type": "execute_result"
    }
   ],
   "source": [
    "# Find Outliers wrt IQR\n",
    "df1[(df1.rate<LC) | (df1.rate>UC)]"
   ]
  },
  {
   "cell_type": "code",
   "execution_count": 68,
   "metadata": {},
   "outputs": [
    {
     "data": {
      "text/plain": [
       "4"
      ]
     },
     "execution_count": 68,
     "metadata": {},
     "output_type": "execute_result"
    }
   ],
   "source": [
    "# Count of outliers wrt IQR\n",
    "df1[(df1.rate<LC) | (df1.rate>UC)].shape[0]"
   ]
  },
  {
   "cell_type": "code",
   "execution_count": 69,
   "metadata": {},
   "outputs": [
    {
     "data": {
      "text/html": [
       "<div>\n",
       "<style scoped>\n",
       "    .dataframe tbody tr th:only-of-type {\n",
       "        vertical-align: middle;\n",
       "    }\n",
       "\n",
       "    .dataframe tbody tr th {\n",
       "        vertical-align: top;\n",
       "    }\n",
       "\n",
       "    .dataframe thead th {\n",
       "        text-align: right;\n",
       "    }\n",
       "</style>\n",
       "<table border=\"1\" class=\"dataframe\">\n",
       "  <thead>\n",
       "    <tr style=\"text-align: right;\">\n",
       "      <th></th>\n",
       "      <th>loan_type</th>\n",
       "      <th>loan_amount</th>\n",
       "      <th>repaid</th>\n",
       "      <th>loan_id</th>\n",
       "      <th>loan_start</th>\n",
       "      <th>loan_end</th>\n",
       "      <th>rate</th>\n",
       "    </tr>\n",
       "    <tr>\n",
       "      <th>client_id</th>\n",
       "      <th></th>\n",
       "      <th></th>\n",
       "      <th></th>\n",
       "      <th></th>\n",
       "      <th></th>\n",
       "      <th></th>\n",
       "      <th></th>\n",
       "    </tr>\n",
       "  </thead>\n",
       "  <tbody>\n",
       "    <tr>\n",
       "      <th>46109</th>\n",
       "      <td>home</td>\n",
       "      <td>13672</td>\n",
       "      <td>0</td>\n",
       "      <td>10243</td>\n",
       "      <td>2002-04-16</td>\n",
       "      <td>2003-12-20</td>\n",
       "      <td>2.15</td>\n",
       "    </tr>\n",
       "    <tr>\n",
       "      <th>46109</th>\n",
       "      <td>credit</td>\n",
       "      <td>9794</td>\n",
       "      <td>0</td>\n",
       "      <td>10984</td>\n",
       "      <td>2003-10-21</td>\n",
       "      <td>2005-07-17</td>\n",
       "      <td>1.25</td>\n",
       "    </tr>\n",
       "    <tr>\n",
       "      <th>46109</th>\n",
       "      <td>home</td>\n",
       "      <td>12734</td>\n",
       "      <td>1</td>\n",
       "      <td>10990</td>\n",
       "      <td>2006-02-01</td>\n",
       "      <td>2007-07-05</td>\n",
       "      <td>0.68</td>\n",
       "    </tr>\n",
       "    <tr>\n",
       "      <th>46109</th>\n",
       "      <td>cash</td>\n",
       "      <td>12518</td>\n",
       "      <td>1</td>\n",
       "      <td>10596</td>\n",
       "      <td>2010-12-08</td>\n",
       "      <td>2013-05-05</td>\n",
       "      <td>1.24</td>\n",
       "    </tr>\n",
       "    <tr>\n",
       "      <th>46109</th>\n",
       "      <td>credit</td>\n",
       "      <td>14049</td>\n",
       "      <td>1</td>\n",
       "      <td>11415</td>\n",
       "      <td>2010-07-07</td>\n",
       "      <td>2012-05-21</td>\n",
       "      <td>3.13</td>\n",
       "    </tr>\n",
       "  </tbody>\n",
       "</table>\n",
       "</div>"
      ],
      "text/plain": [
       "          loan_type  loan_amount repaid loan_id loan_start   loan_end  rate\n",
       "client_id                                                                  \n",
       "46109          home        13672      0   10243 2002-04-16 2003-12-20  2.15\n",
       "46109        credit         9794      0   10984 2003-10-21 2005-07-17  1.25\n",
       "46109          home        12734      1   10990 2006-02-01 2007-07-05  0.68\n",
       "46109          cash        12518      1   10596 2010-12-08 2013-05-05  1.24\n",
       "46109        credit        14049      1   11415 2010-07-07 2012-05-21  3.13"
      ]
     },
     "execution_count": 69,
     "metadata": {},
     "output_type": "execute_result"
    }
   ],
   "source": [
    "# Store the clean data wrt IQR:\n",
    "df4 = df3[(df3.rate>LC) & (df3.rate<UC)]\n",
    "df4.head()"
   ]
  },
  {
   "cell_type": "code",
   "execution_count": 73,
   "metadata": {},
   "outputs": [
    {
     "name": "stdout",
     "output_type": "stream",
     "text": [
      "Dimensions of original data:  (443, 8)\n",
      "Dimensions of data after outliers removal wrt IQR:  (439, 7)\n"
     ]
    }
   ],
   "source": [
    "print(\"Dimensions of original data: \", df1.shape)\n",
    "print(\"Dimensions of data after outliers removal wrt IQR: \", df4.shape)"
   ]
  },
  {
   "cell_type": "markdown",
   "metadata": {},
   "source": [
    "##### Interpretation of IQR outlier removal approach:\n",
    "- A crude way to know whether the outliers have been removed or not is to check the dimensions of the data.\n",
    "- From the above output, we can see that the dimensions are reduced that implies outliers are removed."
   ]
  },
  {
   "cell_type": "code",
   "execution_count": 75,
   "metadata": {},
   "outputs": [
    {
     "data": {
      "image/png": "[encoded data removed]",
      "text/plain": [
       "<Figure size 1440x360 with 3 Axes>"
      ]
     },
     "metadata": {
      "needs_background": "light"
     },
     "output_type": "display_data"
    }
   ],
   "source": [
    "# Box plots for all the approaches\n",
    "fig, axes = plt.subplots(1,3,figsize=(20,5))\n",
    "\n",
    "df1['rate'].plot(kind='box', ax=axes[0])\n",
    "axes[0].set_title('Original rate data')\n",
    "df3['rate'].plot(kind='box', ax=axes[1])\n",
    "axes[1].set_title('After Z-score')\n",
    "df4['rate'].plot(kind='box', ax=axes[2])\n",
    "axes[2].set_title('After IQR')\n",
    "\n",
    "plt.show()"
   ]
  },
  {
   "cell_type": "markdown",
   "metadata": {},
   "source": [
    "## 5. Scaling the Numerical Features:\n",
    "The need for Scaling is :\n",
    "- Comparison between variables is easier\n",
    "- Computation power is more efficient and less time consuming.\n",
    "\n",
    "\n",
    "There are two ways to scale the data:\n",
    "- Standardization (Z-Score)\n",
    "- Normalization: Min Max Scalar\n",
    "\n",
    "Both can be done manually as well as have in-built functions in sklearn.\n",
    "\n",
    "##### Note: With Scaling all three - Skewness, Kurtosis and distribution remain same so there is no impact on outliers as well.\n",
    "\n",
    "### a. Standardization (Z-Score)\n",
    "\n",
    "Scales the data using the formula: <b> (x-mean)/standard deviation </b>"
   ]
  },
  {
   "cell_type": "code",
   "execution_count": 76,
   "metadata": {},
   "outputs": [
    {
     "data": {
      "text/html": [
       "<div>\n",
       "<style scoped>\n",
       "    .dataframe tbody tr th:only-of-type {\n",
       "        vertical-align: middle;\n",
       "    }\n",
       "\n",
       "    .dataframe tbody tr th {\n",
       "        vertical-align: top;\n",
       "    }\n",
       "\n",
       "    .dataframe thead th {\n",
       "        text-align: right;\n",
       "    }\n",
       "</style>\n",
       "<table border=\"1\" class=\"dataframe\">\n",
       "  <thead>\n",
       "    <tr style=\"text-align: right;\">\n",
       "      <th></th>\n",
       "      <th>loan_type</th>\n",
       "      <th>loan_amount</th>\n",
       "      <th>repaid</th>\n",
       "      <th>loan_id</th>\n",
       "      <th>loan_start</th>\n",
       "      <th>loan_end</th>\n",
       "      <th>rate</th>\n",
       "      <th>ZR</th>\n",
       "      <th>ZLA</th>\n",
       "    </tr>\n",
       "    <tr>\n",
       "      <th>client_id</th>\n",
       "      <th></th>\n",
       "      <th></th>\n",
       "      <th></th>\n",
       "      <th></th>\n",
       "      <th></th>\n",
       "      <th></th>\n",
       "      <th></th>\n",
       "      <th></th>\n",
       "      <th></th>\n",
       "    </tr>\n",
       "  </thead>\n",
       "  <tbody>\n",
       "    <tr>\n",
       "      <th>46109</th>\n",
       "      <td>home</td>\n",
       "      <td>13672</td>\n",
       "      <td>0</td>\n",
       "      <td>10243</td>\n",
       "      <td>2002-04-16</td>\n",
       "      <td>2003-12-20</td>\n",
       "      <td>2.15</td>\n",
       "      <td>-0.438905</td>\n",
       "      <td>1.359338</td>\n",
       "    </tr>\n",
       "    <tr>\n",
       "      <th>46109</th>\n",
       "      <td>credit</td>\n",
       "      <td>9794</td>\n",
       "      <td>0</td>\n",
       "      <td>10984</td>\n",
       "      <td>2003-10-21</td>\n",
       "      <td>2005-07-17</td>\n",
       "      <td>1.25</td>\n",
       "      <td>-0.829306</td>\n",
       "      <td>0.430405</td>\n",
       "    </tr>\n",
       "    <tr>\n",
       "      <th>46109</th>\n",
       "      <td>home</td>\n",
       "      <td>12734</td>\n",
       "      <td>1</td>\n",
       "      <td>10990</td>\n",
       "      <td>2006-02-01</td>\n",
       "      <td>2007-07-05</td>\n",
       "      <td>0.68</td>\n",
       "      <td>-1.076560</td>\n",
       "      <td>1.134650</td>\n",
       "    </tr>\n",
       "    <tr>\n",
       "      <th>46109</th>\n",
       "      <td>cash</td>\n",
       "      <td>12518</td>\n",
       "      <td>1</td>\n",
       "      <td>10596</td>\n",
       "      <td>2010-12-08</td>\n",
       "      <td>2013-05-05</td>\n",
       "      <td>1.24</td>\n",
       "      <td>-0.833644</td>\n",
       "      <td>1.082909</td>\n",
       "    </tr>\n",
       "    <tr>\n",
       "      <th>46109</th>\n",
       "      <td>credit</td>\n",
       "      <td>14049</td>\n",
       "      <td>1</td>\n",
       "      <td>11415</td>\n",
       "      <td>2010-07-07</td>\n",
       "      <td>2012-05-21</td>\n",
       "      <td>3.13</td>\n",
       "      <td>-0.013802</td>\n",
       "      <td>1.449644</td>\n",
       "    </tr>\n",
       "  </tbody>\n",
       "</table>\n",
       "</div>"
      ],
      "text/plain": [
       "          loan_type  loan_amount repaid loan_id loan_start   loan_end  rate  \\\n",
       "client_id                                                                     \n",
       "46109          home        13672      0   10243 2002-04-16 2003-12-20  2.15   \n",
       "46109        credit         9794      0   10984 2003-10-21 2005-07-17  1.25   \n",
       "46109          home        12734      1   10990 2006-02-01 2007-07-05  0.68   \n",
       "46109          cash        12518      1   10596 2010-12-08 2013-05-05  1.24   \n",
       "46109        credit        14049      1   11415 2010-07-07 2012-05-21  3.13   \n",
       "\n",
       "                 ZR       ZLA  \n",
       "client_id                      \n",
       "46109     -0.438905  1.359338  \n",
       "46109     -0.829306  0.430405  \n",
       "46109     -1.076560  1.134650  \n",
       "46109     -0.833644  1.082909  \n",
       "46109     -0.013802  1.449644  "
      ]
     },
     "execution_count": 76,
     "metadata": {},
     "output_type": "execute_result"
    }
   ],
   "source": [
    "# Creating new column fields with Z-score of each record:\n",
    "df3['ZR'] = stats.zscore(df3['rate'])\n",
    "df3['ZLA'] = stats.zscore(df3['loan_amount'])\n",
    "df3.head()"
   ]
  },
  {
   "cell_type": "code",
   "execution_count": 77,
   "metadata": {},
   "outputs": [
    {
     "name": "stdout",
     "output_type": "stream",
     "text": [
      "The skewness of the original rate column data is 0.7594062707815686\n",
      "The skewness of the Z-score scaled rate column data is 0.7594062707815691\n",
      "The skewness of the original loan_amount column data is -0.04678765472024289\n",
      "The skewnss of the Z-score scaled loan_amount column data is -0.0467876547202429\n",
      "\n",
      "The kurtosis of the original rate column data is -0.05964248048746912\n",
      "The kurtosis of the Z-score scaled rate column data is -0.05964248048746823\n",
      "The kurtosis of the original loan_amount column data is -1.2354309429278456\n",
      "The kurtosis of the Z-score scaled loan_amount column data is -1.2354309429278458\n"
     ]
    }
   ],
   "source": [
    "# skewness and kurtosis value of the original and scaled data:\n",
    "print(\"The skewness of the original rate column data is {}\".format(df3.rate.skew()))\n",
    "print('The skewness of the Z-score scaled rate column data is {}'.format(df3.ZR.skew()))\n",
    "print(\"The skewness of the original loan_amount column data is {}\".format(df3.loan_amount.skew()))\n",
    "print(\"The skewnss of the Z-score scaled loan_amount column data is {}\".format(df3.ZLA.skew()))\n",
    "\n",
    "print('')\n",
    "\n",
    "print(\"The kurtosis of the original rate column data is {}\".format(df3.rate.kurt()))\n",
    "print('The kurtosis of the Z-score scaled rate column data is {}'.format(df3.ZR.kurt()))\n",
    "print(\"The kurtosis of the original loan_amount column data is {}\".format(df3.loan_amount.kurt()))\n",
    "print(\"The kurtosis of the Z-score scaled loan_amount column data is {}\".format(df3.ZLA.kurt()))"
   ]
  },
  {
   "cell_type": "code",
   "execution_count": 85,
   "metadata": {},
   "outputs": [
    {
     "data": {
      "image/png": "[encoded data removed]",
      "text/plain": [
       "<Figure size 1440x576 with 4 Axes>"
      ]
     },
     "metadata": {
      "needs_background": "light"
     },
     "output_type": "display_data"
    }
   ],
   "source": [
    "# Distribution of the columns\n",
    "\n",
    "fig, axes = plt.subplots(2,2, figsize=(20,8))\n",
    "\n",
    "sns.distplot(df3['rate'], ax=axes[0,0])\n",
    "sns.distplot(df3['ZR'], ax=axes[0,1])\n",
    "sns.distplot(df3['loan_amount'], ax=axes[1,0])\n",
    "sns.distplot(df3['ZLA'], ax=axes[1,1])\n",
    "\n",
    "\n",
    "plt.show()"
   ]
  },
  {
   "cell_type": "markdown",
   "metadata": {},
   "source": [
    "The only difference between the two curves is of the Range on the x-axis."
   ]
  },
  {
   "cell_type": "markdown",
   "metadata": {},
   "source": [
    "### b. Normalization: Min Max Scalar\n",
    "Scales the data using the formula: <b> (x - min)/(max - min) </b>"
   ]
  },
  {
   "cell_type": "code",
   "execution_count": 86,
   "metadata": {},
   "outputs": [],
   "source": [
    "# import required built in package\n",
    "from sklearn.preprocessing import MinMaxScaler"
   ]
  },
  {
   "cell_type": "code",
   "execution_count": 89,
   "metadata": {},
   "outputs": [
    {
     "name": "stdout",
     "output_type": "stream",
     "text": [
      "440\n"
     ]
    }
   ],
   "source": [
    "df4 = df3.copy()\n",
    "\n",
    "scaler = MinMaxScaler()\n",
    "normalized_data = scaler.fit_transform(df4[['rate', 'loan_amount']])\n",
    "\n",
    "print(len(normalized_data))"
   ]
  },
  {
   "cell_type": "code",
   "execution_count": 99,
   "metadata": {},
   "outputs": [],
   "source": [
    "df4['MM_R'] = normalized_data[:, 0]\n",
    "df4['MM_LA'] = normalized_data[:, 1]"
   ]
  },
  {
   "cell_type": "code",
   "execution_count": 100,
   "metadata": {},
   "outputs": [
    {
     "data": {
      "text/html": [
       "<div>\n",
       "<style scoped>\n",
       "    .dataframe tbody tr th:only-of-type {\n",
       "        vertical-align: middle;\n",
       "    }\n",
       "\n",
       "    .dataframe tbody tr th {\n",
       "        vertical-align: top;\n",
       "    }\n",
       "\n",
       "    .dataframe thead th {\n",
       "        text-align: right;\n",
       "    }\n",
       "</style>\n",
       "<table border=\"1\" class=\"dataframe\">\n",
       "  <thead>\n",
       "    <tr style=\"text-align: right;\">\n",
       "      <th></th>\n",
       "      <th>loan_type</th>\n",
       "      <th>loan_amount</th>\n",
       "      <th>repaid</th>\n",
       "      <th>loan_id</th>\n",
       "      <th>loan_start</th>\n",
       "      <th>loan_end</th>\n",
       "      <th>rate</th>\n",
       "      <th>ZR</th>\n",
       "      <th>ZLA</th>\n",
       "      <th>MM_R</th>\n",
       "      <th>MM_LA</th>\n",
       "    </tr>\n",
       "    <tr>\n",
       "      <th>client_id</th>\n",
       "      <th></th>\n",
       "      <th></th>\n",
       "      <th></th>\n",
       "      <th></th>\n",
       "      <th></th>\n",
       "      <th></th>\n",
       "      <th></th>\n",
       "      <th></th>\n",
       "      <th></th>\n",
       "      <th></th>\n",
       "      <th></th>\n",
       "    </tr>\n",
       "  </thead>\n",
       "  <tbody>\n",
       "    <tr>\n",
       "      <th>46109</th>\n",
       "      <td>home</td>\n",
       "      <td>13672</td>\n",
       "      <td>0</td>\n",
       "      <td>10243</td>\n",
       "      <td>2002-04-16</td>\n",
       "      <td>2003-12-20</td>\n",
       "      <td>2.15</td>\n",
       "      <td>-0.438905</td>\n",
       "      <td>1.359338</td>\n",
       "      <td>0.216162</td>\n",
       "      <td>0.909867</td>\n",
       "    </tr>\n",
       "    <tr>\n",
       "      <th>46109</th>\n",
       "      <td>credit</td>\n",
       "      <td>9794</td>\n",
       "      <td>0</td>\n",
       "      <td>10984</td>\n",
       "      <td>2003-10-21</td>\n",
       "      <td>2005-07-17</td>\n",
       "      <td>1.25</td>\n",
       "      <td>-0.829306</td>\n",
       "      <td>0.430405</td>\n",
       "      <td>0.125253</td>\n",
       "      <td>0.640785</td>\n",
       "    </tr>\n",
       "    <tr>\n",
       "      <th>46109</th>\n",
       "      <td>home</td>\n",
       "      <td>12734</td>\n",
       "      <td>1</td>\n",
       "      <td>10990</td>\n",
       "      <td>2006-02-01</td>\n",
       "      <td>2007-07-05</td>\n",
       "      <td>0.68</td>\n",
       "      <td>-1.076560</td>\n",
       "      <td>1.134650</td>\n",
       "      <td>0.067677</td>\n",
       "      <td>0.844782</td>\n",
       "    </tr>\n",
       "    <tr>\n",
       "      <th>46109</th>\n",
       "      <td>cash</td>\n",
       "      <td>12518</td>\n",
       "      <td>1</td>\n",
       "      <td>10596</td>\n",
       "      <td>2010-12-08</td>\n",
       "      <td>2013-05-05</td>\n",
       "      <td>1.24</td>\n",
       "      <td>-0.833644</td>\n",
       "      <td>1.082909</td>\n",
       "      <td>0.124242</td>\n",
       "      <td>0.829795</td>\n",
       "    </tr>\n",
       "    <tr>\n",
       "      <th>46109</th>\n",
       "      <td>credit</td>\n",
       "      <td>14049</td>\n",
       "      <td>1</td>\n",
       "      <td>11415</td>\n",
       "      <td>2010-07-07</td>\n",
       "      <td>2012-05-21</td>\n",
       "      <td>3.13</td>\n",
       "      <td>-0.013802</td>\n",
       "      <td>1.449644</td>\n",
       "      <td>0.315152</td>\n",
       "      <td>0.936026</td>\n",
       "    </tr>\n",
       "  </tbody>\n",
       "</table>\n",
       "</div>"
      ],
      "text/plain": [
       "          loan_type  loan_amount repaid loan_id loan_start   loan_end  rate  \\\n",
       "client_id                                                                     \n",
       "46109          home        13672      0   10243 2002-04-16 2003-12-20  2.15   \n",
       "46109        credit         9794      0   10984 2003-10-21 2005-07-17  1.25   \n",
       "46109          home        12734      1   10990 2006-02-01 2007-07-05  0.68   \n",
       "46109          cash        12518      1   10596 2010-12-08 2013-05-05  1.24   \n",
       "46109        credit        14049      1   11415 2010-07-07 2012-05-21  3.13   \n",
       "\n",
       "                 ZR       ZLA      MM_R     MM_LA  \n",
       "client_id                                          \n",
       "46109     -0.438905  1.359338  0.216162  0.909867  \n",
       "46109     -0.829306  0.430405  0.125253  0.640785  \n",
       "46109     -1.076560  1.134650  0.067677  0.844782  \n",
       "46109     -0.833644  1.082909  0.124242  0.829795  \n",
       "46109     -0.013802  1.449644  0.315152  0.936026  "
      ]
     },
     "execution_count": 100,
     "metadata": {},
     "output_type": "execute_result"
    }
   ],
   "source": [
    "df4.head()"
   ]
  },
  {
   "cell_type": "code",
   "execution_count": 101,
   "metadata": {},
   "outputs": [
    {
     "name": "stdout",
     "output_type": "stream",
     "text": [
      "The skewness of the original rate column data is 0.7594062707815686\n",
      "The skewness of the normalised rate column data is 0.7594062707815684\n",
      "The skewness of the original loan_amount column data is -0.04678765472024289\n",
      "The skewness of the normalised loan_amount column data is -0.046787654720243106\n",
      "\n",
      "The kurtosis of the original rate column data is -0.05964248048746912\n",
      "The kurtosis of the normalised rate column data is -0.05964248048746823\n",
      "The kurtosis of the original loan_amount column data is -1.2354309429278456\n",
      "The kurtosis of the normalised loan_amount column data is -1.2354309429278456\n"
     ]
    }
   ],
   "source": [
    "# skewness and kurtosis value of the original and scaled data:\n",
    "print(\"The skewness of the original rate column data is {}\".format(df4.rate.skew()))\n",
    "print('The skewness of the normalised rate column data is {}'.format(df4.MM_R.skew()))\n",
    "print(\"The skewness of the original loan_amount column data is {}\".format(df4.loan_amount.skew()))\n",
    "print(\"The skewness of the normalised loan_amount column data is {}\".format(df4.MM_LA.skew()))\n",
    "\n",
    "print('')\n",
    "\n",
    "print(\"The kurtosis of the original rate column data is {}\".format(df4.rate.kurt()))\n",
    "print('The kurtosis of the normalised rate column data is {}'.format(df4.MM_R.kurt()))\n",
    "print(\"The kurtosis of the original loan_amount column data is {}\".format(df4.loan_amount.kurt()))\n",
    "print(\"The kurtosis of the normalised loan_amount column data is {}\".format(df4.MM_LA.kurt()))"
   ]
  },
  {
   "cell_type": "code",
   "execution_count": 102,
   "metadata": {},
   "outputs": [
    {
     "data": {
      "image/png": "[encoded data removed]",
      "text/plain": [
       "<Figure size 1440x576 with 4 Axes>"
      ]
     },
     "metadata": {
      "needs_background": "light"
     },
     "output_type": "display_data"
    }
   ],
   "source": [
    "# Distribution of the columns\n",
    "\n",
    "fig, axes = plt.subplots(2,2, figsize=(20,8))\n",
    "\n",
    "sns.distplot(df4['rate'], ax=axes[0,0])\n",
    "sns.distplot(df4['MM_R'], ax=axes[0,1])\n",
    "sns.distplot(df4['loan_amount'], ax=axes[1,0])\n",
    "sns.distplot(df4['MM_LA'], ax=axes[1,1])\n",
    "\n",
    "plt.show()"
   ]
  },
  {
   "cell_type": "markdown",
   "metadata": {},
   "source": [
    "## 6. Encoding the Categorical Features\n",
    "\n",
    "There are two ways to encode the categorical data into dummyvariables. Using:\n",
    "- pd.get_dummies\n",
    "- sklearn's in-built function of OneHotEncoder and LabelEncoder"
   ]
  },
  {
   "cell_type": "code",
   "execution_count": 104,
   "metadata": {},
   "outputs": [
    {
     "data": {
      "text/html": [
       "<div>\n",
       "<style scoped>\n",
       "    .dataframe tbody tr th:only-of-type {\n",
       "        vertical-align: middle;\n",
       "    }\n",
       "\n",
       "    .dataframe tbody tr th {\n",
       "        vertical-align: top;\n",
       "    }\n",
       "\n",
       "    .dataframe thead th {\n",
       "        text-align: right;\n",
       "    }\n",
       "</style>\n",
       "<table border=\"1\" class=\"dataframe\">\n",
       "  <thead>\n",
       "    <tr style=\"text-align: right;\">\n",
       "      <th></th>\n",
       "      <th>loan_type</th>\n",
       "      <th>loan_amount</th>\n",
       "      <th>repaid</th>\n",
       "      <th>loan_id</th>\n",
       "      <th>loan_start</th>\n",
       "      <th>loan_end</th>\n",
       "      <th>rate</th>\n",
       "    </tr>\n",
       "    <tr>\n",
       "      <th>client_id</th>\n",
       "      <th></th>\n",
       "      <th></th>\n",
       "      <th></th>\n",
       "      <th></th>\n",
       "      <th></th>\n",
       "      <th></th>\n",
       "      <th></th>\n",
       "    </tr>\n",
       "  </thead>\n",
       "  <tbody>\n",
       "    <tr>\n",
       "      <th>46109</th>\n",
       "      <td>home</td>\n",
       "      <td>13672</td>\n",
       "      <td>0</td>\n",
       "      <td>10243</td>\n",
       "      <td>2002-04-16</td>\n",
       "      <td>2003-12-20</td>\n",
       "      <td>2.15</td>\n",
       "    </tr>\n",
       "    <tr>\n",
       "      <th>46109</th>\n",
       "      <td>credit</td>\n",
       "      <td>9794</td>\n",
       "      <td>0</td>\n",
       "      <td>10984</td>\n",
       "      <td>2003-10-21</td>\n",
       "      <td>2005-07-17</td>\n",
       "      <td>1.25</td>\n",
       "    </tr>\n",
       "    <tr>\n",
       "      <th>46109</th>\n",
       "      <td>home</td>\n",
       "      <td>12734</td>\n",
       "      <td>1</td>\n",
       "      <td>10990</td>\n",
       "      <td>2006-02-01</td>\n",
       "      <td>2007-07-05</td>\n",
       "      <td>0.68</td>\n",
       "    </tr>\n",
       "    <tr>\n",
       "      <th>46109</th>\n",
       "      <td>cash</td>\n",
       "      <td>12518</td>\n",
       "      <td>1</td>\n",
       "      <td>10596</td>\n",
       "      <td>2010-12-08</td>\n",
       "      <td>2013-05-05</td>\n",
       "      <td>1.24</td>\n",
       "    </tr>\n",
       "    <tr>\n",
       "      <th>46109</th>\n",
       "      <td>credit</td>\n",
       "      <td>14049</td>\n",
       "      <td>1</td>\n",
       "      <td>11415</td>\n",
       "      <td>2010-07-07</td>\n",
       "      <td>2012-05-21</td>\n",
       "      <td>3.13</td>\n",
       "    </tr>\n",
       "  </tbody>\n",
       "</table>\n",
       "</div>"
      ],
      "text/plain": [
       "          loan_type  loan_amount repaid loan_id loan_start   loan_end  rate\n",
       "client_id                                                                  \n",
       "46109          home        13672      0   10243 2002-04-16 2003-12-20  2.15\n",
       "46109        credit         9794      0   10984 2003-10-21 2005-07-17  1.25\n",
       "46109          home        12734      1   10990 2006-02-01 2007-07-05  0.68\n",
       "46109          cash        12518      1   10596 2010-12-08 2013-05-05  1.24\n",
       "46109        credit        14049      1   11415 2010-07-07 2012-05-21  3.13"
      ]
     },
     "execution_count": 104,
     "metadata": {},
     "output_type": "execute_result"
    }
   ],
   "source": [
    "# Loans data:\n",
    "df_loans = df3.copy()\n",
    "df_loans.drop(columns=['ZR', 'ZLA'], inplace=True)\n",
    "df_loans.head()"
   ]
  },
  {
   "cell_type": "code",
   "execution_count": 105,
   "metadata": {},
   "outputs": [
    {
     "data": {
      "text/plain": [
       "loan_type              object\n",
       "loan_amount             int64\n",
       "repaid               category\n",
       "loan_id                object\n",
       "loan_start     datetime64[ns]\n",
       "loan_end       datetime64[ns]\n",
       "rate                  float64\n",
       "dtype: object"
      ]
     },
     "execution_count": 105,
     "metadata": {},
     "output_type": "execute_result"
    }
   ],
   "source": [
    "df_loans.dtypes"
   ]
  },
  {
   "cell_type": "code",
   "execution_count": 106,
   "metadata": {},
   "outputs": [
    {
     "data": {
      "text/plain": [
       "client_id\n",
       "46109    0\n",
       "46109    0\n",
       "46109    1\n",
       "46109    1\n",
       "46109    1\n",
       "Name: repaid, dtype: category\n",
       "Categories (2, int64): [0, 1]"
      ]
     },
     "execution_count": 106,
     "metadata": {},
     "output_type": "execute_result"
    }
   ],
   "source": [
    "# Repaid is also a categoriy columns and creating dummies for loan_type\n",
    "df_loans.repaid.head()"
   ]
  },
  {
   "cell_type": "markdown",
   "metadata": {},
   "source": [
    "#### a) pd.get_dummies approach"
   ]
  },
  {
   "cell_type": "code",
   "execution_count": 108,
   "metadata": {},
   "outputs": [
    {
     "data": {
      "text/html": [
       "<div>\n",
       "<style scoped>\n",
       "    .dataframe tbody tr th:only-of-type {\n",
       "        vertical-align: middle;\n",
       "    }\n",
       "\n",
       "    .dataframe tbody tr th {\n",
       "        vertical-align: top;\n",
       "    }\n",
       "\n",
       "    .dataframe thead th {\n",
       "        text-align: right;\n",
       "    }\n",
       "</style>\n",
       "<table border=\"1\" class=\"dataframe\">\n",
       "  <thead>\n",
       "    <tr style=\"text-align: right;\">\n",
       "      <th></th>\n",
       "      <th>credit</th>\n",
       "      <th>home</th>\n",
       "      <th>other</th>\n",
       "    </tr>\n",
       "    <tr>\n",
       "      <th>client_id</th>\n",
       "      <th></th>\n",
       "      <th></th>\n",
       "      <th></th>\n",
       "    </tr>\n",
       "  </thead>\n",
       "  <tbody>\n",
       "    <tr>\n",
       "      <th>46109</th>\n",
       "      <td>0</td>\n",
       "      <td>1</td>\n",
       "      <td>0</td>\n",
       "    </tr>\n",
       "    <tr>\n",
       "      <th>46109</th>\n",
       "      <td>1</td>\n",
       "      <td>0</td>\n",
       "      <td>0</td>\n",
       "    </tr>\n",
       "    <tr>\n",
       "      <th>46109</th>\n",
       "      <td>0</td>\n",
       "      <td>1</td>\n",
       "      <td>0</td>\n",
       "    </tr>\n",
       "    <tr>\n",
       "      <th>46109</th>\n",
       "      <td>0</td>\n",
       "      <td>0</td>\n",
       "      <td>0</td>\n",
       "    </tr>\n",
       "    <tr>\n",
       "      <th>46109</th>\n",
       "      <td>1</td>\n",
       "      <td>0</td>\n",
       "      <td>0</td>\n",
       "    </tr>\n",
       "    <tr>\n",
       "      <th>46109</th>\n",
       "      <td>0</td>\n",
       "      <td>1</td>\n",
       "      <td>0</td>\n",
       "    </tr>\n",
       "    <tr>\n",
       "      <th>46109</th>\n",
       "      <td>0</td>\n",
       "      <td>0</td>\n",
       "      <td>0</td>\n",
       "    </tr>\n",
       "    <tr>\n",
       "      <th>46109</th>\n",
       "      <td>0</td>\n",
       "      <td>1</td>\n",
       "      <td>0</td>\n",
       "    </tr>\n",
       "    <tr>\n",
       "      <th>46109</th>\n",
       "      <td>0</td>\n",
       "      <td>1</td>\n",
       "      <td>0</td>\n",
       "    </tr>\n",
       "    <tr>\n",
       "      <th>46109</th>\n",
       "      <td>0</td>\n",
       "      <td>0</td>\n",
       "      <td>1</td>\n",
       "    </tr>\n",
       "    <tr>\n",
       "      <th>46109</th>\n",
       "      <td>0</td>\n",
       "      <td>0</td>\n",
       "      <td>1</td>\n",
       "    </tr>\n",
       "    <tr>\n",
       "      <th>46109</th>\n",
       "      <td>0</td>\n",
       "      <td>1</td>\n",
       "      <td>0</td>\n",
       "    </tr>\n",
       "    <tr>\n",
       "      <th>46109</th>\n",
       "      <td>0</td>\n",
       "      <td>0</td>\n",
       "      <td>0</td>\n",
       "    </tr>\n",
       "    <tr>\n",
       "      <th>46109</th>\n",
       "      <td>1</td>\n",
       "      <td>0</td>\n",
       "      <td>0</td>\n",
       "    </tr>\n",
       "    <tr>\n",
       "      <th>46109</th>\n",
       "      <td>0</td>\n",
       "      <td>0</td>\n",
       "      <td>1</td>\n",
       "    </tr>\n",
       "    <tr>\n",
       "      <th>46109</th>\n",
       "      <td>1</td>\n",
       "      <td>0</td>\n",
       "      <td>0</td>\n",
       "    </tr>\n",
       "    <tr>\n",
       "      <th>46109</th>\n",
       "      <td>1</td>\n",
       "      <td>0</td>\n",
       "      <td>0</td>\n",
       "    </tr>\n",
       "    <tr>\n",
       "      <th>46109</th>\n",
       "      <td>0</td>\n",
       "      <td>0</td>\n",
       "      <td>1</td>\n",
       "    </tr>\n",
       "    <tr>\n",
       "      <th>46109</th>\n",
       "      <td>1</td>\n",
       "      <td>0</td>\n",
       "      <td>0</td>\n",
       "    </tr>\n",
       "    <tr>\n",
       "      <th>46109</th>\n",
       "      <td>1</td>\n",
       "      <td>0</td>\n",
       "      <td>0</td>\n",
       "    </tr>\n",
       "  </tbody>\n",
       "</table>\n",
       "</div>"
      ],
      "text/plain": [
       "           credit  home  other\n",
       "client_id                     \n",
       "46109           0     1      0\n",
       "46109           1     0      0\n",
       "46109           0     1      0\n",
       "46109           0     0      0\n",
       "46109           1     0      0\n",
       "46109           0     1      0\n",
       "46109           0     0      0\n",
       "46109           0     1      0\n",
       "46109           0     1      0\n",
       "46109           0     0      1\n",
       "46109           0     0      1\n",
       "46109           0     1      0\n",
       "46109           0     0      0\n",
       "46109           1     0      0\n",
       "46109           0     0      1\n",
       "46109           1     0      0\n",
       "46109           1     0      0\n",
       "46109           0     0      1\n",
       "46109           1     0      0\n",
       "46109           1     0      0"
      ]
     },
     "execution_count": 108,
     "metadata": {},
     "output_type": "execute_result"
    }
   ],
   "source": [
    "dummy_cat = pd.get_dummies(df_loans['loan_type'], drop_first = True)\n",
    "dummy_cat.head(20)\n",
    "\n",
    "# drop_first = True drops the first column for each feature"
   ]
  },
  {
   "cell_type": "markdown",
   "metadata": {},
   "source": [
    "#### b) One Hot Encoding"
   ]
  },
  {
   "cell_type": "code",
   "execution_count": 109,
   "metadata": {},
   "outputs": [],
   "source": [
    "from sklearn.preprocessing import OneHotEncoder"
   ]
  },
  {
   "cell_type": "code",
   "execution_count": 110,
   "metadata": {},
   "outputs": [
    {
     "data": {
      "text/plain": [
       "[array(['cash', 'credit', 'home', 'other'], dtype=object)]"
      ]
     },
     "execution_count": 110,
     "metadata": {},
     "output_type": "execute_result"
    }
   ],
   "source": [
    "OE_tips = OneHotEncoder(drop ='first').fit(df_loans[['loan_type']])\n",
    "OE_tips.categories_"
   ]
  },
  {
   "cell_type": "markdown",
   "metadata": {},
   "source": [
    "#### c) Label Encoding"
   ]
  },
  {
   "cell_type": "code",
   "execution_count": 113,
   "metadata": {},
   "outputs": [],
   "source": [
    "from sklearn.preprocessing import LabelEncoder"
   ]
  },
  {
   "cell_type": "code",
   "execution_count": 114,
   "metadata": {},
   "outputs": [],
   "source": [
    "LE = LabelEncoder()\n",
    "LE_tips = LE.fit(df_loans[['loan_type']])"
   ]
  },
  {
   "cell_type": "code",
   "execution_count": 115,
   "metadata": {},
   "outputs": [
    {
     "data": {
      "text/plain": [
       "array(['cash', 'credit', 'home', 'other'], dtype=object)"
      ]
     },
     "execution_count": 115,
     "metadata": {},
     "output_type": "execute_result"
    }
   ],
   "source": [
    "LE_tips.classes_"
   ]
  },
  {
   "cell_type": "code",
   "execution_count": 116,
   "metadata": {},
   "outputs": [
    {
     "data": {
      "text/plain": [
       "array([3, 0, 2, 1], dtype=int64)"
      ]
     },
     "execution_count": 116,
     "metadata": {},
     "output_type": "execute_result"
    }
   ],
   "source": [
    "# transform any new values to Dummy variables via Label Encoder\n",
    "LE_tips.transform(['other', 'cash', 'home', 'credit'])"
   ]
  },
  {
   "cell_type": "code",
   "execution_count": 117,
   "metadata": {},
   "outputs": [
    {
     "data": {
      "text/plain": [
       "array(['credit', 'home', 'other', 'cash'], dtype=object)"
      ]
     },
     "execution_count": 117,
     "metadata": {},
     "output_type": "execute_result"
    }
   ],
   "source": [
    "# Inverse transform to get original values from the dummy variables:\n",
    "LE_tips.inverse_transform([1,2,3,0])"
   ]
  },
  {
   "cell_type": "markdown",
   "metadata": {},
   "source": [
    "## 7. Creating new Derived features\n",
    "We can use the loan_start and loan_end features to calculate the tenure of the loan"
   ]
  },
  {
   "cell_type": "code",
   "execution_count": 118,
   "metadata": {},
   "outputs": [],
   "source": [
    "# import datetime as dt"
   ]
  },
  {
   "cell_type": "code",
   "execution_count": 119,
   "metadata": {},
   "outputs": [
    {
     "data": {
      "text/html": [
       "<div>\n",
       "<style scoped>\n",
       "    .dataframe tbody tr th:only-of-type {\n",
       "        vertical-align: middle;\n",
       "    }\n",
       "\n",
       "    .dataframe tbody tr th {\n",
       "        vertical-align: top;\n",
       "    }\n",
       "\n",
       "    .dataframe thead th {\n",
       "        text-align: right;\n",
       "    }\n",
       "</style>\n",
       "<table border=\"1\" class=\"dataframe\">\n",
       "  <thead>\n",
       "    <tr style=\"text-align: right;\">\n",
       "      <th></th>\n",
       "      <th>loan_type</th>\n",
       "      <th>loan_amount</th>\n",
       "      <th>repaid</th>\n",
       "      <th>loan_id</th>\n",
       "      <th>loan_start</th>\n",
       "      <th>loan_end</th>\n",
       "      <th>rate</th>\n",
       "      <th>loan_tenure</th>\n",
       "    </tr>\n",
       "    <tr>\n",
       "      <th>client_id</th>\n",
       "      <th></th>\n",
       "      <th></th>\n",
       "      <th></th>\n",
       "      <th></th>\n",
       "      <th></th>\n",
       "      <th></th>\n",
       "      <th></th>\n",
       "      <th></th>\n",
       "    </tr>\n",
       "  </thead>\n",
       "  <tbody>\n",
       "    <tr>\n",
       "      <th>46109</th>\n",
       "      <td>home</td>\n",
       "      <td>13672</td>\n",
       "      <td>0</td>\n",
       "      <td>10243</td>\n",
       "      <td>2002-04-16</td>\n",
       "      <td>2003-12-20</td>\n",
       "      <td>2.15</td>\n",
       "      <td>613 days</td>\n",
       "    </tr>\n",
       "    <tr>\n",
       "      <th>46109</th>\n",
       "      <td>credit</td>\n",
       "      <td>9794</td>\n",
       "      <td>0</td>\n",
       "      <td>10984</td>\n",
       "      <td>2003-10-21</td>\n",
       "      <td>2005-07-17</td>\n",
       "      <td>1.25</td>\n",
       "      <td>635 days</td>\n",
       "    </tr>\n",
       "    <tr>\n",
       "      <th>46109</th>\n",
       "      <td>home</td>\n",
       "      <td>12734</td>\n",
       "      <td>1</td>\n",
       "      <td>10990</td>\n",
       "      <td>2006-02-01</td>\n",
       "      <td>2007-07-05</td>\n",
       "      <td>0.68</td>\n",
       "      <td>519 days</td>\n",
       "    </tr>\n",
       "    <tr>\n",
       "      <th>46109</th>\n",
       "      <td>cash</td>\n",
       "      <td>12518</td>\n",
       "      <td>1</td>\n",
       "      <td>10596</td>\n",
       "      <td>2010-12-08</td>\n",
       "      <td>2013-05-05</td>\n",
       "      <td>1.24</td>\n",
       "      <td>879 days</td>\n",
       "    </tr>\n",
       "    <tr>\n",
       "      <th>46109</th>\n",
       "      <td>credit</td>\n",
       "      <td>14049</td>\n",
       "      <td>1</td>\n",
       "      <td>11415</td>\n",
       "      <td>2010-07-07</td>\n",
       "      <td>2012-05-21</td>\n",
       "      <td>3.13</td>\n",
       "      <td>684 days</td>\n",
       "    </tr>\n",
       "  </tbody>\n",
       "</table>\n",
       "</div>"
      ],
      "text/plain": [
       "          loan_type  loan_amount repaid loan_id loan_start   loan_end  rate  \\\n",
       "client_id                                                                     \n",
       "46109          home        13672      0   10243 2002-04-16 2003-12-20  2.15   \n",
       "46109        credit         9794      0   10984 2003-10-21 2005-07-17  1.25   \n",
       "46109          home        12734      1   10990 2006-02-01 2007-07-05  0.68   \n",
       "46109          cash        12518      1   10596 2010-12-08 2013-05-05  1.24   \n",
       "46109        credit        14049      1   11415 2010-07-07 2012-05-21  3.13   \n",
       "\n",
       "          loan_tenure  \n",
       "client_id              \n",
       "46109        613 days  \n",
       "46109        635 days  \n",
       "46109        519 days  \n",
       "46109        879 days  \n",
       "46109        684 days  "
      ]
     },
     "execution_count": 119,
     "metadata": {},
     "output_type": "execute_result"
    }
   ],
   "source": [
    "df_loans['loan_tenure'] =  df_loans['loan_end'] - df_loans['loan_start']\n",
    "df_loans.head()"
   ]
  },
  {
   "cell_type": "code",
   "execution_count": 120,
   "metadata": {},
   "outputs": [
    {
     "data": {
      "text/plain": [
       "loan_type               object\n",
       "loan_amount              int64\n",
       "repaid                category\n",
       "loan_id                 object\n",
       "loan_start      datetime64[ns]\n",
       "loan_end        datetime64[ns]\n",
       "rate                   float64\n",
       "loan_tenure    timedelta64[ns]\n",
       "dtype: object"
      ]
     },
     "execution_count": 120,
     "metadata": {},
     "output_type": "execute_result"
    }
   ],
   "source": [
    "df_loans.dtypes"
   ]
  },
  {
   "cell_type": "markdown",
   "metadata": {},
   "source": [
    "The number of days in the tenure are currently in TimeDelta, we want it integer hence will do the conversion as follows:"
   ]
  },
  {
   "cell_type": "code",
   "execution_count": 121,
   "metadata": {},
   "outputs": [
    {
     "data": {
      "text/plain": [
       "client_id\n",
       "46109    613\n",
       "46109    635\n",
       "46109    519\n",
       "46109    879\n",
       "46109    684\n",
       "        ... \n",
       "26945    928\n",
       "26945    511\n",
       "26945    948\n",
       "26945    633\n",
       "26945    638\n",
       "Name: loan_tenure, Length: 440, dtype: int64"
      ]
     },
     "execution_count": 121,
     "metadata": {},
     "output_type": "execute_result"
    }
   ],
   "source": [
    "df_loans['loan_tenure'] = df_loans['loan_tenure'].dt.days\n",
    "df_loans['loan_tenure']"
   ]
  },
  {
   "cell_type": "code",
   "execution_count": 122,
   "metadata": {},
   "outputs": [
    {
     "data": {
      "text/plain": [
       "client_id\n",
       "46109    1.679452\n",
       "46109    1.739726\n",
       "46109    1.421918\n",
       "46109    2.408219\n",
       "46109    1.873973\n",
       "           ...   \n",
       "26945    2.542466\n",
       "26945    1.400000\n",
       "26945    2.597260\n",
       "26945    1.734247\n",
       "26945    1.747945\n",
       "Name: loan_tenure, Length: 440, dtype: float64"
      ]
     },
     "execution_count": 122,
     "metadata": {},
     "output_type": "execute_result"
    }
   ],
   "source": [
    "# Tenure in number of Years:\n",
    "df_loans['loan_tenure'] = df_loans['loan_tenure']/365\n",
    "df_loans['loan_tenure']"
   ]
  },
  {
   "cell_type": "markdown",
   "metadata": {},
   "source": [
    "## 8. Split into Training and Testing Data"
   ]
  },
  {
   "cell_type": "code",
   "execution_count": 123,
   "metadata": {},
   "outputs": [],
   "source": [
    "from sklearn.model_selection import train_test_split"
   ]
  },
  {
   "cell_type": "code",
   "execution_count": 124,
   "metadata": {},
   "outputs": [],
   "source": [
    "# Splitting for X and Y variables:\n",
    "Y = df_loans['loan_amount']\n",
    "X = df_loans.drop('loan_amount', axis=1)"
   ]
  },
  {
   "cell_type": "code",
   "execution_count": 125,
   "metadata": {},
   "outputs": [
    {
     "data": {
      "text/html": [
       "<div>\n",
       "<style scoped>\n",
       "    .dataframe tbody tr th:only-of-type {\n",
       "        vertical-align: middle;\n",
       "    }\n",
       "\n",
       "    .dataframe tbody tr th {\n",
       "        vertical-align: top;\n",
       "    }\n",
       "\n",
       "    .dataframe thead th {\n",
       "        text-align: right;\n",
       "    }\n",
       "</style>\n",
       "<table border=\"1\" class=\"dataframe\">\n",
       "  <thead>\n",
       "    <tr style=\"text-align: right;\">\n",
       "      <th></th>\n",
       "      <th>loan_type</th>\n",
       "      <th>repaid</th>\n",
       "      <th>loan_id</th>\n",
       "      <th>loan_start</th>\n",
       "      <th>loan_end</th>\n",
       "      <th>rate</th>\n",
       "      <th>loan_tenure</th>\n",
       "    </tr>\n",
       "    <tr>\n",
       "      <th>client_id</th>\n",
       "      <th></th>\n",
       "      <th></th>\n",
       "      <th></th>\n",
       "      <th></th>\n",
       "      <th></th>\n",
       "      <th></th>\n",
       "      <th></th>\n",
       "    </tr>\n",
       "  </thead>\n",
       "  <tbody>\n",
       "    <tr>\n",
       "      <th>46109</th>\n",
       "      <td>home</td>\n",
       "      <td>0</td>\n",
       "      <td>10243</td>\n",
       "      <td>2002-04-16</td>\n",
       "      <td>2003-12-20</td>\n",
       "      <td>2.15</td>\n",
       "      <td>1.679452</td>\n",
       "    </tr>\n",
       "    <tr>\n",
       "      <th>46109</th>\n",
       "      <td>credit</td>\n",
       "      <td>0</td>\n",
       "      <td>10984</td>\n",
       "      <td>2003-10-21</td>\n",
       "      <td>2005-07-17</td>\n",
       "      <td>1.25</td>\n",
       "      <td>1.739726</td>\n",
       "    </tr>\n",
       "    <tr>\n",
       "      <th>46109</th>\n",
       "      <td>home</td>\n",
       "      <td>1</td>\n",
       "      <td>10990</td>\n",
       "      <td>2006-02-01</td>\n",
       "      <td>2007-07-05</td>\n",
       "      <td>0.68</td>\n",
       "      <td>1.421918</td>\n",
       "    </tr>\n",
       "    <tr>\n",
       "      <th>46109</th>\n",
       "      <td>cash</td>\n",
       "      <td>1</td>\n",
       "      <td>10596</td>\n",
       "      <td>2010-12-08</td>\n",
       "      <td>2013-05-05</td>\n",
       "      <td>1.24</td>\n",
       "      <td>2.408219</td>\n",
       "    </tr>\n",
       "    <tr>\n",
       "      <th>46109</th>\n",
       "      <td>credit</td>\n",
       "      <td>1</td>\n",
       "      <td>11415</td>\n",
       "      <td>2010-07-07</td>\n",
       "      <td>2012-05-21</td>\n",
       "      <td>3.13</td>\n",
       "      <td>1.873973</td>\n",
       "    </tr>\n",
       "  </tbody>\n",
       "</table>\n",
       "</div>"
      ],
      "text/plain": [
       "          loan_type repaid loan_id loan_start   loan_end  rate  loan_tenure\n",
       "client_id                                                                  \n",
       "46109          home      0   10243 2002-04-16 2003-12-20  2.15     1.679452\n",
       "46109        credit      0   10984 2003-10-21 2005-07-17  1.25     1.739726\n",
       "46109          home      1   10990 2006-02-01 2007-07-05  0.68     1.421918\n",
       "46109          cash      1   10596 2010-12-08 2013-05-05  1.24     2.408219\n",
       "46109        credit      1   11415 2010-07-07 2012-05-21  3.13     1.873973"
      ]
     },
     "execution_count": 125,
     "metadata": {},
     "output_type": "execute_result"
    }
   ],
   "source": [
    "# Independent Variable\n",
    "X.head()"
   ]
  },
  {
   "cell_type": "code",
   "execution_count": 126,
   "metadata": {},
   "outputs": [
    {
     "data": {
      "text/plain": [
       "client_id\n",
       "46109    13672\n",
       "46109     9794\n",
       "46109    12734\n",
       "46109    12518\n",
       "46109    14049\n",
       "Name: loan_amount, dtype: int64"
      ]
     },
     "execution_count": 126,
     "metadata": {},
     "output_type": "execute_result"
    }
   ],
   "source": [
    "# Dependent or Target Variable\n",
    "Y.head()"
   ]
  },
  {
   "cell_type": "code",
   "execution_count": 127,
   "metadata": {},
   "outputs": [
    {
     "name": "stdout",
     "output_type": "stream",
     "text": [
      "The shape of X_train is: (352, 7)\n",
      "The shape of X_test is: (88, 7)\n",
      "\n",
      "The shape of Y_train is: (352,)\n",
      "The shape of Y_test is: (88,)\n"
     ]
    }
   ],
   "source": [
    "## Splitting dataset into 80% Training and 20% Testing Data:\n",
    "\n",
    "X_train, X_test, Y_train, Y_test = train_test_split(X,Y,train_size=0.8, random_state =0)\n",
    "\n",
    "# random_state ---> is seed -- fixing the sample selection for Training & Testing dataset\n",
    "\n",
    "# check the dimensions of the train & test subset for\n",
    "\n",
    "print(\"The shape of X_train is:\", X_train.shape)\n",
    "print(\"The shape of X_test is:\", X_test.shape)\n",
    "\n",
    "print('')\n",
    "print(\"The shape of Y_train is:\", Y_train.shape)\n",
    "print(\"The shape of Y_test is:\", Y_test.shape)"
   ]
  },
  {
   "cell_type": "markdown",
   "metadata": {},
   "source": [
    "To statistically test if the train and test representative of the overall data, would compute the Median for the independent variables for both the test and train sets."
   ]
  },
  {
   "cell_type": "code",
   "execution_count": 128,
   "metadata": {},
   "outputs": [],
   "source": [
    "# median for y_train\n",
    "median_y_train = Y_train.median()\n",
    "\n",
    "# median for y_test\n",
    "median_y_test = Y_test.median()"
   ]
  },
  {
   "cell_type": "code",
   "execution_count": 129,
   "metadata": {},
   "outputs": [
    {
     "name": "stdout",
     "output_type": "stream",
     "text": [
      "The median for Y Train variables is: 8412.5\n",
      "The median for Y Test variables is: 7673.0\n"
     ]
    }
   ],
   "source": [
    "print('The median for Y Train variables is:',median_y_train)\n",
    "print('The median for Y Test variables is:',median_y_test)"
   ]
  },
  {
   "cell_type": "markdown",
   "metadata": {},
   "source": [
    "## Conclusion:\n",
    "\n",
    "Based on the above result, we can conclude statistically that the train and test representative of the overall data as the median for both y_train and y_test are similar."
   ]
  },
  {
   "cell_type": "code",
   "execution_count": null,
   "metadata": {},
   "outputs": [],
   "source": []
  }
 ],
 "metadata": {
  "kernelspec": {
   "display_name": "Python 3",
   "language": "python",
   "name": "python3"
  },
  "language_info": {
   "codemirror_mode": {
    "name": "ipython",
    "version": 3
   },
   "file_extension": ".py",
   "mimetype": "text/x-python",
   "name": "python",
   "nbconvert_exporter": "python",
   "pygments_lexer": "ipython3",
   "version": "3.7.6"
  }
 },
 "nbformat": 4,
 "nbformat_minor": 1
}
