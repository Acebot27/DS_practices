{
 "cells": [
  {
   "cell_type": "code",
   "execution_count": 1,
   "metadata": {
    "collapsed": true
   },
   "outputs": [],
   "source": [
    "import pandas as pd\n",
    "import numpy as np\n",
    "from matplotlib import pyplot as plt\n",
    "import seaborn as sns\n"
   ]
  },
  {
   "cell_type": "code",
   "execution_count": 2,
   "outputs": [
    {
     "name": "stdout",
     "output_type": "stream",
     "text": [
      "   carat      cut color clarity  depth  table  price     x     y     z\n",
      "1   0.23    Ideal     E     SI2   61.5   55.0    326  3.95  3.98  2.43\n",
      "2   0.21  Premium     E     SI1   59.8   61.0    326  3.89  3.84  2.31\n",
      "3   0.23     Good     E     VS1   56.9   65.0    327  4.05  4.07  2.31\n",
      "4   0.29  Premium     I     VS2   62.4   58.0    334  4.20  4.23  2.63\n",
      "5   0.31     Good     J     SI2   63.3   58.0    335  4.34  4.35  2.75\n"
     ]
    },
    {
     "data": {
      "text/plain": "(53940, 10)"
     },
     "execution_count": 2,
     "metadata": {},
     "output_type": "execute_result"
    }
   ],
   "source": [
    "# importing data for testing any one of the csv files content\n",
    "df = pd.read_csv('./data/diamonds/diamonds.csv', index_col=0)\n",
    "print(df.head())\n",
    "df.shape"
   ],
   "metadata": {
    "collapsed": false
   }
  },
  {
   "cell_type": "code",
   "execution_count": 3,
   "outputs": [
    {
     "data": {
      "text/plain": "              carat         depth         table         price             x  \\\ncount  53940.000000  53940.000000  53940.000000  53940.000000  53940.000000   \nmean       0.797940     61.749405     57.457184   3932.799722      5.731157   \nstd        0.474011      1.432621      2.234491   3989.439738      1.121761   \nmin        0.200000     43.000000     43.000000    326.000000      0.000000   \n25%        0.400000     61.000000     56.000000    950.000000      4.710000   \n50%        0.700000     61.800000     57.000000   2401.000000      5.700000   \n75%        1.040000     62.500000     59.000000   5324.250000      6.540000   \nmax        5.010000     79.000000     95.000000  18823.000000     10.740000   \n\n                  y             z  \ncount  53940.000000  53940.000000  \nmean       5.734526      3.538734  \nstd        1.142135      0.705699  \nmin        0.000000      0.000000  \n25%        4.720000      2.910000  \n50%        5.710000      3.530000  \n75%        6.540000      4.040000  \nmax       58.900000     31.800000  ",
      "text/html": "<div>\n<style scoped>\n    .dataframe tbody tr th:only-of-type {\n        vertical-align: middle;\n    }\n\n    .dataframe tbody tr th {\n        vertical-align: top;\n    }\n\n    .dataframe thead th {\n        text-align: right;\n    }\n</style>\n<table border=\"1\" class=\"dataframe\">\n  <thead>\n    <tr style=\"text-align: right;\">\n      <th></th>\n      <th>carat</th>\n      <th>depth</th>\n      <th>table</th>\n      <th>price</th>\n      <th>x</th>\n      <th>y</th>\n      <th>z</th>\n    </tr>\n  </thead>\n  <tbody>\n    <tr>\n      <th>count</th>\n      <td>53940.000000</td>\n      <td>53940.000000</td>\n      <td>53940.000000</td>\n      <td>53940.000000</td>\n      <td>53940.000000</td>\n      <td>53940.000000</td>\n      <td>53940.000000</td>\n    </tr>\n    <tr>\n      <th>mean</th>\n      <td>0.797940</td>\n      <td>61.749405</td>\n      <td>57.457184</td>\n      <td>3932.799722</td>\n      <td>5.731157</td>\n      <td>5.734526</td>\n      <td>3.538734</td>\n    </tr>\n    <tr>\n      <th>std</th>\n      <td>0.474011</td>\n      <td>1.432621</td>\n      <td>2.234491</td>\n      <td>3989.439738</td>\n      <td>1.121761</td>\n      <td>1.142135</td>\n      <td>0.705699</td>\n    </tr>\n    <tr>\n      <th>min</th>\n      <td>0.200000</td>\n      <td>43.000000</td>\n      <td>43.000000</td>\n      <td>326.000000</td>\n      <td>0.000000</td>\n      <td>0.000000</td>\n      <td>0.000000</td>\n    </tr>\n    <tr>\n      <th>25%</th>\n      <td>0.400000</td>\n      <td>61.000000</td>\n      <td>56.000000</td>\n      <td>950.000000</td>\n      <td>4.710000</td>\n      <td>4.720000</td>\n      <td>2.910000</td>\n    </tr>\n    <tr>\n      <th>50%</th>\n      <td>0.700000</td>\n      <td>61.800000</td>\n      <td>57.000000</td>\n      <td>2401.000000</td>\n      <td>5.700000</td>\n      <td>5.710000</td>\n      <td>3.530000</td>\n    </tr>\n    <tr>\n      <th>75%</th>\n      <td>1.040000</td>\n      <td>62.500000</td>\n      <td>59.000000</td>\n      <td>5324.250000</td>\n      <td>6.540000</td>\n      <td>6.540000</td>\n      <td>4.040000</td>\n    </tr>\n    <tr>\n      <th>max</th>\n      <td>5.010000</td>\n      <td>79.000000</td>\n      <td>95.000000</td>\n      <td>18823.000000</td>\n      <td>10.740000</td>\n      <td>58.900000</td>\n      <td>31.800000</td>\n    </tr>\n  </tbody>\n</table>\n</div>"
     },
     "execution_count": 3,
     "metadata": {},
     "output_type": "execute_result"
    }
   ],
   "source": [
    "df.describe()"
   ],
   "metadata": {
    "collapsed": false
   }
  },
  {
   "cell_type": "code",
   "execution_count": 4,
   "outputs": [
    {
     "data": {
      "text/plain": "carat      float64\ncut         object\ncolor       object\nclarity     object\ndepth      float64\ntable      float64\nprice        int64\nx          float64\ny          float64\nz          float64\ndtype: object"
     },
     "execution_count": 4,
     "metadata": {},
     "output_type": "execute_result"
    }
   ],
   "source": [
    "df.dtypes"
   ],
   "metadata": {
    "collapsed": false
   }
  },
  {
   "cell_type": "code",
   "execution_count": 5,
   "outputs": [
    {
     "name": "stdout",
     "output_type": "stream",
     "text": [
      "Unique values in Cut Columns:  ['Ideal' 'Premium' 'Good' 'Very Good' 'Fair']\n",
      "Unique values in Color Columns:  ['E' 'I' 'J' 'H' 'F' 'G' 'D']\n",
      "Unique values in Clarity Columns:  ['SI2' 'SI1' 'VS1' 'VS2' 'VVS2' 'VVS1' 'I1' 'IF']\n"
     ]
    }
   ],
   "source": [
    "diamonds = df.copy()\n",
    "print(\"Unique values in Cut Columns: \", diamonds['cut'].unique())\n",
    "print(\"Unique values in Color Columns: \", diamonds['color'].unique())\n",
    "print(\"Unique values in Clarity Columns: \", diamonds['clarity'].unique())"
   ],
   "metadata": {
    "collapsed": false
   }
  },
  {
   "cell_type": "code",
   "execution_count": 6,
   "outputs": [],
   "source": [
    "# create dictionaries for categorical variables\n",
    "cut_dict = {'Fair':1, 'Good':2, 'Very Good':3, 'Premium':4, 'Ideal':5}\n",
    "color_dict = {'J':1, 'I':2, 'H':3, 'G':4, 'F':5, 'E':6, 'D':7}\n",
    "clarity_dict = {'I1':1, 'SI2':2, 'SI1':3, 'VS2':4, 'VS1':5, 'VVS2':6, 'VVS1':7, 'IF':8}"
   ],
   "metadata": {
    "collapsed": false
   }
  },
  {
   "cell_type": "code",
   "execution_count": 7,
   "outputs": [
    {
     "data": {
      "text/plain": "   carat  cut  color  clarity  depth  table  price     x     y     z\n1   0.23    5      6        2   61.5   55.0    326  3.95  3.98  2.43\n2   0.21    4      6        3   59.8   61.0    326  3.89  3.84  2.31\n3   0.23    2      6        5   56.9   65.0    327  4.05  4.07  2.31\n4   0.29    4      2        4   62.4   58.0    334  4.20  4.23  2.63\n5   0.31    2      1        2   63.3   58.0    335  4.34  4.35  2.75",
      "text/html": "<div>\n<style scoped>\n    .dataframe tbody tr th:only-of-type {\n        vertical-align: middle;\n    }\n\n    .dataframe tbody tr th {\n        vertical-align: top;\n    }\n\n    .dataframe thead th {\n        text-align: right;\n    }\n</style>\n<table border=\"1\" class=\"dataframe\">\n  <thead>\n    <tr style=\"text-align: right;\">\n      <th></th>\n      <th>carat</th>\n      <th>cut</th>\n      <th>color</th>\n      <th>clarity</th>\n      <th>depth</th>\n      <th>table</th>\n      <th>price</th>\n      <th>x</th>\n      <th>y</th>\n      <th>z</th>\n    </tr>\n  </thead>\n  <tbody>\n    <tr>\n      <th>1</th>\n      <td>0.23</td>\n      <td>5</td>\n      <td>6</td>\n      <td>2</td>\n      <td>61.5</td>\n      <td>55.0</td>\n      <td>326</td>\n      <td>3.95</td>\n      <td>3.98</td>\n      <td>2.43</td>\n    </tr>\n    <tr>\n      <th>2</th>\n      <td>0.21</td>\n      <td>4</td>\n      <td>6</td>\n      <td>3</td>\n      <td>59.8</td>\n      <td>61.0</td>\n      <td>326</td>\n      <td>3.89</td>\n      <td>3.84</td>\n      <td>2.31</td>\n    </tr>\n    <tr>\n      <th>3</th>\n      <td>0.23</td>\n      <td>2</td>\n      <td>6</td>\n      <td>5</td>\n      <td>56.9</td>\n      <td>65.0</td>\n      <td>327</td>\n      <td>4.05</td>\n      <td>4.07</td>\n      <td>2.31</td>\n    </tr>\n    <tr>\n      <th>4</th>\n      <td>0.29</td>\n      <td>4</td>\n      <td>2</td>\n      <td>4</td>\n      <td>62.4</td>\n      <td>58.0</td>\n      <td>334</td>\n      <td>4.20</td>\n      <td>4.23</td>\n      <td>2.63</td>\n    </tr>\n    <tr>\n      <th>5</th>\n      <td>0.31</td>\n      <td>2</td>\n      <td>1</td>\n      <td>2</td>\n      <td>63.3</td>\n      <td>58.0</td>\n      <td>335</td>\n      <td>4.34</td>\n      <td>4.35</td>\n      <td>2.75</td>\n    </tr>\n  </tbody>\n</table>\n</div>"
     },
     "execution_count": 7,
     "metadata": {},
     "output_type": "execute_result"
    }
   ],
   "source": [
    "# map the dictionaries to the categorical variables\n",
    "diamonds['cut'] = diamonds['cut'].map(cut_dict)\n",
    "diamonds['color'] = diamonds['color'].map(color_dict)\n",
    "diamonds['clarity'] = diamonds['clarity'].map(clarity_dict)\n",
    "diamonds.head()"
   ],
   "metadata": {
    "collapsed": false
   }
  },
  {
   "cell_type": "code",
   "execution_count": 8,
   "outputs": [
    {
     "data": {
      "text/plain": "carat      0\ncut        0\ncolor      0\nclarity    0\ndepth      0\ntable      0\nprice      0\nx          0\ny          0\nz          0\ndtype: int64"
     },
     "execution_count": 8,
     "metadata": {},
     "output_type": "execute_result"
    }
   ],
   "source": [
    "# checking null values\n",
    "diamonds.isnull().sum()"
   ],
   "metadata": {
    "collapsed": false
   }
  },
  {
   "cell_type": "code",
   "execution_count": 9,
   "outputs": [],
   "source": [
    "from sklearn.utils import shuffle\n",
    "from sklearn import preprocessing\n",
    "from sklearn.model_selection import train_test_split"
   ],
   "metadata": {
    "collapsed": false
   }
  },
  {
   "cell_type": "code",
   "execution_count": 10,
   "outputs": [],
   "source": [
    "# shuffle the dataset\n",
    "diamonds = shuffle(diamonds)"
   ],
   "metadata": {
    "collapsed": false
   }
  },
  {
   "cell_type": "code",
   "execution_count": 11,
   "outputs": [],
   "source": [
    "# split the dataset into train and test\n",
    "X_train_diamonds, X_test_diamonds, y_train_diamonds, y_test_diamonds = train_test_split(diamonds.drop('price', axis=1),\n",
    "                                                                                        diamonds['price'], test_size=0.2,\n",
    "                                                                                        random_state=42)"
   ],
   "metadata": {
    "collapsed": false
   }
  },
  {
   "cell_type": "code",
   "execution_count": 12,
   "outputs": [],
   "source": [
    "# scale the data\n",
    "X_train_diamonds_scaled = preprocessing.scale(X_train_diamonds)\n",
    "X_test_diamonds_scaled = preprocessing.scale(X_test_diamonds)"
   ],
   "metadata": {
    "collapsed": false
   }
  },
  {
   "cell_type": "code",
   "execution_count": 13,
   "outputs": [
    {
     "name": "stdout",
     "output_type": "stream",
     "text": [
      "<class 'numpy.ndarray'> <class 'numpy.ndarray'>\n",
      "<class 'pandas.core.series.Series'> <class 'pandas.core.series.Series'>\n",
      "(43152, 9)\n",
      "(43152,)\n"
     ]
    }
   ],
   "source": [
    "train_x = X_train_diamonds_scaled\n",
    "train_y = y_train_diamonds\n",
    "validation_x = X_test_diamonds_scaled\n",
    "validation_y = y_test_diamonds\n",
    "\n",
    "print(type(train_x), type(validation_x))\n",
    "# train_y = np.array(train_y)\n",
    "# validation_y = np.array(validation_y)\n",
    "print(type(train_y), type(validation_y))\n",
    "print(train_x.shape)\n",
    "print(train_y.shape)"
   ],
   "metadata": {
    "collapsed": false
   }
  },
  {
   "cell_type": "markdown",
   "source": [
    "### XGBoost Regression"
   ],
   "metadata": {
    "collapsed": false
   }
  },
  {
   "cell_type": "code",
   "execution_count": 14,
   "outputs": [
    {
     "data": {
      "text/plain": "<Experiment: artifact_location='./mlruns/2', creation_time=1691677228447, experiment_id='2', last_update_time=1691677228447, lifecycle_stage='active', name='diamonds-price-experiment', tags={}>"
     },
     "execution_count": 14,
     "metadata": {},
     "output_type": "execute_result"
    }
   ],
   "source": [
    "import xgboost as xgb\n",
    "import mlflow\n",
    "\n",
    "MLFLOW_TRACKING_URI = \"sqlite:///mlflow.db\"\n",
    "MLFLOW_EXPERIMENT_NAME = \"diamonds-price-experiment\"\n",
    "\n",
    "mlflow.set_tracking_uri(uri=MLFLOW_TRACKING_URI)\n",
    "mlflow.set_experiment(experiment_name=MLFLOW_EXPERIMENT_NAME)"
   ],
   "metadata": {
    "collapsed": false
   }
  },
  {
   "cell_type": "code",
   "execution_count": 15,
   "outputs": [],
   "source": [
    "# Create regression matrices\n",
    "dtrain_reg = xgb.DMatrix(train_x, label=train_y)\n",
    "dtest_reg = xgb.DMatrix(validation_x, label=validation_y)"
   ],
   "metadata": {
    "collapsed": false
   }
  },
  {
   "cell_type": "code",
   "execution_count": 16,
   "outputs": [],
   "source": [
    "from sklearn.metrics import mean_squared_error, r2_score, mean_absolute_error\n",
    "from sklearn.model_selection import KFold, cross_val_score\n",
    "\n",
    "from hyperopt import fmin, tpe, hp, STATUS_OK, Trials\n",
    "from hyperopt.pyll import scope\n",
    "from mlflow import xgboost, sklearn"
   ],
   "metadata": {
    "collapsed": false
   }
  },
  {
   "cell_type": "code",
   "execution_count": 17,
   "outputs": [],
   "source": [
    "def objective(params):\n",
    "    with mlflow.start_run():\n",
    "        mlflow.set_tag(\"model\", \"xgboost\")\n",
    "        mlflow.log_params(params)\n",
    "\n",
    "        booster = xgb.train(\n",
    "            params=params,\n",
    "            dtrain=dtrain_reg,\n",
    "            num_boost_round=10000,\n",
    "            evals=[(dtest_reg, \"validation\")],\n",
    "            early_stopping_rounds=15\n",
    "        )\n",
    "        y_pred = booster.predict(dtest_reg)\n",
    "        mae = mean_absolute_error(validation_y, y_pred)\n",
    "        rmse = mean_squared_error(validation_y, y_pred, squared=False)\n",
    "        score = booster.best_score\n",
    "        mlflow.log_metric(\"rmse\", rmse)\n",
    "        mlflow.log_metric(\"mae\", mae)\n",
    "        mlflow.log_metric(\"accuracy\", score)\n",
    "\n",
    "    return {'loss': rmse, 'status': STATUS_OK}"
   ],
   "metadata": {
    "collapsed": false
   }
  },
  {
   "cell_type": "code",
   "execution_count": 18,
   "outputs": [
    {
     "name": "stdout",
     "output_type": "stream",
     "text": [
      "[0]\tvalidation-rmse:4938.02477                      \n",
      "[1]\tvalidation-rmse:4374.16254                      \n",
      "[2]\tvalidation-rmse:3899.93807                      \n",
      "[3]\tvalidation-rmse:3513.46774                      \n",
      "[4]\tvalidation-rmse:3186.21681                      \n",
      "[5]\tvalidation-rmse:2917.76819                      \n",
      "[6]\tvalidation-rmse:2692.15282                      \n",
      "[7]\tvalidation-rmse:2509.51179                      \n",
      "[8]\tvalidation-rmse:2361.32079                      \n",
      "[9]\tvalidation-rmse:2238.12708                      \n",
      "[10]\tvalidation-rmse:2139.44473                     \n",
      "[11]\tvalidation-rmse:2046.08032                     \n",
      "[12]\tvalidation-rmse:1974.53540                     \n",
      "[13]\tvalidation-rmse:1917.24568                     \n",
      "[14]\tvalidation-rmse:1874.95469                     \n",
      "[15]\tvalidation-rmse:1840.85431                     \n",
      "[16]\tvalidation-rmse:1803.13823                     \n",
      "[17]\tvalidation-rmse:1780.27380                     \n",
      "[18]\tvalidation-rmse:1765.25708                     \n",
      "[19]\tvalidation-rmse:1752.49140                     \n",
      "[20]\tvalidation-rmse:1740.26410                     \n",
      "[21]\tvalidation-rmse:1728.74042                     \n",
      "[22]\tvalidation-rmse:1719.50233                     \n",
      "[23]\tvalidation-rmse:1710.73451                     \n",
      "[24]\tvalidation-rmse:1707.61100                     \n",
      "[25]\tvalidation-rmse:1700.65032                     \n",
      "[26]\tvalidation-rmse:1696.88924                     \n",
      "[27]\tvalidation-rmse:1695.37866                     \n",
      "[28]\tvalidation-rmse:1697.85097                     \n",
      "[29]\tvalidation-rmse:1696.15225                     \n",
      "[30]\tvalidation-rmse:1695.21667                     \n",
      "[31]\tvalidation-rmse:1692.30669                     \n",
      "[32]\tvalidation-rmse:1692.04173                     \n",
      "[33]\tvalidation-rmse:1695.69630                     \n",
      "[34]\tvalidation-rmse:1695.88348                     \n",
      "[35]\tvalidation-rmse:1697.83734                     \n",
      "[36]\tvalidation-rmse:1698.03040                     \n",
      "[37]\tvalidation-rmse:1695.98528                     \n",
      "[38]\tvalidation-rmse:1696.32185                     \n",
      "[39]\tvalidation-rmse:1699.35780                     \n",
      "[40]\tvalidation-rmse:1701.82572                     \n",
      "[41]\tvalidation-rmse:1701.87109                     \n",
      "[42]\tvalidation-rmse:1701.81862                     \n",
      "[43]\tvalidation-rmse:1704.46433                     \n",
      "[44]\tvalidation-rmse:1705.31699                     \n",
      "[45]\tvalidation-rmse:1708.61913                     \n",
      "[46]\tvalidation-rmse:1709.01662                     \n",
      "[0]\tvalidation-rmse:3106.30944                                              \n",
      "[1]\tvalidation-rmse:2246.12887                                              \n",
      "[2]\tvalidation-rmse:1955.09187                                              \n",
      "[3]\tvalidation-rmse:1852.61429                                              \n",
      "[4]\tvalidation-rmse:1815.36006                                              \n",
      "[5]\tvalidation-rmse:1801.86471                                              \n",
      "[6]\tvalidation-rmse:1796.93443                                              \n",
      "[7]\tvalidation-rmse:1795.03687                                              \n",
      "[8]\tvalidation-rmse:1794.31596                                              \n",
      "[9]\tvalidation-rmse:1794.05231                                              \n",
      "[10]\tvalidation-rmse:1793.94678                                             \n",
      "[11]\tvalidation-rmse:1793.90782                                             \n",
      "[12]\tvalidation-rmse:1793.89457                                             \n",
      "[13]\tvalidation-rmse:1793.88637                                             \n",
      "[14]\tvalidation-rmse:1793.88311                                             \n",
      "[15]\tvalidation-rmse:1793.88195                                             \n",
      "[16]\tvalidation-rmse:1793.88112                                             \n",
      "[17]\tvalidation-rmse:1793.88067                                             \n",
      "[18]\tvalidation-rmse:1793.88011                                             \n",
      "[19]\tvalidation-rmse:1793.87992                                             \n",
      "[20]\tvalidation-rmse:1793.87967                                             \n",
      "[21]\tvalidation-rmse:1793.87914                                             \n",
      "[22]\tvalidation-rmse:1793.87914                                             \n",
      "[23]\tvalidation-rmse:1793.87905                                             \n",
      "[24]\tvalidation-rmse:1793.87892                                             \n",
      "[25]\tvalidation-rmse:1793.87884                                             \n",
      "[26]\tvalidation-rmse:1793.87878                                             \n",
      "[27]\tvalidation-rmse:1793.87871                                             \n",
      "[28]\tvalidation-rmse:1793.87866                                             \n",
      "[29]\tvalidation-rmse:1793.87864                                             \n",
      "[30]\tvalidation-rmse:1793.87864                                             \n",
      "[31]\tvalidation-rmse:1793.87866                                             \n",
      "[32]\tvalidation-rmse:1793.87865                                             \n",
      "[33]\tvalidation-rmse:1793.87861                                             \n",
      "[34]\tvalidation-rmse:1793.87855                                             \n",
      "[35]\tvalidation-rmse:1793.87854                                             \n",
      "[36]\tvalidation-rmse:1793.87849                                             \n",
      "[37]\tvalidation-rmse:1793.87849                                             \n",
      "[38]\tvalidation-rmse:1793.87838                                             \n",
      "[39]\tvalidation-rmse:1793.87842                                             \n",
      "[40]\tvalidation-rmse:1793.87841                                             \n",
      "[41]\tvalidation-rmse:1793.87845                                             \n",
      "[42]\tvalidation-rmse:1793.87841                                             \n",
      "[43]\tvalidation-rmse:1793.87841                                             \n",
      "[44]\tvalidation-rmse:1793.87844                                             \n",
      "[45]\tvalidation-rmse:1793.87845                                             \n",
      "[46]\tvalidation-rmse:1793.87847                                             \n",
      "[47]\tvalidation-rmse:1793.87846                                             \n",
      "[48]\tvalidation-rmse:1793.87847                                             \n",
      "[49]\tvalidation-rmse:1793.87848                                             \n",
      "[50]\tvalidation-rmse:1793.87847                                             \n",
      "[51]\tvalidation-rmse:1793.87846                                             \n",
      "[52]\tvalidation-rmse:1793.87848                                             \n",
      "[53]\tvalidation-rmse:1793.87848                                             \n",
      "[0]\tvalidation-rmse:3778.55610                                              \n",
      "[1]\tvalidation-rmse:2792.87768                                              \n",
      "[2]\tvalidation-rmse:2246.83859                                              \n",
      "[3]\tvalidation-rmse:1977.87438                                              \n",
      "[4]\tvalidation-rmse:1861.51390                                              \n",
      "[5]\tvalidation-rmse:1807.16520                                              \n",
      "[6]\tvalidation-rmse:1769.97113                                              \n",
      "[7]\tvalidation-rmse:1771.15468                                              \n",
      "[8]\tvalidation-rmse:1769.56461                                              \n",
      "[9]\tvalidation-rmse:1766.04956                                              \n",
      "[10]\tvalidation-rmse:1758.73560                                             \n",
      "[11]\tvalidation-rmse:1755.84679                                             \n",
      "[12]\tvalidation-rmse:1754.40824                                             \n",
      "[13]\tvalidation-rmse:1756.38139                                             \n",
      "[14]\tvalidation-rmse:1756.39918                                             \n",
      "[15]\tvalidation-rmse:1767.93165                                             \n",
      "[16]\tvalidation-rmse:1767.32936                                             \n",
      "[17]\tvalidation-rmse:1770.17163                                             \n",
      "[18]\tvalidation-rmse:1775.92698                                             \n",
      "[19]\tvalidation-rmse:1768.11875                                             \n",
      "[20]\tvalidation-rmse:1760.93316                                             \n",
      "[21]\tvalidation-rmse:1759.74686                                             \n",
      "[22]\tvalidation-rmse:1763.40927                                             \n",
      "[23]\tvalidation-rmse:1762.27601                                             \n",
      "[24]\tvalidation-rmse:1759.74862                                             \n",
      "[25]\tvalidation-rmse:1759.12647                                             \n",
      "[26]\tvalidation-rmse:1763.22543                                             \n",
      "[0]\tvalidation-rmse:5058.51570                                              \n",
      "[1]\tvalidation-rmse:4578.14787                                              \n",
      "[2]\tvalidation-rmse:4169.91411                                              \n",
      "[3]\tvalidation-rmse:3819.10696                                              \n",
      "[4]\tvalidation-rmse:3512.91678                                              \n",
      "[5]\tvalidation-rmse:3253.85258                                              \n",
      "[6]\tvalidation-rmse:3030.22109                                              \n",
      "[7]\tvalidation-rmse:2838.66381                                              \n",
      "[8]\tvalidation-rmse:2673.51479                                              \n",
      "[9]\tvalidation-rmse:2534.58275                                              \n",
      "[10]\tvalidation-rmse:2416.29617                                             \n",
      "[11]\tvalidation-rmse:2313.06155                                             \n",
      "[12]\tvalidation-rmse:2225.52666                                             \n",
      "[13]\tvalidation-rmse:2152.90843                                             \n",
      "[14]\tvalidation-rmse:2087.12299                                             \n",
      "[15]\tvalidation-rmse:2032.07851                                             \n",
      "[16]\tvalidation-rmse:1983.84862                                             \n",
      "[17]\tvalidation-rmse:1941.61367                                             \n",
      "[18]\tvalidation-rmse:1907.19794                                             \n",
      "[19]\tvalidation-rmse:1870.41754                                             \n",
      "[20]\tvalidation-rmse:1842.72420                                             \n",
      "[21]\tvalidation-rmse:1817.07096                                             \n",
      "[22]\tvalidation-rmse:1802.67511                                             \n",
      "[23]\tvalidation-rmse:1789.64751                                             \n",
      "[24]\tvalidation-rmse:1776.12060                                             \n",
      "[25]\tvalidation-rmse:1766.79593                                             \n",
      "[26]\tvalidation-rmse:1757.69647                                             \n",
      "[27]\tvalidation-rmse:1749.92212                                             \n",
      "[28]\tvalidation-rmse:1743.71652                                             \n",
      "[29]\tvalidation-rmse:1737.43308                                             \n",
      "[30]\tvalidation-rmse:1730.34661                                             \n",
      "[31]\tvalidation-rmse:1728.40777                                             \n",
      "[32]\tvalidation-rmse:1725.30731                                             \n",
      "[33]\tvalidation-rmse:1724.86972                                             \n",
      "[34]\tvalidation-rmse:1724.45839                                             \n",
      "[35]\tvalidation-rmse:1722.28494                                             \n",
      "[36]\tvalidation-rmse:1722.54923                                             \n",
      "[37]\tvalidation-rmse:1724.01260                                             \n",
      "[38]\tvalidation-rmse:1723.32946                                             \n",
      "[39]\tvalidation-rmse:1724.16820                                             \n",
      "[40]\tvalidation-rmse:1722.07447                                             \n",
      "[41]\tvalidation-rmse:1721.83668                                             \n",
      "[42]\tvalidation-rmse:1720.84842                                             \n",
      "[43]\tvalidation-rmse:1721.90194                                             \n",
      "[44]\tvalidation-rmse:1722.79728                                             \n",
      "[45]\tvalidation-rmse:1722.04887                                             \n",
      "[46]\tvalidation-rmse:1723.04082                                             \n",
      "[47]\tvalidation-rmse:1723.55826                                             \n",
      "[48]\tvalidation-rmse:1723.95626                                             \n",
      "[49]\tvalidation-rmse:1724.62913                                             \n",
      "[50]\tvalidation-rmse:1724.71226                                             \n",
      "[51]\tvalidation-rmse:1724.57600                                             \n",
      "[52]\tvalidation-rmse:1725.23444                                             \n",
      "[53]\tvalidation-rmse:1726.60364                                             \n",
      "[54]\tvalidation-rmse:1728.31302                                             \n",
      "[55]\tvalidation-rmse:1728.09233                                             \n",
      "[56]\tvalidation-rmse:1730.29451                                             \n",
      "[21:25:35] WARNING: C:/Users/administrator/workspace/xgboost-win64_release_1.6.0/src/objective/regression_obj.cu:203: reg:linear is now deprecated in favor of reg:squarederror.\n",
      "[0]\tvalidation-rmse:3480.53901                                              \n",
      "[1]\tvalidation-rmse:2526.26776                                              \n",
      "[2]\tvalidation-rmse:2098.22675                                              \n",
      "[3]\tvalidation-rmse:1902.60902                                              \n",
      "[4]\tvalidation-rmse:1808.49927                                              \n",
      "[5]\tvalidation-rmse:1779.68968                                              \n",
      "[6]\tvalidation-rmse:1755.48393                                              \n",
      "[7]\tvalidation-rmse:1752.78553                                              \n",
      "[8]\tvalidation-rmse:1752.09551                                              \n",
      "[9]\tvalidation-rmse:1745.93891                                              \n",
      "[10]\tvalidation-rmse:1750.27097                                             \n",
      "[11]\tvalidation-rmse:1750.39069                                             \n",
      "[12]\tvalidation-rmse:1751.35231                                             \n",
      "[13]\tvalidation-rmse:1752.05991                                             \n",
      "[14]\tvalidation-rmse:1751.29435                                             \n",
      "[15]\tvalidation-rmse:1751.56542                                             \n",
      "[16]\tvalidation-rmse:1750.01740                                             \n",
      "[17]\tvalidation-rmse:1749.80127                                             \n",
      "[18]\tvalidation-rmse:1751.12057                                             \n",
      "[19]\tvalidation-rmse:1752.20077                                             \n",
      "[20]\tvalidation-rmse:1752.40633                                             \n",
      "[21]\tvalidation-rmse:1750.75541                                             \n",
      "[22]\tvalidation-rmse:1749.11754                                             \n",
      "[23]\tvalidation-rmse:1748.54617                                             \n",
      "[0]\tvalidation-rmse:4868.97194                                              \n",
      "[1]\tvalidation-rmse:4268.00132                                              \n",
      "[2]\tvalidation-rmse:3785.49506                                              \n",
      "[3]\tvalidation-rmse:3392.32900                                              \n",
      "[4]\tvalidation-rmse:3073.53861                                              \n",
      "[5]\tvalidation-rmse:2820.73794                                              \n",
      "[6]\tvalidation-rmse:2613.77237                                              \n",
      "[7]\tvalidation-rmse:2445.61486                                              \n",
      "[8]\tvalidation-rmse:2311.40412                                              \n",
      "[9]\tvalidation-rmse:2201.06885                                              \n",
      "[10]\tvalidation-rmse:2115.68151                                             \n",
      "[11]\tvalidation-rmse:2044.06854                                             \n",
      "[12]\tvalidation-rmse:1984.62726                                             \n",
      "[13]\tvalidation-rmse:1940.51676                                             \n",
      "[14]\tvalidation-rmse:1900.85731                                             \n",
      "[15]\tvalidation-rmse:1869.32858                                             \n",
      "[16]\tvalidation-rmse:1844.16284                                             \n",
      "[17]\tvalidation-rmse:1824.89213                                             \n",
      "[18]\tvalidation-rmse:1808.54638                                             \n",
      "[19]\tvalidation-rmse:1794.90541                                             \n",
      "[20]\tvalidation-rmse:1779.87518                                             \n",
      "[21]\tvalidation-rmse:1773.07935                                             \n",
      "[22]\tvalidation-rmse:1763.87020                                             \n",
      "[23]\tvalidation-rmse:1761.59921                                             \n",
      "[24]\tvalidation-rmse:1756.94219                                             \n",
      "[25]\tvalidation-rmse:1753.61206                                             \n",
      "[26]\tvalidation-rmse:1750.50066                                             \n",
      "[27]\tvalidation-rmse:1750.60854                                             \n",
      "[28]\tvalidation-rmse:1747.59674                                             \n",
      "[29]\tvalidation-rmse:1750.08010                                             \n",
      "[30]\tvalidation-rmse:1749.27005                                             \n",
      "[31]\tvalidation-rmse:1748.93019                                             \n",
      "[32]\tvalidation-rmse:1749.31389                                             \n",
      "[33]\tvalidation-rmse:1748.85649                                             \n",
      "[34]\tvalidation-rmse:1747.24163                                             \n",
      "[35]\tvalidation-rmse:1744.46552                                             \n",
      "[36]\tvalidation-rmse:1743.39230                                             \n",
      "[37]\tvalidation-rmse:1743.67465                                             \n",
      "[38]\tvalidation-rmse:1743.71976                                             \n",
      "[39]\tvalidation-rmse:1743.81807                                             \n",
      "[40]\tvalidation-rmse:1744.25850                                             \n",
      "[41]\tvalidation-rmse:1744.17470                                             \n",
      "[42]\tvalidation-rmse:1744.45671                                             \n",
      "[43]\tvalidation-rmse:1745.97557                                             \n",
      "[44]\tvalidation-rmse:1746.22367                                             \n",
      "[45]\tvalidation-rmse:1747.51253                                             \n",
      "[46]\tvalidation-rmse:1747.81910                                             \n",
      "[47]\tvalidation-rmse:1747.41579                                             \n",
      "[48]\tvalidation-rmse:1749.61456                                             \n",
      "[49]\tvalidation-rmse:1751.86470                                             \n",
      "[50]\tvalidation-rmse:1754.94507                                             \n",
      "[21:25:45] WARNING: C:/Users/administrator/workspace/xgboost-win64_release_1.6.0/src/objective/regression_obj.cu:203: reg:linear is now deprecated in favor of reg:squarederror.\n",
      "[0]\tvalidation-rmse:4730.73537                                              \n",
      "[1]\tvalidation-rmse:4021.11339                                              \n",
      "[2]\tvalidation-rmse:3439.80448                                              \n",
      "[3]\tvalidation-rmse:3012.76970                                              \n",
      "[4]\tvalidation-rmse:2649.95331                                              \n",
      "[5]\tvalidation-rmse:2404.42013                                              \n",
      "[6]\tvalidation-rmse:2209.10658                                              \n",
      "[7]\tvalidation-rmse:2039.87206                                              \n",
      "[8]\tvalidation-rmse:1912.69825                                              \n",
      "[9]\tvalidation-rmse:1787.36082                                              \n",
      "[10]\tvalidation-rmse:1707.33557                                             \n",
      "[11]\tvalidation-rmse:1666.57018                                             \n",
      "[12]\tvalidation-rmse:1643.34442                                             \n",
      "[13]\tvalidation-rmse:1592.58169                                             \n",
      "[14]\tvalidation-rmse:1569.38358                                             \n",
      "[15]\tvalidation-rmse:1582.74947                                             \n",
      "[16]\tvalidation-rmse:1564.25183                                             \n",
      "[17]\tvalidation-rmse:1548.45048                                             \n",
      "[18]\tvalidation-rmse:1561.37112                                             \n",
      "[19]\tvalidation-rmse:1551.81915                                             \n",
      "[20]\tvalidation-rmse:1556.15201                                             \n",
      "[21]\tvalidation-rmse:1561.21035                                             \n",
      "[22]\tvalidation-rmse:1555.01969                                             \n",
      "[23]\tvalidation-rmse:1573.94738                                             \n",
      "[24]\tvalidation-rmse:1570.79907                                             \n",
      "[25]\tvalidation-rmse:1588.60010                                             \n",
      "[26]\tvalidation-rmse:1583.28713                                             \n",
      "[27]\tvalidation-rmse:1583.65148                                             \n",
      "[28]\tvalidation-rmse:1589.65746                                             \n",
      "[29]\tvalidation-rmse:1592.50362                                             \n",
      "[30]\tvalidation-rmse:1590.03348                                             \n",
      "[31]\tvalidation-rmse:1591.86592                                             \n",
      "[32]\tvalidation-rmse:1614.96950                                             \n",
      "[0]\tvalidation-rmse:3983.32388                                               \n",
      "[1]\tvalidation-rmse:3049.65547                                               \n",
      "[2]\tvalidation-rmse:2517.05251                                               \n",
      "[3]\tvalidation-rmse:2215.76562                                               \n",
      "[4]\tvalidation-rmse:2036.96372                                               \n",
      "[5]\tvalidation-rmse:1928.33486                                               \n",
      "[6]\tvalidation-rmse:1862.07911                                               \n",
      "[7]\tvalidation-rmse:1818.17846                                               \n",
      "[8]\tvalidation-rmse:1790.12931                                               \n",
      "[9]\tvalidation-rmse:1770.03078                                               \n",
      "[10]\tvalidation-rmse:1760.84553                                              \n",
      "[11]\tvalidation-rmse:1757.14818                                              \n",
      "[12]\tvalidation-rmse:1755.06390                                              \n",
      "[13]\tvalidation-rmse:1751.93307                                              \n",
      "[14]\tvalidation-rmse:1751.65033                                              \n",
      "[15]\tvalidation-rmse:1748.99140                                              \n",
      "[16]\tvalidation-rmse:1747.60784                                              \n",
      "[17]\tvalidation-rmse:1749.82245                                              \n",
      "[18]\tvalidation-rmse:1752.58261                                              \n",
      "[19]\tvalidation-rmse:1752.12275                                              \n",
      "[20]\tvalidation-rmse:1752.44404                                              \n",
      "[21]\tvalidation-rmse:1752.41383                                              \n",
      "[22]\tvalidation-rmse:1752.87200                                              \n",
      "[23]\tvalidation-rmse:1753.17440                                              \n",
      "[24]\tvalidation-rmse:1753.75847                                              \n",
      "[25]\tvalidation-rmse:1753.14443                                              \n",
      "[26]\tvalidation-rmse:1753.03916                                              \n",
      "[27]\tvalidation-rmse:1753.45457                                              \n",
      "[28]\tvalidation-rmse:1752.66868                                              \n",
      "[29]\tvalidation-rmse:1753.21489                                              \n",
      "[30]\tvalidation-rmse:1752.93504                                              \n",
      "[31]\tvalidation-rmse:1752.56483                                              \n",
      "[21:25:56] WARNING: C:/Users/administrator/workspace/xgboost-win64_release_1.6.0/src/objective/regression_obj.cu:203: reg:linear is now deprecated in favor of reg:squarederror.\n",
      "[0]\tvalidation-rmse:4040.77316                                               \n",
      "[1]\tvalidation-rmse:3073.31128                                               \n",
      "[2]\tvalidation-rmse:2444.92103                                               \n",
      "[3]\tvalidation-rmse:2028.37576                                               \n",
      "[4]\tvalidation-rmse:1867.65721                                               \n",
      "[5]\tvalidation-rmse:1750.47013                                               \n",
      "[6]\tvalidation-rmse:1706.80058                                               \n",
      "[7]\tvalidation-rmse:1668.22828                                               \n",
      "[8]\tvalidation-rmse:1678.29843                                               \n",
      "[9]\tvalidation-rmse:1664.25275                                               \n",
      "[10]\tvalidation-rmse:1665.11051                                              \n",
      "[11]\tvalidation-rmse:1672.00754                                              \n",
      "[12]\tvalidation-rmse:1692.37157                                              \n",
      "[13]\tvalidation-rmse:1688.91790                                              \n",
      "[14]\tvalidation-rmse:1683.62548                                              \n",
      "[15]\tvalidation-rmse:1710.88543                                              \n",
      "[16]\tvalidation-rmse:1712.25144                                              \n",
      "[17]\tvalidation-rmse:1712.39898                                              \n",
      "[18]\tvalidation-rmse:1706.53626                                              \n",
      "[19]\tvalidation-rmse:1720.77531                                              \n",
      "[20]\tvalidation-rmse:1746.03730                                              \n",
      "[21]\tvalidation-rmse:1750.17884                                              \n",
      "[22]\tvalidation-rmse:1751.75292                                              \n",
      "[23]\tvalidation-rmse:1760.89130                                              \n",
      "[21:25:58] WARNING: C:/Users/administrator/workspace/xgboost-win64_release_1.6.0/src/objective/regression_obj.cu:203: reg:linear is now deprecated in favor of reg:squarederror.\n",
      "[0]\tvalidation-rmse:2289.69855                                               \n",
      "[1]\tvalidation-rmse:1834.57319                                               \n",
      "[2]\tvalidation-rmse:1785.29716                                               \n",
      "[3]\tvalidation-rmse:1770.91273                                               \n",
      "[4]\tvalidation-rmse:1785.26094                                               \n",
      "[5]\tvalidation-rmse:1797.94647                                               \n",
      "[6]\tvalidation-rmse:1789.70801                                               \n",
      "[7]\tvalidation-rmse:1787.60178                                               \n",
      "[8]\tvalidation-rmse:1787.51334                                               \n",
      "[9]\tvalidation-rmse:1787.55667                                               \n",
      "[10]\tvalidation-rmse:1799.39113                                              \n",
      "[11]\tvalidation-rmse:1799.24647                                              \n",
      "[12]\tvalidation-rmse:1797.13646                                              \n",
      "[13]\tvalidation-rmse:1802.33076                                              \n",
      "[14]\tvalidation-rmse:1798.73559                                              \n",
      "[15]\tvalidation-rmse:1781.33038                                              \n",
      "[16]\tvalidation-rmse:1785.90199                                              \n",
      "[17]\tvalidation-rmse:1796.81844                                              \n",
      "[0]\tvalidation-rmse:4196.52524                                                \n",
      "[1]\tvalidation-rmse:3308.75434                                                \n",
      "[2]\tvalidation-rmse:2751.63070                                                \n",
      "[3]\tvalidation-rmse:2416.56014                                                \n",
      "[4]\tvalidation-rmse:2186.63090                                                \n",
      "[5]\tvalidation-rmse:2045.29079                                                \n",
      "[6]\tvalidation-rmse:1952.40248                                                \n",
      "[7]\tvalidation-rmse:1890.10953                                                \n",
      "[8]\tvalidation-rmse:1848.41820                                                \n",
      "[9]\tvalidation-rmse:1819.53294                                                \n",
      "[10]\tvalidation-rmse:1800.93896                                               \n",
      "[11]\tvalidation-rmse:1788.74756                                               \n",
      "[12]\tvalidation-rmse:1780.58376                                               \n",
      "[13]\tvalidation-rmse:1775.01295                                               \n",
      "[14]\tvalidation-rmse:1771.25988                                               \n",
      "[15]\tvalidation-rmse:1768.79102                                               \n",
      "[16]\tvalidation-rmse:1767.12440                                               \n",
      "[17]\tvalidation-rmse:1765.97320                                               \n",
      "[18]\tvalidation-rmse:1765.22049                                               \n",
      "[19]\tvalidation-rmse:1764.74381                                               \n",
      "[20]\tvalidation-rmse:1764.39995                                               \n",
      "[21]\tvalidation-rmse:1764.15561                                               \n",
      "[22]\tvalidation-rmse:1764.00523                                               \n",
      "[23]\tvalidation-rmse:1763.90227                                               \n",
      "[24]\tvalidation-rmse:1763.82541                                               \n",
      "[25]\tvalidation-rmse:1763.77557                                               \n",
      "[26]\tvalidation-rmse:1763.74214                                               \n",
      "[27]\tvalidation-rmse:1763.71931                                               \n",
      "[28]\tvalidation-rmse:1763.70216                                               \n",
      "[29]\tvalidation-rmse:1763.69240                                               \n",
      "[30]\tvalidation-rmse:1763.68509                                               \n",
      "[31]\tvalidation-rmse:1763.67964                                               \n",
      "[32]\tvalidation-rmse:1763.67615                                               \n",
      "[33]\tvalidation-rmse:1763.67341                                               \n",
      "[34]\tvalidation-rmse:1763.67126                                               \n",
      "[35]\tvalidation-rmse:1763.67005                                               \n",
      "[36]\tvalidation-rmse:1763.66906                                               \n",
      "[37]\tvalidation-rmse:1763.66863                                               \n",
      "[38]\tvalidation-rmse:1763.66796                                               \n",
      "[39]\tvalidation-rmse:1763.66741                                               \n",
      "[40]\tvalidation-rmse:1763.66722                                               \n",
      "[41]\tvalidation-rmse:1763.66694                                               \n",
      "[42]\tvalidation-rmse:1763.66664                                               \n",
      "[43]\tvalidation-rmse:1763.66651                                               \n",
      "[44]\tvalidation-rmse:1763.66639                                               \n",
      "[45]\tvalidation-rmse:1763.66625                                               \n",
      "[46]\tvalidation-rmse:1763.66617                                               \n",
      "[47]\tvalidation-rmse:1763.66609                                               \n",
      "[48]\tvalidation-rmse:1763.66608                                               \n",
      "[49]\tvalidation-rmse:1763.66602                                               \n",
      "[50]\tvalidation-rmse:1763.66597                                               \n",
      "[51]\tvalidation-rmse:1763.66594                                               \n",
      "[52]\tvalidation-rmse:1763.66592                                               \n",
      "[53]\tvalidation-rmse:1763.66589                                               \n",
      "[54]\tvalidation-rmse:1763.66589                                               \n",
      "[55]\tvalidation-rmse:1763.66584                                               \n",
      "[56]\tvalidation-rmse:1763.66581                                               \n",
      "[57]\tvalidation-rmse:1763.66577                                               \n",
      "[58]\tvalidation-rmse:1763.66576                                               \n",
      "[59]\tvalidation-rmse:1763.66576                                               \n",
      "[60]\tvalidation-rmse:1763.66575                                               \n",
      "[61]\tvalidation-rmse:1763.66577                                               \n",
      "[62]\tvalidation-rmse:1763.66577                                               \n",
      "[63]\tvalidation-rmse:1763.66578                                               \n",
      "[64]\tvalidation-rmse:1763.66577                                               \n",
      "[65]\tvalidation-rmse:1763.66575                                               \n",
      "[66]\tvalidation-rmse:1763.66574                                               \n",
      "[67]\tvalidation-rmse:1763.66572                                               \n",
      "[68]\tvalidation-rmse:1763.66570                                               \n",
      "[69]\tvalidation-rmse:1763.66569                                               \n",
      "[70]\tvalidation-rmse:1763.66568                                               \n",
      "[71]\tvalidation-rmse:1763.66566                                               \n",
      "[72]\tvalidation-rmse:1763.66566                                               \n",
      "[73]\tvalidation-rmse:1763.66567                                               \n",
      "[74]\tvalidation-rmse:1763.66567                                               \n",
      "[75]\tvalidation-rmse:1763.66568                                               \n",
      "[76]\tvalidation-rmse:1763.66568                                               \n",
      "[77]\tvalidation-rmse:1763.66568                                               \n",
      "[78]\tvalidation-rmse:1763.66566                                               \n",
      "[79]\tvalidation-rmse:1763.66567                                               \n",
      "[80]\tvalidation-rmse:1763.66566                                               \n",
      "[81]\tvalidation-rmse:1763.66566                                               \n",
      "[82]\tvalidation-rmse:1763.66567                                               \n",
      "[83]\tvalidation-rmse:1763.66567                                               \n",
      "[84]\tvalidation-rmse:1763.66566                                               \n",
      "[85]\tvalidation-rmse:1763.66565                                               \n",
      "[86]\tvalidation-rmse:1763.66565                                               \n",
      "[87]\tvalidation-rmse:1763.66564                                               \n",
      "[88]\tvalidation-rmse:1763.66564                                               \n",
      "[89]\tvalidation-rmse:1763.66563                                               \n",
      "[90]\tvalidation-rmse:1763.66564                                               \n",
      "[91]\tvalidation-rmse:1763.66563                                               \n",
      "[92]\tvalidation-rmse:1763.66563                                               \n",
      "[93]\tvalidation-rmse:1763.66563                                               \n",
      "[94]\tvalidation-rmse:1763.66563                                               \n",
      "[95]\tvalidation-rmse:1763.66563                                               \n",
      "[96]\tvalidation-rmse:1763.66563                                               \n",
      "[97]\tvalidation-rmse:1763.66564                                               \n",
      "[98]\tvalidation-rmse:1763.66563                                               \n",
      "[99]\tvalidation-rmse:1763.66564                                               \n",
      "[100]\tvalidation-rmse:1763.66564                                              \n",
      "[101]\tvalidation-rmse:1763.66565                                              \n",
      "[102]\tvalidation-rmse:1763.66565                                              \n",
      "[103]\tvalidation-rmse:1763.66565                                              \n",
      "[104]\tvalidation-rmse:1763.66565                                              \n",
      "[105]\tvalidation-rmse:1763.66565                                              \n",
      "[106]\tvalidation-rmse:1763.66565                                              \n",
      "[107]\tvalidation-rmse:1763.66565                                              \n",
      "[108]\tvalidation-rmse:1763.66565                                              \n",
      "[109]\tvalidation-rmse:1763.66565                                              \n",
      "[0]\tvalidation-rmse:1990.50973                                                \n",
      "[1]\tvalidation-rmse:1753.56180                                                \n",
      "[2]\tvalidation-rmse:1743.61404                                                \n",
      "[3]\tvalidation-rmse:1705.33352                                                \n",
      "[4]\tvalidation-rmse:1705.55142                                                \n",
      "[5]\tvalidation-rmse:1704.38958                                                \n",
      "[6]\tvalidation-rmse:1751.00289                                                \n",
      "[7]\tvalidation-rmse:1745.37422                                                \n",
      "[8]\tvalidation-rmse:1735.44038                                                \n",
      "[9]\tvalidation-rmse:1742.22976                                                \n",
      "[10]\tvalidation-rmse:1742.17598                                               \n",
      "[11]\tvalidation-rmse:1752.76509                                               \n",
      "[12]\tvalidation-rmse:1757.92954                                               \n",
      "[13]\tvalidation-rmse:1751.36618                                               \n",
      "[14]\tvalidation-rmse:1766.78570                                               \n",
      "[15]\tvalidation-rmse:1766.74051                                               \n",
      "[16]\tvalidation-rmse:1784.01134                                               \n",
      "[17]\tvalidation-rmse:1785.59105                                               \n",
      "[18]\tvalidation-rmse:1784.01946                                               \n",
      "[19]\tvalidation-rmse:1788.07410                                               \n",
      "[0]\tvalidation-rmse:2347.03276                                                \n",
      "[1]\tvalidation-rmse:1626.06793                                                \n",
      "[2]\tvalidation-rmse:1621.61189                                                \n",
      "[3]\tvalidation-rmse:1545.38508                                                \n",
      "[4]\tvalidation-rmse:1648.55589                                                \n",
      "[5]\tvalidation-rmse:1732.90263                                                \n",
      "[6]\tvalidation-rmse:1740.99689                                                \n",
      "[7]\tvalidation-rmse:1732.34163                                                \n",
      "[8]\tvalidation-rmse:1732.40533                                                \n",
      "[9]\tvalidation-rmse:1740.52846                                                \n",
      "[10]\tvalidation-rmse:1761.77096                                               \n",
      "[11]\tvalidation-rmse:1811.73683                                               \n",
      "[12]\tvalidation-rmse:1809.59623                                               \n",
      "[13]\tvalidation-rmse:1800.26678                                               \n",
      "[14]\tvalidation-rmse:1807.14065                                               \n",
      "[15]\tvalidation-rmse:1792.78421                                               \n",
      "[16]\tvalidation-rmse:1787.42342                                               \n",
      "[17]\tvalidation-rmse:1785.78485                                               \n",
      "[0]\tvalidation-rmse:5324.06215                                                \n",
      "[1]\tvalidation-rmse:5055.86357                                                \n",
      "[2]\tvalidation-rmse:4805.99491                                                \n",
      "[3]\tvalidation-rmse:4574.77536                                                \n",
      "[4]\tvalidation-rmse:4361.61548                                                \n",
      "[5]\tvalidation-rmse:4163.00207                                                \n",
      "[6]\tvalidation-rmse:3980.69718                                                \n",
      "[7]\tvalidation-rmse:3808.21667                                                \n",
      "[8]\tvalidation-rmse:3650.23817                                                \n",
      "[9]\tvalidation-rmse:3503.21892                                                \n",
      "[10]\tvalidation-rmse:3366.92189                                               \n",
      "[11]\tvalidation-rmse:3242.24237                                               \n",
      "[12]\tvalidation-rmse:3125.05880                                               \n",
      "[13]\tvalidation-rmse:3018.56568                                               \n",
      "[14]\tvalidation-rmse:2919.02568                                               \n",
      "[15]\tvalidation-rmse:2827.26351                                               \n",
      "[16]\tvalidation-rmse:2742.54770                                               \n",
      "[17]\tvalidation-rmse:2663.47559                                               \n",
      "[18]\tvalidation-rmse:2590.42725                                               \n",
      "[19]\tvalidation-rmse:2524.57607                                               \n",
      "[20]\tvalidation-rmse:2462.38125                                               \n",
      "[21]\tvalidation-rmse:2405.30662                                               \n",
      "[22]\tvalidation-rmse:2352.63588                                               \n",
      "[23]\tvalidation-rmse:2303.48260                                               \n",
      "[24]\tvalidation-rmse:2258.53787                                               \n",
      "[25]\tvalidation-rmse:2216.52536                                               \n",
      "[26]\tvalidation-rmse:2177.92498                                               \n",
      "[27]\tvalidation-rmse:2142.56822                                               \n",
      "[28]\tvalidation-rmse:2109.63347                                               \n",
      "[29]\tvalidation-rmse:2078.76136                                               \n",
      "[30]\tvalidation-rmse:2050.15660                                               \n",
      "[31]\tvalidation-rmse:2024.76217                                               \n",
      "[32]\tvalidation-rmse:2000.70310                                               \n",
      "[33]\tvalidation-rmse:1978.52608                                               \n",
      "[34]\tvalidation-rmse:1955.80049                                               \n",
      "[35]\tvalidation-rmse:1935.92578                                               \n",
      "[36]\tvalidation-rmse:1917.88824                                               \n",
      "[37]\tvalidation-rmse:1901.47000                                               \n",
      "[38]\tvalidation-rmse:1884.93171                                               \n",
      "[39]\tvalidation-rmse:1869.80034                                               \n",
      "[40]\tvalidation-rmse:1855.14555                                               \n",
      "[41]\tvalidation-rmse:1843.48938                                               \n",
      "[42]\tvalidation-rmse:1833.14795                                               \n",
      "[43]\tvalidation-rmse:1822.55791                                               \n",
      "[44]\tvalidation-rmse:1813.40113                                               \n",
      "[45]\tvalidation-rmse:1805.18394                                               \n",
      "[46]\tvalidation-rmse:1797.95763                                               \n",
      "[47]\tvalidation-rmse:1790.40192                                               \n",
      "[48]\tvalidation-rmse:1784.02274                                               \n",
      "[49]\tvalidation-rmse:1778.40504                                               \n",
      "[50]\tvalidation-rmse:1773.57227                                               \n",
      "[51]\tvalidation-rmse:1769.49898                                               \n",
      "[52]\tvalidation-rmse:1765.44863                                               \n",
      "[53]\tvalidation-rmse:1761.64975                                               \n",
      "[54]\tvalidation-rmse:1758.71503                                               \n",
      "[55]\tvalidation-rmse:1755.35982                                               \n",
      "[56]\tvalidation-rmse:1752.19820                                               \n",
      "[57]\tvalidation-rmse:1747.76195                                               \n",
      "[58]\tvalidation-rmse:1744.24215                                               \n",
      "[59]\tvalidation-rmse:1741.26980                                               \n",
      "[60]\tvalidation-rmse:1739.66042                                               \n",
      "[61]\tvalidation-rmse:1738.26982                                               \n",
      "[62]\tvalidation-rmse:1735.46709                                               \n",
      "[63]\tvalidation-rmse:1735.05405                                               \n",
      "[64]\tvalidation-rmse:1733.47169                                               \n",
      "[65]\tvalidation-rmse:1731.91077                                               \n",
      "[66]\tvalidation-rmse:1730.65478                                               \n",
      "[67]\tvalidation-rmse:1729.28164                                               \n",
      "[68]\tvalidation-rmse:1729.33870                                               \n",
      "[69]\tvalidation-rmse:1729.26679                                               \n",
      "[70]\tvalidation-rmse:1729.00147                                               \n",
      "[71]\tvalidation-rmse:1728.94707                                               \n",
      "[72]\tvalidation-rmse:1728.75100                                               \n",
      "[73]\tvalidation-rmse:1728.28304                                               \n",
      "[74]\tvalidation-rmse:1727.88081                                               \n",
      "[75]\tvalidation-rmse:1727.52574                                               \n",
      "[76]\tvalidation-rmse:1727.24328                                               \n",
      "[77]\tvalidation-rmse:1727.72439                                               \n",
      "[78]\tvalidation-rmse:1726.89245                                               \n",
      "[79]\tvalidation-rmse:1726.81999                                               \n",
      "[80]\tvalidation-rmse:1726.35269                                               \n",
      "[81]\tvalidation-rmse:1726.08364                                               \n",
      "[82]\tvalidation-rmse:1725.79337                                               \n",
      "[83]\tvalidation-rmse:1725.99510                                               \n",
      "[84]\tvalidation-rmse:1726.52680                                               \n",
      "[85]\tvalidation-rmse:1725.91273                                               \n",
      "[86]\tvalidation-rmse:1725.01622                                               \n",
      "[87]\tvalidation-rmse:1725.40770                                               \n",
      "[88]\tvalidation-rmse:1725.80718                                               \n",
      "[89]\tvalidation-rmse:1725.88882                                               \n",
      "[90]\tvalidation-rmse:1726.07877                                               \n",
      "[91]\tvalidation-rmse:1726.08408                                               \n",
      "[92]\tvalidation-rmse:1725.75834                                               \n",
      "[93]\tvalidation-rmse:1725.56700                                               \n",
      "[94]\tvalidation-rmse:1724.55108                                               \n",
      "[95]\tvalidation-rmse:1724.23938                                               \n",
      "[96]\tvalidation-rmse:1724.16858                                               \n",
      "[97]\tvalidation-rmse:1724.33150                                               \n",
      "[98]\tvalidation-rmse:1724.32280                                               \n",
      "[99]\tvalidation-rmse:1723.98527                                               \n",
      "[100]\tvalidation-rmse:1723.75075                                              \n",
      "[101]\tvalidation-rmse:1723.80474                                              \n",
      "[102]\tvalidation-rmse:1723.07014                                              \n",
      "[103]\tvalidation-rmse:1722.84762                                              \n",
      "[104]\tvalidation-rmse:1722.71611                                              \n",
      "[105]\tvalidation-rmse:1723.15973                                              \n",
      "[106]\tvalidation-rmse:1723.82640                                              \n",
      "[107]\tvalidation-rmse:1724.61120                                              \n",
      "[108]\tvalidation-rmse:1724.90312                                              \n",
      "[109]\tvalidation-rmse:1725.59380                                              \n",
      "[110]\tvalidation-rmse:1725.59637                                              \n",
      "[111]\tvalidation-rmse:1725.54766                                              \n",
      "[112]\tvalidation-rmse:1725.83727                                              \n",
      "[113]\tvalidation-rmse:1725.85067                                              \n",
      "[114]\tvalidation-rmse:1725.67557                                              \n",
      "[115]\tvalidation-rmse:1726.13245                                              \n",
      "[116]\tvalidation-rmse:1726.06351                                              \n",
      "[117]\tvalidation-rmse:1725.82955                                              \n",
      "[118]\tvalidation-rmse:1726.05088                                              \n",
      "[119]\tvalidation-rmse:1725.70691                                              \n",
      "[0]\tvalidation-rmse:5339.77230                                                \n",
      "[1]\tvalidation-rmse:5084.73027                                                \n",
      "[2]\tvalidation-rmse:4846.55333                                                \n",
      "[3]\tvalidation-rmse:4625.75087                                                \n",
      "[4]\tvalidation-rmse:4420.43723                                                \n",
      "[5]\tvalidation-rmse:4228.72687                                                \n",
      "[6]\tvalidation-rmse:4051.29557                                                \n",
      "[7]\tvalidation-rmse:3885.88133                                                \n",
      "[8]\tvalidation-rmse:3733.86937                                                \n",
      "[9]\tvalidation-rmse:3589.06461                                                \n",
      "[10]\tvalidation-rmse:3456.13316                                               \n",
      "[11]\tvalidation-rmse:3332.51947                                               \n",
      "[12]\tvalidation-rmse:3219.98422                                               \n",
      "[13]\tvalidation-rmse:3113.61892                                               \n",
      "[14]\tvalidation-rmse:3013.92561                                               \n",
      "[15]\tvalidation-rmse:2922.37227                                               \n",
      "[16]\tvalidation-rmse:2835.11566                                               \n",
      "[17]\tvalidation-rmse:2755.29395                                               \n",
      "[18]\tvalidation-rmse:2682.54386                                               \n",
      "[19]\tvalidation-rmse:2613.77464                                               \n",
      "[20]\tvalidation-rmse:2550.06445                                               \n",
      "[21]\tvalidation-rmse:2491.13078                                               \n",
      "[22]\tvalidation-rmse:2435.09141                                               \n",
      "[23]\tvalidation-rmse:2384.47240                                               \n",
      "[24]\tvalidation-rmse:2337.16972                                               \n",
      "[25]\tvalidation-rmse:2293.79566                                               \n",
      "[26]\tvalidation-rmse:2253.45218                                               \n",
      "[27]\tvalidation-rmse:2216.37923                                               \n",
      "[28]\tvalidation-rmse:2180.84738                                               \n",
      "[29]\tvalidation-rmse:2149.06387                                               \n",
      "[30]\tvalidation-rmse:2119.81668                                               \n",
      "[31]\tvalidation-rmse:2092.16142                                               \n",
      "[32]\tvalidation-rmse:2066.34825                                               \n",
      "[33]\tvalidation-rmse:2042.23539                                               \n",
      "[34]\tvalidation-rmse:2020.17777                                               \n",
      "[35]\tvalidation-rmse:1999.65275                                               \n",
      "[36]\tvalidation-rmse:1980.21152                                               \n",
      "[37]\tvalidation-rmse:1963.15867                                               \n",
      "[38]\tvalidation-rmse:1946.62618                                               \n",
      "[39]\tvalidation-rmse:1931.31097                                               \n",
      "[40]\tvalidation-rmse:1918.12687                                               \n",
      "[41]\tvalidation-rmse:1905.06410                                               \n",
      "[42]\tvalidation-rmse:1892.16079                                               \n",
      "[43]\tvalidation-rmse:1880.49213                                               \n",
      "[44]\tvalidation-rmse:1870.22057                                               \n",
      "[45]\tvalidation-rmse:1859.94625                                               \n",
      "[46]\tvalidation-rmse:1850.38548                                               \n",
      "[47]\tvalidation-rmse:1841.83123                                               \n",
      "[48]\tvalidation-rmse:1833.90625                                               \n",
      "[49]\tvalidation-rmse:1826.51220                                               \n",
      "[50]\tvalidation-rmse:1819.05606                                               \n",
      "[51]\tvalidation-rmse:1812.78334                                               \n",
      "[52]\tvalidation-rmse:1806.66065                                               \n",
      "[53]\tvalidation-rmse:1801.27509                                               \n",
      "[54]\tvalidation-rmse:1795.11547                                               \n",
      "[55]\tvalidation-rmse:1789.46710                                               \n",
      "[56]\tvalidation-rmse:1785.73950                                               \n",
      "[57]\tvalidation-rmse:1781.60218                                               \n",
      "[58]\tvalidation-rmse:1778.44919                                               \n",
      "[59]\tvalidation-rmse:1775.08558                                               \n",
      "[60]\tvalidation-rmse:1772.04357                                               \n",
      "[61]\tvalidation-rmse:1768.76751                                               \n",
      "[62]\tvalidation-rmse:1765.98654                                               \n",
      "[63]\tvalidation-rmse:1763.42850                                               \n",
      "[64]\tvalidation-rmse:1760.69108                                               \n",
      "[65]\tvalidation-rmse:1758.70771                                               \n",
      "[66]\tvalidation-rmse:1756.23151                                               \n",
      "[67]\tvalidation-rmse:1753.76789                                               \n",
      "[68]\tvalidation-rmse:1751.57416                                               \n",
      "[69]\tvalidation-rmse:1750.23598                                               \n",
      "[70]\tvalidation-rmse:1748.51478                                               \n",
      "[71]\tvalidation-rmse:1747.75393                                               \n",
      "[72]\tvalidation-rmse:1746.55184                                               \n",
      "[73]\tvalidation-rmse:1745.50534                                               \n",
      "[74]\tvalidation-rmse:1744.45799                                               \n",
      "[75]\tvalidation-rmse:1744.17277                                               \n",
      "[76]\tvalidation-rmse:1743.93451                                               \n",
      "[77]\tvalidation-rmse:1743.71640                                               \n",
      "[78]\tvalidation-rmse:1743.03030                                               \n",
      "[79]\tvalidation-rmse:1742.09001                                               \n",
      "[80]\tvalidation-rmse:1741.42065                                               \n",
      "[81]\tvalidation-rmse:1741.40625                                               \n",
      "[82]\tvalidation-rmse:1741.70630                                               \n",
      "[83]\tvalidation-rmse:1742.04744                                               \n",
      "[84]\tvalidation-rmse:1741.93123                                               \n",
      "[85]\tvalidation-rmse:1741.47962                                               \n",
      "[86]\tvalidation-rmse:1741.17955                                               \n",
      "[87]\tvalidation-rmse:1741.02972                                               \n",
      "[88]\tvalidation-rmse:1740.67452                                               \n",
      "[89]\tvalidation-rmse:1740.10798                                               \n",
      "[90]\tvalidation-rmse:1739.99166                                               \n",
      "[91]\tvalidation-rmse:1739.32919                                               \n",
      "[92]\tvalidation-rmse:1739.07353                                               \n",
      "[93]\tvalidation-rmse:1738.99984                                               \n",
      "[94]\tvalidation-rmse:1738.96896                                               \n",
      "[95]\tvalidation-rmse:1738.31200                                               \n",
      "[96]\tvalidation-rmse:1737.90174                                               \n",
      "[97]\tvalidation-rmse:1737.64836                                               \n",
      "[98]\tvalidation-rmse:1738.17233                                               \n",
      "[99]\tvalidation-rmse:1738.52163                                               \n",
      "[100]\tvalidation-rmse:1738.64938                                              \n",
      "[101]\tvalidation-rmse:1738.63752                                              \n",
      "[102]\tvalidation-rmse:1738.92437                                              \n",
      "[103]\tvalidation-rmse:1739.77051                                              \n",
      "[104]\tvalidation-rmse:1740.19111                                              \n",
      "[105]\tvalidation-rmse:1740.46786                                              \n",
      "[106]\tvalidation-rmse:1740.85232                                              \n",
      "[107]\tvalidation-rmse:1741.46874                                              \n",
      "[108]\tvalidation-rmse:1742.24556                                              \n",
      "[109]\tvalidation-rmse:1741.90174                                              \n",
      "[110]\tvalidation-rmse:1742.29363                                              \n",
      "[111]\tvalidation-rmse:1742.19158                                              \n",
      "[21:29:46] WARNING: C:/Users/administrator/workspace/xgboost-win64_release_1.6.0/src/objective/regression_obj.cu:203: reg:linear is now deprecated in favor of reg:squarederror.\n",
      "[0]\tvalidation-rmse:5209.01353                                                \n",
      "[1]\tvalidation-rmse:4844.76788                                                \n",
      "[2]\tvalidation-rmse:4519.20990                                                \n",
      "[3]\tvalidation-rmse:4227.92396                                                \n",
      "[4]\tvalidation-rmse:3967.50316                                                \n",
      "[5]\tvalidation-rmse:3734.78410                                                \n",
      "[6]\tvalidation-rmse:3528.02700                                                \n",
      "[7]\tvalidation-rmse:3342.45282                                                \n",
      "[8]\tvalidation-rmse:3174.71885                                                \n",
      "[9]\tvalidation-rmse:3027.38610                                                \n",
      "[10]\tvalidation-rmse:2893.86296                                               \n",
      "[11]\tvalidation-rmse:2774.98515                                               \n",
      "[12]\tvalidation-rmse:2668.11900                                               \n",
      "[13]\tvalidation-rmse:2574.12069                                               \n",
      "[14]\tvalidation-rmse:2488.65179                                               \n",
      "[15]\tvalidation-rmse:2412.89566                                               \n",
      "[16]\tvalidation-rmse:2344.12592                                               \n",
      "[17]\tvalidation-rmse:2284.56415                                               \n",
      "[18]\tvalidation-rmse:2228.37680                                               \n",
      "[19]\tvalidation-rmse:2180.79383                                               \n",
      "[20]\tvalidation-rmse:2137.54148                                               \n",
      "[21]\tvalidation-rmse:2099.05025                                               \n",
      "[22]\tvalidation-rmse:2064.84383                                               \n",
      "[23]\tvalidation-rmse:2033.03080                                               \n",
      "[24]\tvalidation-rmse:2006.11598                                               \n",
      "[25]\tvalidation-rmse:1981.68680                                               \n",
      "[26]\tvalidation-rmse:1960.42568                                               \n",
      "[27]\tvalidation-rmse:1940.54900                                               \n",
      "[28]\tvalidation-rmse:1922.61931                                               \n",
      "[29]\tvalidation-rmse:1906.47080                                               \n",
      "[30]\tvalidation-rmse:1892.75889                                               \n",
      "[31]\tvalidation-rmse:1880.14037                                               \n",
      "[32]\tvalidation-rmse:1868.65379                                               \n",
      "[33]\tvalidation-rmse:1858.16647                                               \n",
      "[34]\tvalidation-rmse:1848.80827                                               \n",
      "[35]\tvalidation-rmse:1840.43257                                               \n",
      "[36]\tvalidation-rmse:1833.36179                                               \n",
      "[37]\tvalidation-rmse:1826.53738                                               \n",
      "[38]\tvalidation-rmse:1818.95488                                               \n",
      "[39]\tvalidation-rmse:1813.96128                                               \n",
      "[40]\tvalidation-rmse:1809.35579                                               \n",
      "[41]\tvalidation-rmse:1804.04804                                               \n",
      "[42]\tvalidation-rmse:1798.19502                                               \n",
      "[43]\tvalidation-rmse:1794.28610                                               \n",
      "[44]\tvalidation-rmse:1790.50929                                               \n",
      "[45]\tvalidation-rmse:1787.47186                                               \n",
      "[46]\tvalidation-rmse:1784.56498                                               \n",
      "[47]\tvalidation-rmse:1782.70153                                               \n",
      "[48]\tvalidation-rmse:1782.40297                                               \n",
      "[49]\tvalidation-rmse:1781.13133                                               \n",
      "[50]\tvalidation-rmse:1779.33903                                               \n",
      "[51]\tvalidation-rmse:1777.56593                                               \n",
      "[52]\tvalidation-rmse:1776.62915                                               \n",
      "[53]\tvalidation-rmse:1775.28329                                               \n",
      "[54]\tvalidation-rmse:1774.52923                                               \n",
      "[55]\tvalidation-rmse:1774.02923                                               \n",
      "[56]\tvalidation-rmse:1773.38763                                               \n",
      "[57]\tvalidation-rmse:1772.47419                                               \n",
      "[58]\tvalidation-rmse:1771.99523                                               \n",
      "[59]\tvalidation-rmse:1771.06613                                               \n",
      "[60]\tvalidation-rmse:1770.53650                                               \n",
      "[61]\tvalidation-rmse:1769.92339                                               \n",
      "[62]\tvalidation-rmse:1768.53454                                               \n",
      "[63]\tvalidation-rmse:1768.46024                                               \n",
      "[64]\tvalidation-rmse:1768.00500                                               \n",
      "[65]\tvalidation-rmse:1767.77950                                               \n",
      "[66]\tvalidation-rmse:1767.59494                                               \n",
      "[67]\tvalidation-rmse:1768.11202                                               \n",
      "[68]\tvalidation-rmse:1768.10459                                               \n",
      "[69]\tvalidation-rmse:1768.51705                                               \n",
      "[70]\tvalidation-rmse:1768.48085                                               \n",
      "[71]\tvalidation-rmse:1768.66302                                               \n",
      "[72]\tvalidation-rmse:1767.79955                                               \n",
      "[73]\tvalidation-rmse:1767.83307                                               \n",
      "[74]\tvalidation-rmse:1768.33258                                               \n",
      "[75]\tvalidation-rmse:1768.82762                                               \n",
      "[76]\tvalidation-rmse:1768.84642                                               \n",
      "[77]\tvalidation-rmse:1768.63167                                               \n",
      "[78]\tvalidation-rmse:1768.71582                                               \n",
      "[79]\tvalidation-rmse:1769.29262                                               \n",
      "[80]\tvalidation-rmse:1769.72243                                               \n",
      "[21:30:04] WARNING: C:/Users/administrator/workspace/xgboost-win64_release_1.6.0/src/objective/regression_obj.cu:203: reg:linear is now deprecated in favor of reg:squarederror.\n",
      "[0]\tvalidation-rmse:4643.83784                                                \n",
      "[1]\tvalidation-rmse:3919.02735                                                \n",
      "[2]\tvalidation-rmse:3378.33531                                                \n",
      "[3]\tvalidation-rmse:2973.32461                                                \n",
      "[4]\tvalidation-rmse:2673.21438                                                \n",
      "[5]\tvalidation-rmse:2453.92353                                                \n",
      "[6]\tvalidation-rmse:2288.50269                                                \n",
      "[7]\tvalidation-rmse:2166.66296                                                \n",
      "[8]\tvalidation-rmse:2075.59271                                                \n",
      "[9]\tvalidation-rmse:2007.08504                                                \n",
      "[10]\tvalidation-rmse:1956.68002                                               \n",
      "[11]\tvalidation-rmse:1917.94441                                               \n",
      "[12]\tvalidation-rmse:1889.44006                                               \n",
      "[13]\tvalidation-rmse:1866.67751                                               \n",
      "[14]\tvalidation-rmse:1849.70759                                               \n",
      "[15]\tvalidation-rmse:1835.54497                                               \n",
      "[16]\tvalidation-rmse:1825.41573                                               \n",
      "[17]\tvalidation-rmse:1819.21512                                               \n",
      "[18]\tvalidation-rmse:1813.20251                                               \n",
      "[19]\tvalidation-rmse:1808.89562                                               \n",
      "[20]\tvalidation-rmse:1805.67459                                               \n",
      "[21]\tvalidation-rmse:1801.84413                                               \n",
      "[22]\tvalidation-rmse:1800.34621                                               \n",
      "[23]\tvalidation-rmse:1799.51061                                               \n",
      "[24]\tvalidation-rmse:1799.45140                                               \n",
      "[25]\tvalidation-rmse:1799.12722                                               \n",
      "[26]\tvalidation-rmse:1798.89077                                               \n",
      "[27]\tvalidation-rmse:1798.81332                                               \n",
      "[28]\tvalidation-rmse:1798.64996                                               \n",
      "[29]\tvalidation-rmse:1797.93208                                               \n",
      "[30]\tvalidation-rmse:1798.50784                                               \n",
      "[31]\tvalidation-rmse:1798.62314                                               \n",
      "[32]\tvalidation-rmse:1798.69061                                               \n",
      "[33]\tvalidation-rmse:1798.66197                                               \n",
      "[34]\tvalidation-rmse:1798.67838                                               \n",
      "[35]\tvalidation-rmse:1798.78229                                               \n",
      "[36]\tvalidation-rmse:1798.77828                                               \n",
      "[37]\tvalidation-rmse:1799.02091                                               \n",
      "[38]\tvalidation-rmse:1798.72491                                               \n",
      "[39]\tvalidation-rmse:1798.33516                                               \n",
      "[40]\tvalidation-rmse:1798.46195                                               \n",
      "[41]\tvalidation-rmse:1798.58960                                               \n",
      "[42]\tvalidation-rmse:1798.87606                                               \n",
      "[43]\tvalidation-rmse:1798.97692                                               \n",
      "[0]\tvalidation-rmse:4275.55349                                                \n",
      "[1]\tvalidation-rmse:3396.30296                                                \n",
      "[2]\tvalidation-rmse:2835.81035                                                \n",
      "[3]\tvalidation-rmse:2481.39246                                                \n",
      "[4]\tvalidation-rmse:2244.16823                                                \n",
      "[5]\tvalidation-rmse:2085.50862                                                \n",
      "[6]\tvalidation-rmse:1985.31158                                                \n",
      "[7]\tvalidation-rmse:1917.80854                                                \n",
      "[8]\tvalidation-rmse:1869.51537                                                \n",
      "[9]\tvalidation-rmse:1834.60666                                                \n",
      "[10]\tvalidation-rmse:1811.36477                                               \n",
      "[11]\tvalidation-rmse:1796.18013                                               \n",
      "[12]\tvalidation-rmse:1784.97894                                               \n",
      "[13]\tvalidation-rmse:1777.21178                                               \n",
      "[14]\tvalidation-rmse:1771.51363                                               \n",
      "[15]\tvalidation-rmse:1767.46611                                               \n",
      "[16]\tvalidation-rmse:1764.77512                                               \n",
      "[17]\tvalidation-rmse:1762.90738                                               \n",
      "[18]\tvalidation-rmse:1761.47149                                               \n",
      "[19]\tvalidation-rmse:1760.48729                                               \n",
      "[20]\tvalidation-rmse:1759.73490                                               \n",
      "[21]\tvalidation-rmse:1759.20807                                               \n",
      "[22]\tvalidation-rmse:1758.81444                                               \n",
      "[23]\tvalidation-rmse:1758.49220                                               \n",
      "[24]\tvalidation-rmse:1758.31136                                               \n",
      "[25]\tvalidation-rmse:1758.15589                                               \n",
      "[26]\tvalidation-rmse:1758.05460                                               \n",
      "[27]\tvalidation-rmse:1758.00531                                               \n",
      "[28]\tvalidation-rmse:1757.94903                                               \n",
      "[29]\tvalidation-rmse:1757.91189                                               \n",
      "[30]\tvalidation-rmse:1757.88509                                               \n",
      "[31]\tvalidation-rmse:1757.86806                                               \n",
      "[32]\tvalidation-rmse:1757.85341                                               \n",
      "[33]\tvalidation-rmse:1757.84075                                               \n",
      "[34]\tvalidation-rmse:1757.83339                                               \n",
      "[35]\tvalidation-rmse:1757.82823                                               \n",
      "[36]\tvalidation-rmse:1757.82471                                               \n",
      "[37]\tvalidation-rmse:1757.82129                                               \n",
      "[38]\tvalidation-rmse:1757.81884                                               \n",
      "[39]\tvalidation-rmse:1757.81706                                               \n",
      "[40]\tvalidation-rmse:1757.81565                                               \n",
      "[41]\tvalidation-rmse:1757.81458                                               \n",
      "[42]\tvalidation-rmse:1757.81402                                               \n",
      "[43]\tvalidation-rmse:1757.81352                                               \n",
      "[44]\tvalidation-rmse:1757.81317                                               \n",
      "[45]\tvalidation-rmse:1757.81272                                               \n",
      "[46]\tvalidation-rmse:1757.81250                                               \n",
      "[47]\tvalidation-rmse:1757.81227                                               \n",
      "[48]\tvalidation-rmse:1757.81212                                               \n",
      "[49]\tvalidation-rmse:1757.81207                                               \n",
      "[50]\tvalidation-rmse:1757.81202                                               \n",
      "[51]\tvalidation-rmse:1757.81198                                               \n",
      "[52]\tvalidation-rmse:1757.81191                                               \n",
      "[53]\tvalidation-rmse:1757.81187                                               \n",
      "[54]\tvalidation-rmse:1757.81185                                               \n",
      "[55]\tvalidation-rmse:1757.81177                                               \n",
      "[56]\tvalidation-rmse:1757.81174                                               \n",
      "[57]\tvalidation-rmse:1757.81166                                               \n",
      "[58]\tvalidation-rmse:1757.81162                                               \n",
      "[59]\tvalidation-rmse:1757.81162                                               \n",
      "[60]\tvalidation-rmse:1757.81160                                               \n",
      "[61]\tvalidation-rmse:1757.81160                                               \n",
      "[62]\tvalidation-rmse:1757.81160                                               \n",
      "[63]\tvalidation-rmse:1757.81157                                               \n",
      "[64]\tvalidation-rmse:1757.81156                                               \n",
      "[65]\tvalidation-rmse:1757.81155                                               \n",
      "[66]\tvalidation-rmse:1757.81154                                               \n",
      "[67]\tvalidation-rmse:1757.81150                                               \n",
      "[68]\tvalidation-rmse:1757.81148                                               \n",
      "[69]\tvalidation-rmse:1757.81148                                               \n",
      "[70]\tvalidation-rmse:1757.81148                                               \n",
      "[71]\tvalidation-rmse:1757.81149                                               \n",
      "[72]\tvalidation-rmse:1757.81148                                               \n",
      "[73]\tvalidation-rmse:1757.81148                                               \n",
      "[74]\tvalidation-rmse:1757.81147                                               \n",
      "[75]\tvalidation-rmse:1757.81145                                               \n",
      "[76]\tvalidation-rmse:1757.81146                                               \n",
      "[77]\tvalidation-rmse:1757.81145                                               \n",
      "[78]\tvalidation-rmse:1757.81144                                               \n",
      "[79]\tvalidation-rmse:1757.81144                                               \n",
      "[80]\tvalidation-rmse:1757.81143                                               \n",
      "[81]\tvalidation-rmse:1757.81143                                               \n",
      "[82]\tvalidation-rmse:1757.81143                                               \n",
      "[83]\tvalidation-rmse:1757.81142                                               \n",
      "[84]\tvalidation-rmse:1757.81143                                               \n",
      "[85]\tvalidation-rmse:1757.81143                                               \n",
      "[86]\tvalidation-rmse:1757.81143                                               \n",
      "[87]\tvalidation-rmse:1757.81143                                               \n",
      "[88]\tvalidation-rmse:1757.81144                                               \n",
      "[89]\tvalidation-rmse:1757.81144                                               \n",
      "[90]\tvalidation-rmse:1757.81144                                               \n",
      "[91]\tvalidation-rmse:1757.81144                                               \n",
      "[92]\tvalidation-rmse:1757.81143                                               \n",
      "[93]\tvalidation-rmse:1757.81142                                               \n",
      "[94]\tvalidation-rmse:1757.81142                                               \n",
      "[95]\tvalidation-rmse:1757.81142                                               \n",
      "[96]\tvalidation-rmse:1757.81142                                               \n",
      "[97]\tvalidation-rmse:1757.81143                                               \n",
      "[98]\tvalidation-rmse:1757.81143                                               \n",
      "[99]\tvalidation-rmse:1757.81143                                               \n",
      "[100]\tvalidation-rmse:1757.81143                                              \n",
      "[101]\tvalidation-rmse:1757.81143                                              \n",
      "[102]\tvalidation-rmse:1757.81142                                              \n",
      "[103]\tvalidation-rmse:1757.81141                                              \n",
      "[104]\tvalidation-rmse:1757.81142                                              \n",
      "[105]\tvalidation-rmse:1757.81142                                              \n",
      "[106]\tvalidation-rmse:1757.81142                                              \n",
      "[107]\tvalidation-rmse:1757.81142                                              \n",
      "[108]\tvalidation-rmse:1757.81142                                              \n",
      "[109]\tvalidation-rmse:1757.81142                                              \n",
      "[110]\tvalidation-rmse:1757.81142                                              \n",
      "[111]\tvalidation-rmse:1757.81143                                              \n",
      "[112]\tvalidation-rmse:1757.81144                                              \n",
      "[113]\tvalidation-rmse:1757.81144                                              \n",
      "[114]\tvalidation-rmse:1757.81144                                              \n",
      "[115]\tvalidation-rmse:1757.81144                                              \n",
      "[116]\tvalidation-rmse:1757.81143                                              \n",
      "[117]\tvalidation-rmse:1757.81144                                              \n",
      "[118]\tvalidation-rmse:1757.81143                                              \n",
      "[0]\tvalidation-rmse:3782.80706                                                \n",
      "[1]\tvalidation-rmse:2802.25634                                                \n",
      "[2]\tvalidation-rmse:2292.89161                                                \n",
      "[3]\tvalidation-rmse:2026.22617                                                \n",
      "[4]\tvalidation-rmse:1880.32174                                                \n",
      "[5]\tvalidation-rmse:1804.06130                                                \n",
      "[6]\tvalidation-rmse:1759.29114                                                \n",
      "[7]\tvalidation-rmse:1746.66367                                                \n",
      "[8]\tvalidation-rmse:1741.72423                                                \n",
      "[9]\tvalidation-rmse:1752.44322                                                \n",
      "[10]\tvalidation-rmse:1749.87302                                               \n",
      "[11]\tvalidation-rmse:1750.77295                                               \n",
      "[12]\tvalidation-rmse:1758.81156                                               \n",
      "[13]\tvalidation-rmse:1756.69591                                               \n",
      "[14]\tvalidation-rmse:1766.17347                                               \n",
      "[15]\tvalidation-rmse:1769.57432                                               \n",
      "[16]\tvalidation-rmse:1782.82919                                               \n",
      "[17]\tvalidation-rmse:1788.42732                                               \n",
      "[18]\tvalidation-rmse:1793.12254                                               \n",
      "[19]\tvalidation-rmse:1793.96416                                               \n",
      "[20]\tvalidation-rmse:1793.25295                                               \n",
      "[21]\tvalidation-rmse:1792.20600                                               \n",
      "[22]\tvalidation-rmse:1792.03693                                               \n",
      "[23]\tvalidation-rmse:1789.47574                                               \n",
      "[0]\tvalidation-rmse:4631.90333                                                \n",
      "[1]\tvalidation-rmse:3898.96246                                                \n",
      "[2]\tvalidation-rmse:3346.89194                                                \n",
      "[3]\tvalidation-rmse:2938.49267                                                \n",
      "[4]\tvalidation-rmse:2629.87100                                                \n",
      "[5]\tvalidation-rmse:2396.91226                                                \n",
      "[6]\tvalidation-rmse:2228.54136                                                \n",
      "[7]\tvalidation-rmse:2096.61125                                                \n",
      "[8]\tvalidation-rmse:2006.55546                                                \n",
      "[9]\tvalidation-rmse:1934.13644                                                \n",
      "[10]\tvalidation-rmse:1882.67549                                               \n",
      "[11]\tvalidation-rmse:1846.41882                                               \n",
      "[12]\tvalidation-rmse:1809.50767                                               \n",
      "[13]\tvalidation-rmse:1792.96348                                               \n",
      "[14]\tvalidation-rmse:1781.87604                                               \n",
      "[15]\tvalidation-rmse:1773.76931                                               \n",
      "[16]\tvalidation-rmse:1763.92149                                               \n",
      "[17]\tvalidation-rmse:1759.35831                                               \n",
      "[18]\tvalidation-rmse:1751.85996                                               \n",
      "[19]\tvalidation-rmse:1752.14001                                               \n",
      "[20]\tvalidation-rmse:1751.69692                                               \n",
      "[21]\tvalidation-rmse:1748.79119                                               \n",
      "[22]\tvalidation-rmse:1750.43824                                               \n",
      "[23]\tvalidation-rmse:1750.18822                                               \n",
      "[24]\tvalidation-rmse:1747.59719                                               \n",
      "[25]\tvalidation-rmse:1751.03336                                               \n",
      "[26]\tvalidation-rmse:1752.04021                                               \n",
      "[27]\tvalidation-rmse:1755.17663                                               \n",
      "[28]\tvalidation-rmse:1755.07245                                               \n",
      "[29]\tvalidation-rmse:1748.71576                                               \n",
      "[30]\tvalidation-rmse:1751.19696                                               \n",
      "[31]\tvalidation-rmse:1752.91686                                               \n",
      "[32]\tvalidation-rmse:1753.03878                                               \n",
      "[33]\tvalidation-rmse:1755.63898                                               \n",
      "[34]\tvalidation-rmse:1757.07864                                               \n",
      "[35]\tvalidation-rmse:1758.73598                                               \n",
      "[36]\tvalidation-rmse:1751.66082                                               \n",
      "[37]\tvalidation-rmse:1756.66952                                               \n",
      "[38]\tvalidation-rmse:1760.57513                                               \n",
      "[39]\tvalidation-rmse:1762.93992                                               \n",
      "100%|██████████| 20/20 [09:09<00:00, 27.45s/it, best loss: 1614.9694962921967]\n"
     ]
    }
   ],
   "source": [
    "search_space = {\n",
    "    'max_depth': scope.int(hp.quniform('max_depth', 2, 25, 1)),\n",
    "    'learning_rate': hp.loguniform('learning_rate', -3, 0),\n",
    "    'reg_alpha': hp.loguniform('reg_alpha', -5, -1),\n",
    "    'reg_lambda': hp.loguniform('reg_lambda', -6, -1),\n",
    "    'min_child_weight': hp.loguniform('min_child_weight', -1, 3),\n",
    "    'objective': hp.choice('objective', ['reg:squarederror','reg:linear']),              # 'reg:squarederror',\n",
    "    'tree_method': 'gpu_hist',\n",
    "    'seed': 42\n",
    "}\n",
    "\n",
    "best_result = fmin(\n",
    "    fn=objective,\n",
    "    space=search_space,\n",
    "    algo=tpe.suggest,\n",
    "    max_evals=20,\n",
    "    trials=Trials()\n",
    ")"
   ],
   "metadata": {
    "collapsed": false
   }
  },
  {
   "cell_type": "markdown",
   "source": [
    "### ElasticNet Regression"
   ],
   "metadata": {
    "collapsed": false
   }
  },
  {
   "cell_type": "code",
   "execution_count": 19,
   "outputs": [],
   "source": [
    "from sklearn.linear_model import ElasticNet"
   ],
   "metadata": {
    "collapsed": false
   }
  },
  {
   "cell_type": "code",
   "execution_count": 20,
   "outputs": [],
   "source": [
    "def evaluate(y, pred):\n",
    "    rmse = mean_squared_error(y, pred, squared=False)\n",
    "    mae = mean_absolute_error(y, pred)\n",
    "    r2 = r2_score(y, pred)\n",
    "    return rmse, mae, r2"
   ],
   "metadata": {
    "collapsed": false
   }
  },
  {
   "cell_type": "code",
   "execution_count": 33,
   "outputs": [],
   "source": [
    "def objective_EN(params):\n",
    "    with mlflow.start_run():\n",
    "        mlflow.set_tag(\"model\", \"ElasticNet\")\n",
    "        mlflow.log_params(params)\n",
    "\n",
    "        lr = ElasticNet(**params)\n",
    "        lr.fit(train_x,train_y)\n",
    "\n",
    "        pred = lr.predict(validation_x)\n",
    "\n",
    "        rmse,mae,r2 = evaluate(validation_y, pred)\n",
    "        score = lr.score(validation_x, validation_y)\n",
    "        mlflow.log_metric(\"accuracy\", score)\n",
    "        mlflow.log_metric(\"rmse\", rmse)\n",
    "        mlflow.log_metric(\"mae\",mae)\n",
    "        mlflow.log_metric(\"r2\",r2)\n",
    "\n",
    "    return {'loss': rmse, 'status': STATUS_OK}"
   ],
   "metadata": {
    "collapsed": false
   }
  },
  {
   "cell_type": "code",
   "execution_count": 34,
   "outputs": [],
   "source": [
    "search_space_EN = {\n",
    "    'alpha' : hp.loguniform('alpha', -3, 1),\n",
    "    'l1_ratio' : hp.uniform('l1_ratio', 0, 1)\n",
    "}"
   ],
   "metadata": {
    "collapsed": false
   }
  },
  {
   "cell_type": "code",
   "execution_count": 35,
   "outputs": [
    {
     "name": "stdout",
     "output_type": "stream",
     "text": [
      "100%|██████████| 20/20 [00:31<00:00,  1.59s/it, best loss: 1211.5176534516222]\n"
     ]
    }
   ],
   "source": [
    "best_result_EN = fmin(\n",
    "    fn=objective_EN,\n",
    "    space=search_space_EN,\n",
    "    algo=tpe.suggest,\n",
    "    max_evals=20,\n",
    "    trials=Trials()\n",
    ")"
   ],
   "metadata": {
    "collapsed": false
   }
  },
  {
   "cell_type": "markdown",
   "source": [
    "### SGD Regressor"
   ],
   "metadata": {
    "collapsed": false
   }
  },
  {
   "cell_type": "code",
   "execution_count": 36,
   "outputs": [],
   "source": [
    "from sklearn.linear_model import SGDRegressor"
   ],
   "metadata": {
    "collapsed": false
   }
  },
  {
   "cell_type": "code",
   "execution_count": 38,
   "outputs": [],
   "source": [
    "def objective_SGD(params):\n",
    "    with mlflow.start_run():\n",
    "        mlflow.set_tag(\"model\", \"SGDRegressor\")\n",
    "        mlflow.log_params(params)\n",
    "\n",
    "        lr = SGDRegressor(**params)\n",
    "        lr.fit(train_x, train_y)\n",
    "\n",
    "        pred = lr.predict(validation_x)\n",
    "\n",
    "        rmse,mae,r2 = evaluate(validation_y, pred)\n",
    "        score = lr.score(validation_x, validation_y)\n",
    "        mlflow.log_metric(\"accuracy\", score)\n",
    "        mlflow.log_metric(\"rmse\", rmse)\n",
    "        mlflow.log_metric(\"mae\",mae)\n",
    "        mlflow.log_metric(\"r2\",r2)\n",
    "\n",
    "    return {'loss': rmse, 'status': STATUS_OK}"
   ],
   "metadata": {
    "collapsed": false
   }
  },
  {
   "cell_type": "code",
   "execution_count": 39,
   "outputs": [],
   "source": [
    "search_space_SGD = {\n",
    "    \"penalty\": hp.choice('penalty', ['l1', 'l2']),\n",
    "    \"alpha\": hp.loguniform('alpha', -3, 1),\n",
    "    \"learning_rate\": hp.choice('learning_rate', [\"optimal\", \"adaptive\"])\n",
    "}"
   ],
   "metadata": {
    "collapsed": false
   }
  },
  {
   "cell_type": "code",
   "execution_count": 40,
   "outputs": [
    {
     "name": "stdout",
     "output_type": "stream",
     "text": [
      "  0%|          | 0/20 [00:00<?, ?it/s, best loss: ?]"
     ]
    },
    {
     "name": "stderr",
     "output_type": "stream",
     "text": [
      "C:\\Users\\Alienware\\AppData\\Roaming\\Python\\Python37\\site-packages\\sklearn\\linear_model\\_stochastic_gradient.py:1507: ConvergenceWarning: Maximum number of iteration reached before convergence. Consider increasing max_iter to improve the fit.\n",
      "  ConvergenceWarning,\n",
      "\n"
     ]
    },
    {
     "name": "stdout",
     "output_type": "stream",
     "text": [
      "  5%|▌         | 1/20 [00:05<01:49,  5.77s/it, best loss: 1436.9637988958848]"
     ]
    },
    {
     "name": "stderr",
     "output_type": "stream",
     "text": [
      "C:\\Users\\Alienware\\AppData\\Roaming\\Python\\Python37\\site-packages\\sklearn\\linear_model\\_stochastic_gradient.py:1507: ConvergenceWarning: Maximum number of iteration reached before convergence. Consider increasing max_iter to improve the fit.\n",
      "  ConvergenceWarning,\n",
      "\n"
     ]
    },
    {
     "name": "stdout",
     "output_type": "stream",
     "text": [
      " 10%|█         | 2/20 [00:10<01:37,  5.41s/it, best loss: 1436.9637988958848]"
     ]
    },
    {
     "name": "stderr",
     "output_type": "stream",
     "text": [
      "C:\\Users\\Alienware\\AppData\\Roaming\\Python\\Python37\\site-packages\\sklearn\\linear_model\\_stochastic_gradient.py:1507: ConvergenceWarning: Maximum number of iteration reached before convergence. Consider increasing max_iter to improve the fit.\n",
      "  ConvergenceWarning,\n",
      "\n"
     ]
    },
    {
     "name": "stdout",
     "output_type": "stream",
     "text": [
      " 70%|███████   | 14/20 [00:31<00:08,  1.45s/it, best loss: 1208.3368870924082]"
     ]
    },
    {
     "name": "stderr",
     "output_type": "stream",
     "text": [
      "C:\\Users\\Alienware\\AppData\\Roaming\\Python\\Python37\\site-packages\\sklearn\\linear_model\\_stochastic_gradient.py:1507: ConvergenceWarning: Maximum number of iteration reached before convergence. Consider increasing max_iter to improve the fit.\n",
      "  ConvergenceWarning,\n",
      "\n"
     ]
    },
    {
     "name": "stdout",
     "output_type": "stream",
     "text": [
      " 75%|███████▌  | 15/20 [00:36<00:11,  2.29s/it, best loss: 1208.3368870924082]"
     ]
    },
    {
     "name": "stderr",
     "output_type": "stream",
     "text": [
      "C:\\Users\\Alienware\\AppData\\Roaming\\Python\\Python37\\site-packages\\sklearn\\linear_model\\_stochastic_gradient.py:1507: ConvergenceWarning: Maximum number of iteration reached before convergence. Consider increasing max_iter to improve the fit.\n",
      "  ConvergenceWarning,\n",
      "\n"
     ]
    },
    {
     "name": "stdout",
     "output_type": "stream",
     "text": [
      " 95%|█████████▌| 19/20 [00:44<00:01,  1.89s/it, best loss: 1208.3368870924082]"
     ]
    },
    {
     "name": "stderr",
     "output_type": "stream",
     "text": [
      "C:\\Users\\Alienware\\AppData\\Roaming\\Python\\Python37\\site-packages\\sklearn\\linear_model\\_stochastic_gradient.py:1507: ConvergenceWarning: Maximum number of iteration reached before convergence. Consider increasing max_iter to improve the fit.\n",
      "  ConvergenceWarning,\n",
      "\n"
     ]
    },
    {
     "name": "stdout",
     "output_type": "stream",
     "text": [
      "100%|██████████| 20/20 [00:49<00:00,  2.49s/it, best loss: 1208.3368870924082]\n"
     ]
    }
   ],
   "source": [
    "best_result_SGD = fmin(\n",
    "    fn=objective_SGD,\n",
    "    space=search_space_SGD,\n",
    "    algo=tpe.suggest,\n",
    "    max_evals=20,\n",
    "    trials=Trials()\n",
    ")"
   ],
   "metadata": {
    "collapsed": false
   }
  },
  {
   "cell_type": "markdown",
   "source": [
    "### Support Vector Regression"
   ],
   "metadata": {
    "collapsed": false
   }
  },
  {
   "cell_type": "code",
   "execution_count": 41,
   "outputs": [],
   "source": [
    "from sklearn.svm import SVR"
   ],
   "metadata": {
    "collapsed": false
   }
  },
  {
   "cell_type": "code",
   "execution_count": 42,
   "outputs": [],
   "source": [
    "def objective_SVR(params):\n",
    "    with mlflow.start_run():\n",
    "        mlflow.set_tag(\"model\", \"SVR\")\n",
    "        mlflow.log_params(params)\n",
    "\n",
    "        lr = SVR(**params)\n",
    "        lr.fit(train_x, train_y)\n",
    "\n",
    "        pred = lr.predict(validation_x)\n",
    "\n",
    "        rmse,mae,r2 = evaluate(validation_y, pred)\n",
    "        score = lr.score(validation_x, validation_y)\n",
    "        mlflow.log_metric(\"accuracy\", score)\n",
    "        mlflow.log_metric(\"rmse\", rmse)\n",
    "        mlflow.log_metric(\"mae\",mae)\n",
    "        mlflow.log_metric(\"r2\",r2)\n",
    "\n",
    "    return {'loss': rmse, 'status': STATUS_OK}"
   ],
   "metadata": {
    "collapsed": false
   }
  },
  {
   "cell_type": "code",
   "execution_count": 45,
   "outputs": [],
   "source": [
    "search_space_SVR = {\n",
    "    \"kernel\": hp.choice('kernel', [\"linear\", \"rbf\"]),\n",
    "    \"C\": hp.choice('svm_C', [10, 100, 1000]),\n",
    "    \"gamma\": hp.choice('gamma', [\"scale\", \"auto\"])\n",
    "}"
   ],
   "metadata": {
    "collapsed": false
   }
  },
  {
   "cell_type": "code",
   "execution_count": 46,
   "outputs": [
    {
     "name": "stdout",
     "output_type": "stream",
     "text": [
      "100%|██████████| 20/20 [48:55<00:00, 146.78s/it, best loss: 647.0305585468889] \n"
     ]
    }
   ],
   "source": [
    "best_result_SVR = fmin(\n",
    "    fn=objective_SVR,\n",
    "    space=search_space_SVR,\n",
    "    algo=tpe.suggest,\n",
    "    max_evals=20,\n",
    "    trials=Trials()\n",
    ")"
   ],
   "metadata": {
    "collapsed": false
   }
  },
  {
   "cell_type": "markdown",
   "source": [
    "## Model selection and registry\n",
    "\n",
    "### Model tracking"
   ],
   "metadata": {
    "collapsed": false
   }
  },
  {
   "cell_type": "code",
   "execution_count": 47,
   "outputs": [],
   "source": [
    "from mlflow.tracking import MlflowClient\n",
    "from mlflow.entities import ViewType"
   ],
   "metadata": {
    "collapsed": false
   }
  },
  {
   "cell_type": "code",
   "execution_count": 48,
   "outputs": [
    {
     "data": {
      "text/plain": "[<Experiment: artifact_location='./mlruns/2', creation_time=1691677228447, experiment_id='2', last_update_time=1691677228447, lifecycle_stage='active', name='diamonds-price-experiment', tags={}>,\n <Experiment: artifact_location='./mlruns/1', creation_time=1691571810964, experiment_id='1', last_update_time=1691571810964, lifecycle_stage='active', name='MSFT-stock-experiment', tags={}>,\n <Experiment: artifact_location='./mlruns/0', creation_time=1691571810833, experiment_id='0', last_update_time=1691571810833, lifecycle_stage='active', name='Default', tags={}>]"
     },
     "execution_count": 48,
     "metadata": {},
     "output_type": "execute_result"
    }
   ],
   "source": [
    "ml_flow_client = MlflowClient(tracking_uri=MLFLOW_TRACKING_URI)\n",
    "ml_flow_client.search_experiments()"
   ],
   "metadata": {
    "collapsed": false
   }
  },
  {
   "cell_type": "code",
   "execution_count": 50,
   "outputs": [
    {
     "name": "stdout",
     "output_type": "stream",
     "text": [
      "Number of runs where RSME is less than 0.475 is: 15\n",
      "-----------------\n"
     ]
    },
    {
     "data": {
      "text/plain": "[<Run: data=<RunData: metrics={'accuracy': 0.9737062301668077,\n  'mae': 357.8287960118412,\n  'r2': 0.9737062301668077,\n  'rmse': 647.0305585468889}, params={'C': '1000', 'gamma': 'auto', 'kernel': 'rbf'}, tags={'mlflow.runName': 'casual-mare-969',\n  'mlflow.source.name': 'D:\\\\Anaconda3\\\\lib\\\\site-packages\\\\ipykernel_launcher.py',\n  'mlflow.source.type': 'LOCAL',\n  'mlflow.user': 'Alienware',\n  'model': 'SVR'}>, info=<RunInfo: artifact_uri='./mlruns/2/c5cfa3fd18a04e85a2a28c03147ded4e/artifacts', end_time=1691688317913, experiment_id='2', lifecycle_stage='active', run_id='c5cfa3fd18a04e85a2a28c03147ded4e', run_name='casual-mare-969', run_uuid='c5cfa3fd18a04e85a2a28c03147ded4e', start_time=1691688118252, status='FINISHED', user_id='Alienware'>>,\n <Run: data=<RunData: metrics={'accuracy': 0.9737062279702726,\n  'mae': 357.8289109229976,\n  'r2': 0.9737062279702726,\n  'rmse': 647.0305855727838}, params={'C': '1000', 'gamma': 'scale', 'kernel': 'rbf'}, tags={'mlflow.runName': 'merciful-cod-391',\n  'mlflow.source.name': 'D:\\\\Anaconda3\\\\lib\\\\site-packages\\\\ipykernel_launcher.py',\n  'mlflow.source.type': 'LOCAL',\n  'mlflow.user': 'Alienware',\n  'model': 'SVR'}>, info=<RunInfo: artifact_uri='./mlruns/2/d44eeedfec87408f97e685e0d1298a90/artifacts', end_time=1691688685110, experiment_id='2', lifecycle_stage='active', run_id='d44eeedfec87408f97e685e0d1298a90', run_name='merciful-cod-391', run_uuid='d44eeedfec87408f97e685e0d1298a90', start_time=1691688484803, status='FINISHED', user_id='Alienware'>>,\n <Run: data=<RunData: metrics={'accuracy': 0.9737062279702726,\n  'mae': 357.8289109229976,\n  'r2': 0.9737062279702726,\n  'rmse': 647.0305855727838}, params={'C': '1000', 'gamma': 'scale', 'kernel': 'rbf'}, tags={'mlflow.runName': 'fun-sheep-370',\n  'mlflow.source.name': 'D:\\\\Anaconda3\\\\lib\\\\site-packages\\\\ipykernel_launcher.py',\n  'mlflow.source.type': 'LOCAL',\n  'mlflow.user': 'Alienware',\n  'model': 'SVR'}>, info=<RunInfo: artifact_uri='./mlruns/2/6e4bf6a9addd4c8088f38b0ea1eb964c/artifacts', end_time=1691687360164, experiment_id='2', lifecycle_stage='active', run_id='6e4bf6a9addd4c8088f38b0ea1eb964c', run_name='fun-sheep-370', run_uuid='6e4bf6a9addd4c8088f38b0ea1eb964c', start_time=1691687159375, status='FINISHED', user_id='Alienware'>>]"
     },
     "execution_count": 50,
     "metadata": {},
     "output_type": "execute_result"
    }
   ],
   "source": [
    "runs = ml_flow_client.search_runs(\n",
    "    experiment_ids='2',\n",
    "    filter_string=\"metrics.accuracy > 0.9075\",\n",
    "    run_view_type=ViewType.ACTIVE_ONLY,\n",
    "    max_results=15,\n",
    "    order_by=[\"metrics.rmse ASC\"]\n",
    ")\n",
    "print(f\"Number of runs where accuracy is less than 0.9075 is: {len(runs)}\\n-----------------\")\n",
    "runs[0:3]"
   ],
   "metadata": {
    "collapsed": false
   }
  },
  {
   "cell_type": "code",
   "execution_count": 51,
   "outputs": [
    {
     "name": "stdout",
     "output_type": "stream",
     "text": [
      "model name: SVR, run id: c5cfa3fd18a04e85a2a28c03147ded4e, rmse: 647.0306\n",
      "model name: SVR, run id: d44eeedfec87408f97e685e0d1298a90, rmse: 647.0306\n",
      "model name: SVR, run id: 6e4bf6a9addd4c8088f38b0ea1eb964c, rmse: 647.0306\n",
      "model name: SVR, run id: a1c9ebceb33649d9903e4a0c9d1c0858, rmse: 767.6516\n",
      "model name: SVR, run id: 75979e6de79342fb85f56b2eee0e5b8a, rmse: 767.6516\n",
      "model name: SVR, run id: 6346b6f245ff44508148e9855c0ce06e, rmse: 767.6516\n",
      "model name: SVR, run id: 178d44e2f4ef41d9b8e2771415dc67cd, rmse: 767.6516\n",
      "model name: SGDRegressor, run id: eea096ac3c0f4ab39d861688c98bc945, rmse: 1208.3369\n",
      "model name: SGDRegressor, run id: fcb45f74c1384abbbaba78a8991cf027, rmse: 1208.8362\n",
      "model name: SGDRegressor, run id: ec72ad16500d4025b7f6519a3703cbc9, rmse: 1208.9492\n",
      "model name: SGDRegressor, run id: 7c60112dfac14aa6bb55ef9400081b93, rmse: 1210.4206\n",
      "model name: SGDRegressor, run id: a6734efedd9a40ef825026d32cad7e9b, rmse: 1210.9508\n",
      "model name: ElasticNet, run id: 53ef8901f8bb4002b53d8a7422a83497, rmse: 1211.5177\n",
      "model name: SGDRegressor, run id: d6f53997268f42c69d673857ce087ff7, rmse: 1211.5723\n",
      "model name: ElasticNet, run id: beedd2ca7d4d424d92595528d71e3417, rmse: 1212.8870\n"
     ]
    }
   ],
   "source": [
    "for run in runs:\n",
    "    print(f\"model name: {run.data.tags['model']}, run id: {run.info.run_id}, rmse: {run.data.metrics['rmse']:.4f}\")"
   ],
   "metadata": {
    "collapsed": false
   }
  },
  {
   "cell_type": "markdown",
   "source": [
    "- We get the top 15 models above based on top 12 low RMSE values of those models\n",
    "- For our MSFT stocks data, we found out that SGDRegressor, SVR and ElasticNet models yields low RMSE values.\n",
    "- Below we will re-train the respective models using the best params found in the above runs for them."
   ],
   "metadata": {
    "collapsed": false
   }
  },
  {
   "cell_type": "code",
   "execution_count": 52,
   "outputs": [],
   "source": [
    "# acquiring best parameters for each model\n",
    "interested_run_indices = [0,        # SVR\n",
    "                          7,        # SGDRegressor\n",
    "                          12]       # ElasticNet\n",
    "\n",
    "params_dict = {}\n",
    "models_dict = {}"
   ],
   "metadata": {
    "collapsed": false
   }
  },
  {
   "cell_type": "code",
   "execution_count": 53,
   "outputs": [
    {
     "data": {
      "text/plain": "{'SVR_r0': {'run_id': 'c5cfa3fd18a04e85a2a28c03147ded4e',\n  'params': {'C': '1000', 'gamma': 'auto', 'kernel': 'rbf'}},\n 'SGDRegressor_r7': {'run_id': 'eea096ac3c0f4ab39d861688c98bc945',\n  'params': {'alpha': '0.9261551556523054',\n   'learning_rate': 'adaptive',\n   'penalty': 'l1'}},\n 'ElasticNet_r12': {'run_id': '53ef8901f8bb4002b53d8a7422a83497',\n  'params': {'alpha': '0.05069452355618102',\n   'l1_ratio': '0.9964817442518504'}}}"
     },
     "execution_count": 53,
     "metadata": {},
     "output_type": "execute_result"
    }
   ],
   "source": [
    "for i in interested_run_indices:\n",
    "    model_name_extracted = runs[i].data.tags['model']\n",
    "    params_dict = runs[i].data.params\n",
    "    run_id = runs[i].info.run_id\n",
    "    key = model_name_extracted + f'_r{i}'\n",
    "    models_dict[key] = {\n",
    "        'run_id': run_id,\n",
    "        'params': params_dict\n",
    "    }\n",
    "\n",
    "models_dict"
   ],
   "metadata": {
    "collapsed": false
   }
  },
  {
   "cell_type": "code",
   "execution_count": 54,
   "outputs": [],
   "source": [
    "# training the models with best parameters and saving these newly trained models as artifacts in MLFlow\n",
    "def formatting_dictionary_values(dict):\n",
    "    for k, v in dict.items():\n",
    "        try:\n",
    "            dict[k] = float(v)\n",
    "        except ValueError:\n",
    "            dict[k] = v\n",
    "    return dict"
   ],
   "metadata": {
    "collapsed": false
   }
  },
  {
   "cell_type": "code",
   "execution_count": 55,
   "outputs": [],
   "source": [
    "def training_model_with_best_params(model_name: str, best_params: dict):\n",
    "    if model_name == 'SGDRegressor':\n",
    "        reg = SGDRegressor(**best_params)\n",
    "    elif model_name == 'SVR':\n",
    "        reg = SVR(**best_params)\n",
    "    elif model_name.lower() == 'elasticnet':\n",
    "        reg = ElasticNet(**best_params)\n",
    "    else:\n",
    "        print(\"Not a valid model name\")\n",
    "        raise\n",
    "    return reg"
   ],
   "metadata": {
    "collapsed": false
   }
  },
  {
   "cell_type": "code",
   "execution_count": 57,
   "outputs": [
    {
     "name": "stdout",
     "output_type": "stream",
     "text": [
      "SVR(C=1000.0, gamma='auto')\n",
      "SGDRegressor(alpha=0.9261551556523054, learning_rate='adaptive', penalty='l1')\n",
      "ElasticNet(alpha=0.05069452355618102, l1_ratio=0.9964817442518504)\n"
     ]
    }
   ],
   "source": [
    "# all the best models are from sklearn library so will be using mlflow.sklearn.log_model() for saving the artifacts here\n",
    "for key, value in models_dict.items():\n",
    "    # print(key, '\\n', value)\n",
    "    model_name_to_train = key.split('_')[0]\n",
    "    best_params_for_model = formatting_dictionary_values(dict=value['params'])\n",
    "    with mlflow.start_run():\n",
    "        mlflow.set_tag(\"model\", f\"{model_name_to_train}_best\")\n",
    "        mlflow.log_params(best_params_for_model)\n",
    "\n",
    "        reg = training_model_with_best_params(model_name=model_name_to_train,\n",
    "                                              best_params=best_params_for_model)\n",
    "        print(reg)\n",
    "        reg.fit(train_x, train_y)\n",
    "\n",
    "        pred = reg.predict(validation_x)\n",
    "        sklearn.log_model(sk_model=reg, artifact_path='model_artifact')\n",
    "\n",
    "        rmse, mae, r2 = evaluate(validation_y, pred)\n",
    "        score = reg.score(validation_x, validation_y)\n",
    "        mlflow.log_metric(\"rmse\", rmse)\n",
    "        mlflow.log_metric(\"mae\", mae)\n",
    "        mlflow.log_metric(\"r2\", r2)\n",
    "        mlflow.log_metric(\"accuracy\", score)\n"
   ],
   "metadata": {
    "collapsed": false
   }
  },
  {
   "cell_type": "code",
   "execution_count": 65,
   "outputs": [
    {
     "name": "stdout",
     "output_type": "stream",
     "text": [
      "Number of runs where accuracy is less than 0.9075 is: 20\n",
      "-----------------\n"
     ]
    }
   ],
   "source": [
    "# acquiring the run ids for the models to register\n",
    "runs = ml_flow_client.search_runs(\n",
    "    experiment_ids='2',\n",
    "    filter_string=\"metrics.accuracy > 0.9075\",\n",
    "    run_view_type=ViewType.ACTIVE_ONLY,\n",
    "    max_results=20,\n",
    "    order_by=[\"metrics.rmse ASC\"]\n",
    ")\n",
    "print(f\"Number of runs where accuracy is less than 0.9075 is: {len(runs)}\\n-----------------\")"
   ],
   "metadata": {
    "collapsed": false
   }
  },
  {
   "cell_type": "code",
   "execution_count": 66,
   "outputs": [
    {
     "name": "stdout",
     "output_type": "stream",
     "text": [
      "model name: SVR_best, run id: 5dd101d8d808403dac580024d8936533, rmse: 647.0306\n",
      "model name: SVR_best, run id: fb6cadc9593a483c99be2edad2e3b947, rmse: 647.0306\n",
      "model name: SVR, run id: c5cfa3fd18a04e85a2a28c03147ded4e, rmse: 647.0306\n",
      "model name: SVR, run id: d44eeedfec87408f97e685e0d1298a90, rmse: 647.0306\n",
      "model name: SVR, run id: 6e4bf6a9addd4c8088f38b0ea1eb964c, rmse: 647.0306\n",
      "model name: SVR, run id: a1c9ebceb33649d9903e4a0c9d1c0858, rmse: 767.6516\n",
      "model name: SVR, run id: 75979e6de79342fb85f56b2eee0e5b8a, rmse: 767.6516\n",
      "model name: SVR, run id: 6346b6f245ff44508148e9855c0ce06e, rmse: 767.6516\n",
      "model name: SVR, run id: 178d44e2f4ef41d9b8e2771415dc67cd, rmse: 767.6516\n",
      "model name: SGDRegressor, run id: eea096ac3c0f4ab39d861688c98bc945, rmse: 1208.3369\n",
      "model name: SGDRegressor, run id: fcb45f74c1384abbbaba78a8991cf027, rmse: 1208.8362\n",
      "model name: SGDRegressor, run id: ec72ad16500d4025b7f6519a3703cbc9, rmse: 1208.9492\n",
      "model name: SGDRegressor_best, run id: 550c00c1b5e547029e4d46f1623ec14f, rmse: 1209.2294\n",
      "model name: SGDRegressor_best, run id: 4a3975726b3341d5b11534eba6c9ddc1, rmse: 1209.2800\n",
      "model name: SGDRegressor, run id: 7c60112dfac14aa6bb55ef9400081b93, rmse: 1210.4206\n",
      "model name: SGDRegressor, run id: a6734efedd9a40ef825026d32cad7e9b, rmse: 1210.9508\n",
      "model name: ElasticNet_best, run id: de190e779259475f9df1db87ba56c721, rmse: 1211.5177\n",
      "model name: ElasticNet, run id: 53ef8901f8bb4002b53d8a7422a83497, rmse: 1211.5177\n",
      "model name: SGDRegressor, run id: d6f53997268f42c69d673857ce087ff7, rmse: 1211.5723\n",
      "model name: ElasticNet, run id: beedd2ca7d4d424d92595528d71e3417, rmse: 1212.8870\n"
     ]
    }
   ],
   "source": [
    "for run in runs:\n",
    "    print(f\"model name: {run.data.tags['model']}, run id: {run.info.run_id}, rmse: {run.data.metrics['rmse']:.4f}\")"
   ],
   "metadata": {
    "collapsed": false
   }
  },
  {
   "cell_type": "code",
   "execution_count": 67,
   "outputs": [],
   "source": [
    "# acquiring best parameters for each model\n",
    "interested_run_indices = [0,        # SVR\n",
    "                          12,        # SGDRegressor\n",
    "                          16]\n",
    "models_for_registering = {}"
   ],
   "metadata": {
    "collapsed": false
   }
  },
  {
   "cell_type": "code",
   "execution_count": 68,
   "outputs": [
    {
     "data": {
      "text/plain": "{'SVR': '5dd101d8d808403dac580024d8936533',\n 'SGDRegressor': '550c00c1b5e547029e4d46f1623ec14f',\n 'ElasticNet': 'de190e779259475f9df1db87ba56c721'}"
     },
     "execution_count": 68,
     "metadata": {},
     "output_type": "execute_result"
    }
   ],
   "source": [
    "for i in interested_run_indices:\n",
    "    model_name_extracted = runs[i].data.tags['model'].split('_')[0]\n",
    "    run_id = runs[i].info.run_id\n",
    "    key = model_name_extracted\n",
    "    models_for_registering[key] = run_id\n",
    "\n",
    "models_for_registering"
   ],
   "metadata": {
    "collapsed": false
   }
  },
  {
   "cell_type": "markdown",
   "source": [
    "Above are the best models selected by us for different Algorithms\n",
    "\n",
    "### Model Registry"
   ],
   "metadata": {
    "collapsed": false
   }
  },
  {
   "cell_type": "code",
   "execution_count": 69,
   "outputs": [
    {
     "name": "stderr",
     "output_type": "stream",
     "text": [
      "Successfully registered model 'diamonds_price_predictor'.\n",
      "2023/08/11 08:58:19 INFO mlflow.tracking._model_registry.client: Waiting up to 300 seconds for model version to finish creation.                     Model name: diamonds_price_predictor, version 1\n",
      "Created version '1' of model 'diamonds_price_predictor'.\n"
     ]
    },
    {
     "data": {
      "text/plain": "<ModelVersion: creation_timestamp=1691724498971, current_stage='None', description=None, last_updated_timestamp=1691724498971, name='diamonds_price_predictor', run_id='de190e779259475f9df1db87ba56c721', run_link=None, source='./mlruns/2/de190e779259475f9df1db87ba56c721/artifacts/model_artifact', status='READY', status_message=None, tags={}, user_id=None, version=1>"
     },
     "execution_count": 69,
     "metadata": {},
     "output_type": "execute_result"
    }
   ],
   "source": [
    "# Creating the model-name and registering ElasticNet as first version model to it\n",
    "en_run_id = models_for_registering['ElasticNet']\n",
    "artifact_name = 'model_artifact'\n",
    "model_uri = f'runs:/{en_run_id}/{artifact_name}'\n",
    "model_name_mlflow = 'diamonds_price_predictor'\n",
    "\n",
    "mlflow.register_model(model_uri=model_uri, name=model_name_mlflow)"
   ],
   "metadata": {
    "collapsed": false
   }
  },
  {
   "cell_type": "code",
   "execution_count": 70,
   "outputs": [
    {
     "data": {
      "text/plain": "<ModelVersion: creation_timestamp=1691724498971, current_stage='Staging', description=None, last_updated_timestamp=1691725284442, name='diamonds_price_predictor', run_id='de190e779259475f9df1db87ba56c721', run_link=None, source='./mlruns/2/de190e779259475f9df1db87ba56c721/artifacts/model_artifact', status='READY', status_message=None, tags={}, user_id=None, version=1>"
     },
     "execution_count": 70,
     "metadata": {},
     "output_type": "execute_result"
    }
   ],
   "source": [
    "# Assigning stage to this newly created model version\n",
    "model_version = 1\n",
    "new_stage = 'Staging'\n",
    "\n",
    "ml_flow_client.transition_model_version_stage(\n",
    "    name=model_name_mlflow,\n",
    "    version=model_version,\n",
    "    stage=new_stage,\n",
    "    archive_existing_versions=False\n",
    ")"
   ],
   "metadata": {
    "collapsed": false
   }
  },
  {
   "cell_type": "code",
   "execution_count": 71,
   "outputs": [
    {
     "name": "stdout",
     "output_type": "stream",
     "text": [
      "version: 1, stage: Staging\n"
     ]
    }
   ],
   "source": [
    "# display latest version stages update of the model\n",
    "def get_status_of_latest_model_version(mlflow_client, model_name):\n",
    "    latest_versions = mlflow_client.get_latest_versions(name=model_name)\n",
    "    for version in latest_versions:\n",
    "        print(f\"version: {version.version}, stage: {version.current_stage}\")\n",
    "\n",
    "get_status_of_latest_model_version(mlflow_client=ml_flow_client,\n",
    "                                   model_name=model_name_mlflow)"
   ],
   "metadata": {
    "collapsed": false
   }
  },
  {
   "cell_type": "code",
   "execution_count": 79,
   "outputs": [],
   "source": [
    "from datetime import datetime\n",
    "\n",
    "def update_latest_change_in_model_version_description(mlflow_client, model_name, model_version, new_stage):\n",
    "    date = datetime.today().date()\n",
    "    mlflow_client.update_model_version(\n",
    "        name=model_name,\n",
    "        version=model_version,\n",
    "        description=f\"The model version {model_version} was transitioned to {new_stage} on {date}\"\n",
    "    )\n",
    "    mlflow_client.set_model_version_tag(\n",
    "        name=model_name,\n",
    "        version=model_version,\n",
    "        key='run_id',\n",
    "        value=en_run_id\n",
    "    )"
   ],
   "metadata": {
    "collapsed": false
   }
  },
  {
   "cell_type": "code",
   "execution_count": 80,
   "outputs": [],
   "source": [
    "update_latest_change_in_model_version_description(mlflow_client=ml_flow_client,\n",
    "                                                  model_name=model_name_mlflow,\n",
    "                                                  model_version=model_version,\n",
    "                                                  new_stage=new_stage)"
   ],
   "metadata": {
    "collapsed": false
   }
  },
  {
   "cell_type": "code",
   "execution_count": null,
   "outputs": [],
   "source": [],
   "metadata": {
    "collapsed": false
   }
  }
 ],
 "metadata": {
  "kernelspec": {
   "display_name": "Python 3",
   "language": "python",
   "name": "python3"
  },
  "language_info": {
   "codemirror_mode": {
    "name": "ipython",
    "version": 2
   },
   "file_extension": ".py",
   "mimetype": "text/x-python",
   "name": "python",
   "nbconvert_exporter": "python",
   "pygments_lexer": "ipython2",
   "version": "2.7.6"
  }
 },
 "nbformat": 4,
 "nbformat_minor": 0
}
